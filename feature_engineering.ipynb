{
 "cells": [
  {
   "cell_type": "markdown",
   "metadata": {
    "id": "UXl-v7E6QIU1"
   },
   "source": [
    "# Feature Engineering"
   ]
  },
  {
   "cell_type": "code",
   "execution_count": 4,
   "metadata": {
    "executionInfo": {
     "elapsed": 961,
     "status": "ok",
     "timestamp": 1615729037105,
     "user": {
      "displayName": "Ajay Jogiya",
      "photoUrl": "",
      "userId": "12844089788344129075"
     },
     "user_tz": -330
    },
    "id": "I6lRMhWzFnBf"
   },
   "outputs": [],
   "source": [
    "import pandas as pd\n",
    "import numpy as np\n",
    "import matplotlib.pyplot as plt\n",
    "import seaborn as sns\n",
    "import warnings\n",
    "warnings.filterwarnings(\"ignore\")\n",
    "from sklearn.preprocessing import StandardScaler\n",
    "import time\n",
    "from sklearn.decomposition import PCA\n",
    "from sklearn.preprocessing import LabelEncoder\n",
    "from sklearn.ensemble import RandomForestClassifier\n",
    "from sklearn.decomposition import TruncatedSVD\n",
    "from tqdm.notebook import tqdm\n",
    "from sklearn.impute import KNNImputer\n",
    "\n",
    "from service_func.service_func import *"
   ]
  },
  {
   "cell_type": "markdown",
   "metadata": {
    "id": "dBrEXZR4pxsp"
   },
   "source": [
    "## Предобработка, начало: замена пропущенных значений и восстановление методом knn"
   ]
  },
  {
   "cell_type": "code",
   "execution_count": null,
   "metadata": {
    "colab": {
     "base_uri": "https://localhost:8080/",
     "height": 150
    },
    "executionInfo": {
     "elapsed": 1856,
     "status": "ok",
     "timestamp": 1615707665412,
     "user": {
      "displayName": "ajay jogiya",
      "photoUrl": "https://lh3.googleusercontent.com/a-/AOh14GgRAXM6e1-9rIRgaPP756Iug7UkbP0azqriVDFLww=s64",
      "userId": "14152685769056492470"
     },
     "user_tz": -330
    },
    "id": "TM5KEUT4vcnG",
    "outputId": "285869fb-ba6a-4ee3-afa7-69f8d89523b4"
   },
   "outputs": [
    {
     "name": "stdout",
     "output_type": "stream",
     "text": [
      "(34403, 7)\n"
     ]
    },
    {
     "data": {
      "text/html": [
       "<div>\n",
       "<style scoped>\n",
       "    .dataframe tbody tr th:only-of-type {\n",
       "        vertical-align: middle;\n",
       "    }\n",
       "\n",
       "    .dataframe tbody tr th {\n",
       "        vertical-align: top;\n",
       "    }\n",
       "\n",
       "    .dataframe thead th {\n",
       "        text-align: right;\n",
       "    }\n",
       "</style>\n",
       "<table border=\"1\" class=\"dataframe\">\n",
       "  <thead>\n",
       "    <tr style=\"text-align: right;\">\n",
       "      <th></th>\n",
       "      <th>msno</th>\n",
       "      <th>city</th>\n",
       "      <th>bd</th>\n",
       "      <th>gender</th>\n",
       "      <th>registered_via</th>\n",
       "      <th>registration_init_time</th>\n",
       "      <th>expiration_date</th>\n",
       "    </tr>\n",
       "  </thead>\n",
       "  <tbody>\n",
       "    <tr>\n",
       "      <th>0</th>\n",
       "      <td>XQxgAYj3klVKjR3oxPPXYYFp4soD4TuBghkhMTD4oTw=</td>\n",
       "      <td>1</td>\n",
       "      <td>0</td>\n",
       "      <td>NaN</td>\n",
       "      <td>7</td>\n",
       "      <td>20110820</td>\n",
       "      <td>20170920</td>\n",
       "    </tr>\n",
       "    <tr>\n",
       "      <th>1</th>\n",
       "      <td>UizsfmJb9mV54qE9hCYyU07Va97c0lCRLEQX3ae+ztM=</td>\n",
       "      <td>1</td>\n",
       "      <td>0</td>\n",
       "      <td>NaN</td>\n",
       "      <td>7</td>\n",
       "      <td>20150628</td>\n",
       "      <td>20170622</td>\n",
       "    </tr>\n",
       "    <tr>\n",
       "      <th>2</th>\n",
       "      <td>D8nEhsIOBSoE6VthTaqDX8U6lqjJ7dLdr72mOyLya2A=</td>\n",
       "      <td>1</td>\n",
       "      <td>0</td>\n",
       "      <td>NaN</td>\n",
       "      <td>4</td>\n",
       "      <td>20160411</td>\n",
       "      <td>20170712</td>\n",
       "    </tr>\n",
       "  </tbody>\n",
       "</table>\n",
       "</div>"
      ],
      "text/plain": [
       "                                           msno  city  bd gender  \\\n",
       "0  XQxgAYj3klVKjR3oxPPXYYFp4soD4TuBghkhMTD4oTw=     1   0    NaN   \n",
       "1  UizsfmJb9mV54qE9hCYyU07Va97c0lCRLEQX3ae+ztM=     1   0    NaN   \n",
       "2  D8nEhsIOBSoE6VthTaqDX8U6lqjJ7dLdr72mOyLya2A=     1   0    NaN   \n",
       "\n",
       "   registered_via  registration_init_time  expiration_date  \n",
       "0               7                20110820         20170920  \n",
       "1               7                20150628         20170622  \n",
       "2               4                20160411         20170712  "
      ]
     },
     "execution_count": 10,
     "metadata": {},
     "output_type": "execute_result"
    }
   ],
   "source": [
    "member = pd.read_csv('data/members.csv')\n",
    "print(member.shape)\n",
    "member.head(3)"
   ]
  },
  {
   "cell_type": "code",
   "execution_count": null,
   "metadata": {
    "colab": {
     "base_uri": "https://localhost:8080/",
     "height": 170
    },
    "executionInfo": {
     "elapsed": 1035,
     "status": "ok",
     "timestamp": 1615707894829,
     "user": {
      "displayName": "ajay jogiya",
      "photoUrl": "https://lh3.googleusercontent.com/a-/AOh14GgRAXM6e1-9rIRgaPP756Iug7UkbP0azqriVDFLww=s64",
      "userId": "14152685769056492470"
     },
     "user_tz": -330
    },
    "id": "3vnk1aGV1HFP",
    "outputId": "cf21fc65-fd36-4461-dd66-10b243348457"
   },
   "outputs": [
    {
     "name": "stdout",
     "output_type": "stream",
     "text": [
      "(34403, 12)\n"
     ]
    },
    {
     "data": {
      "text/html": [
       "<div>\n",
       "<style scoped>\n",
       "    .dataframe tbody tr th:only-of-type {\n",
       "        vertical-align: middle;\n",
       "    }\n",
       "\n",
       "    .dataframe tbody tr th {\n",
       "        vertical-align: top;\n",
       "    }\n",
       "\n",
       "    .dataframe thead th {\n",
       "        text-align: right;\n",
       "    }\n",
       "</style>\n",
       "<table border=\"1\" class=\"dataframe\">\n",
       "  <thead>\n",
       "    <tr style=\"text-align: right;\">\n",
       "      <th></th>\n",
       "      <th>msno</th>\n",
       "      <th>city</th>\n",
       "      <th>bd</th>\n",
       "      <th>gender</th>\n",
       "      <th>registered_via</th>\n",
       "      <th>new_bd</th>\n",
       "      <th>regi_day</th>\n",
       "      <th>regi_month</th>\n",
       "      <th>regi_year</th>\n",
       "      <th>expire_day</th>\n",
       "      <th>expire_month</th>\n",
       "      <th>expire_year</th>\n",
       "    </tr>\n",
       "  </thead>\n",
       "  <tbody>\n",
       "    <tr>\n",
       "      <th>0</th>\n",
       "      <td>XQxgAYj3klVKjR3oxPPXYYFp4soD4TuBghkhMTD4oTw=</td>\n",
       "      <td>1</td>\n",
       "      <td>0</td>\n",
       "      <td>NaN</td>\n",
       "      <td>7</td>\n",
       "      <td>NaN</td>\n",
       "      <td>2011</td>\n",
       "      <td>8</td>\n",
       "      <td>20</td>\n",
       "      <td>2017</td>\n",
       "      <td>9</td>\n",
       "      <td>20</td>\n",
       "    </tr>\n",
       "    <tr>\n",
       "      <th>1</th>\n",
       "      <td>UizsfmJb9mV54qE9hCYyU07Va97c0lCRLEQX3ae+ztM=</td>\n",
       "      <td>1</td>\n",
       "      <td>0</td>\n",
       "      <td>NaN</td>\n",
       "      <td>7</td>\n",
       "      <td>NaN</td>\n",
       "      <td>2015</td>\n",
       "      <td>6</td>\n",
       "      <td>28</td>\n",
       "      <td>2017</td>\n",
       "      <td>6</td>\n",
       "      <td>22</td>\n",
       "    </tr>\n",
       "    <tr>\n",
       "      <th>2</th>\n",
       "      <td>D8nEhsIOBSoE6VthTaqDX8U6lqjJ7dLdr72mOyLya2A=</td>\n",
       "      <td>1</td>\n",
       "      <td>0</td>\n",
       "      <td>NaN</td>\n",
       "      <td>4</td>\n",
       "      <td>NaN</td>\n",
       "      <td>2016</td>\n",
       "      <td>4</td>\n",
       "      <td>11</td>\n",
       "      <td>2017</td>\n",
       "      <td>7</td>\n",
       "      <td>12</td>\n",
       "    </tr>\n",
       "  </tbody>\n",
       "</table>\n",
       "</div>"
      ],
      "text/plain": [
       "                                           msno  city  bd gender  \\\n",
       "0  XQxgAYj3klVKjR3oxPPXYYFp4soD4TuBghkhMTD4oTw=     1   0    NaN   \n",
       "1  UizsfmJb9mV54qE9hCYyU07Va97c0lCRLEQX3ae+ztM=     1   0    NaN   \n",
       "2  D8nEhsIOBSoE6VthTaqDX8U6lqjJ7dLdr72mOyLya2A=     1   0    NaN   \n",
       "\n",
       "   registered_via  new_bd  regi_day  regi_month  regi_year  expire_day  \\\n",
       "0               7     NaN      2011           8         20        2017   \n",
       "1               7     NaN      2015           6         28        2017   \n",
       "2               4     NaN      2016           4         11        2017   \n",
       "\n",
       "   expire_month  expire_year  \n",
       "0             9           20  \n",
       "1             6           22  \n",
       "2             7           12  "
      ]
     },
     "execution_count": 11,
     "metadata": {},
     "output_type": "execute_result"
    }
   ],
   "source": [
    "# переводим возраст меньший либо равный нулю в nan.\n",
    "# обрабатываем также и большой возраст\n",
    "# дату разбиваем в три численных столбца\n",
    "new_data = age_replace(member)\n",
    "new_data = get_d_m_y(new_data)\n",
    "print(new_data.shape)\n",
    "new_data.head(3)"
   ]
  },
  {
   "cell_type": "code",
   "execution_count": null,
   "metadata": {
    "colab": {
     "base_uri": "https://localhost:8080/",
     "height": 150
    },
    "executionInfo": {
     "elapsed": 1471,
     "status": "ok",
     "timestamp": 1615707934201,
     "user": {
      "displayName": "ajay jogiya",
      "photoUrl": "https://lh3.googleusercontent.com/a-/AOh14GgRAXM6e1-9rIRgaPP756Iug7UkbP0azqriVDFLww=s64",
      "userId": "14152685769056492470"
     },
     "user_tz": -330
    },
    "id": "68kb7uMozfkJ",
    "outputId": "154398a4-bdeb-4466-dbda-f22dfaf1837e"
   },
   "outputs": [
    {
     "name": "stdout",
     "output_type": "stream",
     "text": [
      "(34403, 9)\n"
     ]
    },
    {
     "data": {
      "text/html": [
       "<div>\n",
       "<style scoped>\n",
       "    .dataframe tbody tr th:only-of-type {\n",
       "        vertical-align: middle;\n",
       "    }\n",
       "\n",
       "    .dataframe tbody tr th {\n",
       "        vertical-align: top;\n",
       "    }\n",
       "\n",
       "    .dataframe thead th {\n",
       "        text-align: right;\n",
       "    }\n",
       "</style>\n",
       "<table border=\"1\" class=\"dataframe\">\n",
       "  <thead>\n",
       "    <tr style=\"text-align: right;\">\n",
       "      <th></th>\n",
       "      <th>city</th>\n",
       "      <th>new_bd</th>\n",
       "      <th>registered_via</th>\n",
       "      <th>regi_day</th>\n",
       "      <th>regi_month</th>\n",
       "      <th>regi_year</th>\n",
       "      <th>expire_day</th>\n",
       "      <th>expire_month</th>\n",
       "      <th>expire_year</th>\n",
       "    </tr>\n",
       "  </thead>\n",
       "  <tbody>\n",
       "    <tr>\n",
       "      <th>0</th>\n",
       "      <td>1</td>\n",
       "      <td>NaN</td>\n",
       "      <td>7</td>\n",
       "      <td>2011</td>\n",
       "      <td>8</td>\n",
       "      <td>20</td>\n",
       "      <td>2017</td>\n",
       "      <td>9</td>\n",
       "      <td>20</td>\n",
       "    </tr>\n",
       "    <tr>\n",
       "      <th>1</th>\n",
       "      <td>1</td>\n",
       "      <td>NaN</td>\n",
       "      <td>7</td>\n",
       "      <td>2015</td>\n",
       "      <td>6</td>\n",
       "      <td>28</td>\n",
       "      <td>2017</td>\n",
       "      <td>6</td>\n",
       "      <td>22</td>\n",
       "    </tr>\n",
       "    <tr>\n",
       "      <th>2</th>\n",
       "      <td>1</td>\n",
       "      <td>NaN</td>\n",
       "      <td>4</td>\n",
       "      <td>2016</td>\n",
       "      <td>4</td>\n",
       "      <td>11</td>\n",
       "      <td>2017</td>\n",
       "      <td>7</td>\n",
       "      <td>12</td>\n",
       "    </tr>\n",
       "  </tbody>\n",
       "</table>\n",
       "</div>"
      ],
      "text/plain": [
       "   city  new_bd  registered_via  regi_day  regi_month  regi_year  expire_day  \\\n",
       "0     1     NaN               7      2011           8         20        2017   \n",
       "1     1     NaN               7      2015           6         28        2017   \n",
       "2     1     NaN               4      2016           4         11        2017   \n",
       "\n",
       "   expire_month  expire_year  \n",
       "0             9           20  \n",
       "1             6           22  \n",
       "2             7           12  "
      ]
     },
     "execution_count": 12,
     "metadata": {},
     "output_type": "execute_result"
    }
   ],
   "source": [
    "new_data = new_data[['city','new_bd','registered_via' , 'regi_day' ,'regi_month' , 'regi_year' ,'expire_day','expire_month' ,'expire_year' ]]\n",
    "print(new_data.shape)\n",
    "new_data.head(3)"
   ]
  },
  {
   "cell_type": "code",
   "execution_count": null,
   "metadata": {
    "colab": {
     "base_uri": "https://localhost:8080/"
    },
    "executionInfo": {
     "elapsed": 1393,
     "status": "ok",
     "timestamp": 1615707975732,
     "user": {
      "displayName": "ajay jogiya",
      "photoUrl": "https://lh3.googleusercontent.com/a-/AOh14GgRAXM6e1-9rIRgaPP756Iug7UkbP0azqriVDFLww=s64",
      "userId": "14152685769056492470"
     },
     "user_tz": -330
    },
    "id": "WpiTb3mQ3O8L",
    "outputId": "db8c5393-477f-4bca-f57d-44cd0cf6fb30"
   },
   "outputs": [
    {
     "data": {
      "text/html": [
       "<style>#sk-container-id-1 {color: black;}#sk-container-id-1 pre{padding: 0;}#sk-container-id-1 div.sk-toggleable {background-color: white;}#sk-container-id-1 label.sk-toggleable__label {cursor: pointer;display: block;width: 100%;margin-bottom: 0;padding: 0.3em;box-sizing: border-box;text-align: center;}#sk-container-id-1 label.sk-toggleable__label-arrow:before {content: \"▸\";float: left;margin-right: 0.25em;color: #696969;}#sk-container-id-1 label.sk-toggleable__label-arrow:hover:before {color: black;}#sk-container-id-1 div.sk-estimator:hover label.sk-toggleable__label-arrow:before {color: black;}#sk-container-id-1 div.sk-toggleable__content {max-height: 0;max-width: 0;overflow: hidden;text-align: left;background-color: #f0f8ff;}#sk-container-id-1 div.sk-toggleable__content pre {margin: 0.2em;color: black;border-radius: 0.25em;background-color: #f0f8ff;}#sk-container-id-1 input.sk-toggleable__control:checked~div.sk-toggleable__content {max-height: 200px;max-width: 100%;overflow: auto;}#sk-container-id-1 input.sk-toggleable__control:checked~label.sk-toggleable__label-arrow:before {content: \"▾\";}#sk-container-id-1 div.sk-estimator input.sk-toggleable__control:checked~label.sk-toggleable__label {background-color: #d4ebff;}#sk-container-id-1 div.sk-label input.sk-toggleable__control:checked~label.sk-toggleable__label {background-color: #d4ebff;}#sk-container-id-1 input.sk-hidden--visually {border: 0;clip: rect(1px 1px 1px 1px);clip: rect(1px, 1px, 1px, 1px);height: 1px;margin: -1px;overflow: hidden;padding: 0;position: absolute;width: 1px;}#sk-container-id-1 div.sk-estimator {font-family: monospace;background-color: #f0f8ff;border: 1px dotted black;border-radius: 0.25em;box-sizing: border-box;margin-bottom: 0.5em;}#sk-container-id-1 div.sk-estimator:hover {background-color: #d4ebff;}#sk-container-id-1 div.sk-parallel-item::after {content: \"\";width: 100%;border-bottom: 1px solid gray;flex-grow: 1;}#sk-container-id-1 div.sk-label:hover label.sk-toggleable__label {background-color: #d4ebff;}#sk-container-id-1 div.sk-serial::before {content: \"\";position: absolute;border-left: 1px solid gray;box-sizing: border-box;top: 0;bottom: 0;left: 50%;z-index: 0;}#sk-container-id-1 div.sk-serial {display: flex;flex-direction: column;align-items: center;background-color: white;padding-right: 0.2em;padding-left: 0.2em;position: relative;}#sk-container-id-1 div.sk-item {position: relative;z-index: 1;}#sk-container-id-1 div.sk-parallel {display: flex;align-items: stretch;justify-content: center;background-color: white;position: relative;}#sk-container-id-1 div.sk-item::before, #sk-container-id-1 div.sk-parallel-item::before {content: \"\";position: absolute;border-left: 1px solid gray;box-sizing: border-box;top: 0;bottom: 0;left: 50%;z-index: -1;}#sk-container-id-1 div.sk-parallel-item {display: flex;flex-direction: column;z-index: 1;position: relative;background-color: white;}#sk-container-id-1 div.sk-parallel-item:first-child::after {align-self: flex-end;width: 50%;}#sk-container-id-1 div.sk-parallel-item:last-child::after {align-self: flex-start;width: 50%;}#sk-container-id-1 div.sk-parallel-item:only-child::after {width: 0;}#sk-container-id-1 div.sk-dashed-wrapped {border: 1px dashed gray;margin: 0 0.4em 0.5em 0.4em;box-sizing: border-box;padding-bottom: 0.4em;background-color: white;}#sk-container-id-1 div.sk-label label {font-family: monospace;font-weight: bold;display: inline-block;line-height: 1.2em;}#sk-container-id-1 div.sk-label-container {text-align: center;}#sk-container-id-1 div.sk-container {/* jupyter's `normalize.less` sets `[hidden] { display: none; }` but bootstrap.min.css set `[hidden] { display: none !important; }` so we also need the `!important` here to be able to override the default hidden behavior on the sphinx rendered scikit-learn.org. See: https://github.com/scikit-learn/scikit-learn/issues/21755 */display: inline-block !important;position: relative;}#sk-container-id-1 div.sk-text-repr-fallback {display: none;}</style><div id=\"sk-container-id-1\" class=\"sk-top-container\"><div class=\"sk-text-repr-fallback\"><pre>KNNImputer(n_neighbors=10)</pre><b>In a Jupyter environment, please rerun this cell to show the HTML representation or trust the notebook. <br />On GitHub, the HTML representation is unable to render, please try loading this page with nbviewer.org.</b></div><div class=\"sk-container\" hidden><div class=\"sk-item\"><div class=\"sk-estimator sk-toggleable\"><input class=\"sk-toggleable__control sk-hidden--visually\" id=\"sk-estimator-id-1\" type=\"checkbox\" checked><label for=\"sk-estimator-id-1\" class=\"sk-toggleable__label sk-toggleable__label-arrow\">KNNImputer</label><div class=\"sk-toggleable__content\"><pre>KNNImputer(n_neighbors=10)</pre></div></div></div></div></div>"
      ],
      "text/plain": [
       "KNNImputer(n_neighbors=10)"
      ]
     },
     "execution_count": 13,
     "metadata": {},
     "output_type": "execute_result"
    }
   ],
   "source": [
    "imputer = KNNImputer(n_neighbors=10)\n",
    "imputer.fit(new_data)"
   ]
  },
  {
   "cell_type": "code",
   "execution_count": 14,
   "metadata": {
    "colab": {
     "base_uri": "https://localhost:8080/"
    },
    "executionInfo": {
     "elapsed": 35279,
     "status": "ok",
     "timestamp": 1615708015252,
     "user": {
      "displayName": "ajay jogiya",
      "photoUrl": "https://lh3.googleusercontent.com/a-/AOh14GgRAXM6e1-9rIRgaPP756Iug7UkbP0azqriVDFLww=s64",
      "userId": "14152685769056492470"
     },
     "user_tz": -330
    },
    "id": "fDzNDHJW1g6a",
    "outputId": "245d2da6-1a48-48e9-8478-c6da54f0dbb8"
   },
   "outputs": [],
   "source": [
    "start = time.time()\n",
    "X = imputer.transform(new_data)\n",
    "print((time.time() - start) /  60)"
   ]
  },
  {
   "cell_type": "code",
   "execution_count": null,
   "metadata": {
    "colab": {
     "base_uri": "https://localhost:8080/",
     "height": 150
    },
    "executionInfo": {
     "elapsed": 2590,
     "status": "ok",
     "timestamp": 1615708021222,
     "user": {
      "displayName": "ajay jogiya",
      "photoUrl": "https://lh3.googleusercontent.com/a-/AOh14GgRAXM6e1-9rIRgaPP756Iug7UkbP0azqriVDFLww=s64",
      "userId": "14152685769056492470"
     },
     "user_tz": -330
    },
    "id": "TNDvXWaA1g3w",
    "outputId": "7de634c0-eac0-424e-eadf-51afff026673"
   },
   "outputs": [
    {
     "name": "stdout",
     "output_type": "stream",
     "text": [
      "(34403, 9)\n"
     ]
    },
    {
     "data": {
      "text/html": [
       "<div>\n",
       "<style scoped>\n",
       "    .dataframe tbody tr th:only-of-type {\n",
       "        vertical-align: middle;\n",
       "    }\n",
       "\n",
       "    .dataframe tbody tr th {\n",
       "        vertical-align: top;\n",
       "    }\n",
       "\n",
       "    .dataframe thead th {\n",
       "        text-align: right;\n",
       "    }\n",
       "</style>\n",
       "<table border=\"1\" class=\"dataframe\">\n",
       "  <thead>\n",
       "    <tr style=\"text-align: right;\">\n",
       "      <th></th>\n",
       "      <th>city</th>\n",
       "      <th>new_bd</th>\n",
       "      <th>registered_via</th>\n",
       "      <th>regi_day</th>\n",
       "      <th>regi_month</th>\n",
       "      <th>regi_year</th>\n",
       "      <th>expire_day</th>\n",
       "      <th>expire_month</th>\n",
       "      <th>expire_year</th>\n",
       "    </tr>\n",
       "  </thead>\n",
       "  <tbody>\n",
       "    <tr>\n",
       "      <th>0</th>\n",
       "      <td>1.0</td>\n",
       "      <td>31.7</td>\n",
       "      <td>7.0</td>\n",
       "      <td>2011.0</td>\n",
       "      <td>8.0</td>\n",
       "      <td>20.0</td>\n",
       "      <td>2017.0</td>\n",
       "      <td>9.0</td>\n",
       "      <td>20.0</td>\n",
       "    </tr>\n",
       "    <tr>\n",
       "      <th>1</th>\n",
       "      <td>1.0</td>\n",
       "      <td>26.3</td>\n",
       "      <td>7.0</td>\n",
       "      <td>2015.0</td>\n",
       "      <td>6.0</td>\n",
       "      <td>28.0</td>\n",
       "      <td>2017.0</td>\n",
       "      <td>6.0</td>\n",
       "      <td>22.0</td>\n",
       "    </tr>\n",
       "    <tr>\n",
       "      <th>2</th>\n",
       "      <td>1.0</td>\n",
       "      <td>28.8</td>\n",
       "      <td>4.0</td>\n",
       "      <td>2016.0</td>\n",
       "      <td>4.0</td>\n",
       "      <td>11.0</td>\n",
       "      <td>2017.0</td>\n",
       "      <td>7.0</td>\n",
       "      <td>12.0</td>\n",
       "    </tr>\n",
       "  </tbody>\n",
       "</table>\n",
       "</div>"
      ],
      "text/plain": [
       "   city  new_bd  registered_via  regi_day  regi_month  regi_year  expire_day  \\\n",
       "0   1.0    31.7             7.0    2011.0         8.0       20.0      2017.0   \n",
       "1   1.0    26.3             7.0    2015.0         6.0       28.0      2017.0   \n",
       "2   1.0    28.8             4.0    2016.0         4.0       11.0      2017.0   \n",
       "\n",
       "   expire_month  expire_year  \n",
       "0           9.0         20.0  \n",
       "1           6.0         22.0  \n",
       "2           7.0         12.0  "
      ]
     },
     "execution_count": 10,
     "metadata": {},
     "output_type": "execute_result"
    }
   ],
   "source": [
    "for i in range(len(new_data.columns)):\n",
    "    new_data[new_data.columns[i]] = X[:,i]\n",
    "print(new_data.shape)\n",
    "new_data.head(3)"
   ]
  },
  {
   "cell_type": "markdown",
   "metadata": {
    "id": "C2_npP0c_5rP"
   },
   "source": [
    "### До обработки поля bd"
   ]
  },
  {
   "cell_type": "code",
   "execution_count": null,
   "metadata": {
    "colab": {
     "base_uri": "https://localhost:8080/",
     "height": 620
    },
    "executionInfo": {
     "elapsed": 4020,
     "status": "ok",
     "timestamp": 1615708032270,
     "user": {
      "displayName": "ajay jogiya",
      "photoUrl": "https://lh3.googleusercontent.com/a-/AOh14GgRAXM6e1-9rIRgaPP756Iug7UkbP0azqriVDFLww=s64",
      "userId": "14152685769056492470"
     },
     "user_tz": -330
    },
    "id": "CqV6gqUH_SG9",
    "outputId": "18d19a09-9ab6-4014-fef2-cd956e8a5a50"
   },
   "outputs": [
    {
     "data": {
      "image/png": "[encoded data removed]",
      "text/plain": [
       "<Figure size 1000x1000 with 1 Axes>"
      ]
     },
     "metadata": {},
     "output_type": "display_data"
    }
   ],
   "source": [
    "plt.figure(figsize = (10,10))\n",
    "ax = sns.distplot(member['bd'], bins = 100,hist = True)\n",
    "#h,l = ax.get_legend_handles_labels()\n",
    "#ax.legend(h ,l,bbox_to_anchor=(1.05, 1) ,loc = 'upper left')\n",
    "#plt.setp(ax.get_xticklabels() , rotation = 90 )\n",
    "plt.title('PDF of {}'.format(\"Age\"))\n",
    "plt.show()"
   ]
  },
  {
   "cell_type": "markdown",
   "metadata": {
    "id": "yg6zpKxB_xGQ"
   },
   "source": [
    "### После обработки bd"
   ]
  },
  {
   "cell_type": "code",
   "execution_count": null,
   "metadata": {
    "colab": {
     "base_uri": "https://localhost:8080/",
     "height": 621
    },
    "executionInfo": {
     "elapsed": 1983,
     "status": "ok",
     "timestamp": 1615708041750,
     "user": {
      "displayName": "ajay jogiya",
      "photoUrl": "https://lh3.googleusercontent.com/a-/AOh14GgRAXM6e1-9rIRgaPP756Iug7UkbP0azqriVDFLww=s64",
      "userId": "14152685769056492470"
     },
     "user_tz": -330
    },
    "id": "HPQFi9qgvl2p",
    "outputId": "879b8e7c-aec3-4b7f-da06-72695960bcd3"
   },
   "outputs": [
    {
     "data": {
      "image/png": "[encoded data removed]",
      "text/plain": [
       "<Figure size 1000x1000 with 1 Axes>"
      ]
     },
     "metadata": {},
     "output_type": "display_data"
    }
   ],
   "source": [
    "plt.figure(figsize = (10,10))\n",
    "ax = sns.distplot(new_data['new_bd'], bins = 100,hist = True)\n",
    "#h,l = ax.get_legend_handles_labels()\n",
    "#ax.legend(h ,l,bbox_to_anchor=(1.05, 1) ,loc = 'upper left')\n",
    "#plt.setp(ax.get_xticklabels() , rotation = 90 )\n",
    "plt.title('PDF of {}'.format(\"Age\"))\n",
    "plt.show()"
   ]
  },
  {
   "cell_type": "code",
   "execution_count": null,
   "metadata": {
    "colab": {
     "base_uri": "https://localhost:8080/",
     "height": 170
    },
    "executionInfo": {
     "elapsed": 1713,
     "status": "ok",
     "timestamp": 1615708159078,
     "user": {
      "displayName": "ajay jogiya",
      "photoUrl": "https://lh3.googleusercontent.com/a-/AOh14GgRAXM6e1-9rIRgaPP756Iug7UkbP0azqriVDFLww=s64",
      "userId": "14152685769056492470"
     },
     "user_tz": -330
    },
    "id": "RSl-U3nNtHsh",
    "outputId": "cfe5b704-6581-4efe-e59b-912e8ec4f544"
   },
   "outputs": [
    {
     "name": "stdout",
     "output_type": "stream",
     "text": [
      "(34403, 14)\n"
     ]
    },
    {
     "data": {
      "text/html": [
       "<div>\n",
       "<style scoped>\n",
       "    .dataframe tbody tr th:only-of-type {\n",
       "        vertical-align: middle;\n",
       "    }\n",
       "\n",
       "    .dataframe tbody tr th {\n",
       "        vertical-align: top;\n",
       "    }\n",
       "\n",
       "    .dataframe thead th {\n",
       "        text-align: right;\n",
       "    }\n",
       "</style>\n",
       "<table border=\"1\" class=\"dataframe\">\n",
       "  <thead>\n",
       "    <tr style=\"text-align: right;\">\n",
       "      <th></th>\n",
       "      <th>msno</th>\n",
       "      <th>city</th>\n",
       "      <th>bd</th>\n",
       "      <th>gender</th>\n",
       "      <th>registered_via</th>\n",
       "      <th>registration_init_time</th>\n",
       "      <th>expiration_date</th>\n",
       "      <th>regi_day</th>\n",
       "      <th>regi_month</th>\n",
       "      <th>regi_year</th>\n",
       "      <th>expire_day</th>\n",
       "      <th>expire_month</th>\n",
       "      <th>expire_year</th>\n",
       "      <th>imputed_bd</th>\n",
       "    </tr>\n",
       "  </thead>\n",
       "  <tbody>\n",
       "    <tr>\n",
       "      <th>0</th>\n",
       "      <td>XQxgAYj3klVKjR3oxPPXYYFp4soD4TuBghkhMTD4oTw=</td>\n",
       "      <td>1</td>\n",
       "      <td>0</td>\n",
       "      <td>NaN</td>\n",
       "      <td>7</td>\n",
       "      <td>20110820</td>\n",
       "      <td>20170920</td>\n",
       "      <td>2011</td>\n",
       "      <td>8</td>\n",
       "      <td>20</td>\n",
       "      <td>2017</td>\n",
       "      <td>9</td>\n",
       "      <td>20</td>\n",
       "      <td>31.7</td>\n",
       "    </tr>\n",
       "    <tr>\n",
       "      <th>1</th>\n",
       "      <td>UizsfmJb9mV54qE9hCYyU07Va97c0lCRLEQX3ae+ztM=</td>\n",
       "      <td>1</td>\n",
       "      <td>0</td>\n",
       "      <td>NaN</td>\n",
       "      <td>7</td>\n",
       "      <td>20150628</td>\n",
       "      <td>20170622</td>\n",
       "      <td>2015</td>\n",
       "      <td>6</td>\n",
       "      <td>28</td>\n",
       "      <td>2017</td>\n",
       "      <td>6</td>\n",
       "      <td>22</td>\n",
       "      <td>26.3</td>\n",
       "    </tr>\n",
       "    <tr>\n",
       "      <th>2</th>\n",
       "      <td>D8nEhsIOBSoE6VthTaqDX8U6lqjJ7dLdr72mOyLya2A=</td>\n",
       "      <td>1</td>\n",
       "      <td>0</td>\n",
       "      <td>NaN</td>\n",
       "      <td>4</td>\n",
       "      <td>20160411</td>\n",
       "      <td>20170712</td>\n",
       "      <td>2016</td>\n",
       "      <td>4</td>\n",
       "      <td>11</td>\n",
       "      <td>2017</td>\n",
       "      <td>7</td>\n",
       "      <td>12</td>\n",
       "      <td>28.8</td>\n",
       "    </tr>\n",
       "  </tbody>\n",
       "</table>\n",
       "</div>"
      ],
      "text/plain": [
       "                                           msno  city  bd gender  \\\n",
       "0  XQxgAYj3klVKjR3oxPPXYYFp4soD4TuBghkhMTD4oTw=     1   0    NaN   \n",
       "1  UizsfmJb9mV54qE9hCYyU07Va97c0lCRLEQX3ae+ztM=     1   0    NaN   \n",
       "2  D8nEhsIOBSoE6VthTaqDX8U6lqjJ7dLdr72mOyLya2A=     1   0    NaN   \n",
       "\n",
       "   registered_via  registration_init_time  expiration_date  regi_day  \\\n",
       "0               7                20110820         20170920      2011   \n",
       "1               7                20150628         20170622      2015   \n",
       "2               4                20160411         20170712      2016   \n",
       "\n",
       "   regi_month  regi_year  expire_day  expire_month  expire_year  imputed_bd  \n",
       "0           8         20        2017             9           20        31.7  \n",
       "1           6         28        2017             6           22        26.3  \n",
       "2           4         11        2017             7           12        28.8  "
      ]
     },
     "execution_count": 13,
     "metadata": {},
     "output_type": "execute_result"
    }
   ],
   "source": [
    "member['imputed_bd'] = new_data['new_bd']\n",
    "member = member.drop('new_bd', axis = 1)\n",
    "print(member.shape)\n",
    "member.head(3)"
   ]
  },
  {
   "cell_type": "code",
   "execution_count": null,
   "metadata": {
    "id": "SlVKTW9O7DtX"
   },
   "outputs": [],
   "source": [
    "member.to_csv('data/new_member.csv')"
   ]
  },
  {
   "cell_type": "markdown",
   "metadata": {
    "id": "eWkCz2BVqx7U"
   },
   "source": [
    "## Merge all files"
   ]
  },
  {
   "cell_type": "code",
   "execution_count": null,
   "metadata": {
    "colab": {
     "base_uri": "https://localhost:8080/"
    },
    "executionInfo": {
     "elapsed": 42375,
     "status": "ok",
     "timestamp": 1615729092605,
     "user": {
      "displayName": "Ajay Jogiya",
      "photoUrl": "",
      "userId": "12844089788344129075"
     },
     "user_tz": -330
    },
    "id": "jlRmvgbAF2V7",
    "outputId": "a7a2ae08-541e-40fb-d900-2410ea478d45"
   },
   "outputs": [
    {
     "name": "stdout",
     "output_type": "stream",
     "text": [
      "member shape : (34403, 15)\n",
      "train shape : (7377418, 6)\n",
      "song_extra_info shape : (2295971, 3)\n",
      "songs shape : (2296320, 7)\n",
      "train_data shape : (7377418, 28)\n"
     ]
    }
   ],
   "source": [
    "# merge data\n",
    "member = pd.read_csv('data/new_member.csv')\n",
    "print('member shape :',member.shape)\n",
    "\n",
    "train = pd.read_csv('data/train.csv')\n",
    "print('train shape :',train.shape)\n",
    "\n",
    "song_extra_info = pd.read_csv('data/song_extra_info.csv')\n",
    "print('song_extra_info shape :',song_extra_info.shape)\n",
    "\n",
    "songs = pd.read_csv('data/songs.csv')\n",
    "print('songs shape :' , songs.shape)\n",
    "\n",
    "songs_info = songs.merge(song_extra_info, how='left', on='song_id')\n",
    "train_member = train.merge(member , how = 'left' , on = 'msno')\n",
    "train_data = train_member.merge(songs_info, how='left', on='song_id')\n",
    "print('train_data shape :',train_data.shape)"
   ]
  },
  {
   "cell_type": "code",
   "execution_count": null,
   "metadata": {
    "colab": {
     "base_uri": "https://localhost:8080/"
    },
    "executionInfo": {
     "elapsed": 61735,
     "status": "ok",
     "timestamp": 1615709288932,
     "user": {
      "displayName": "ajay jogiya",
      "photoUrl": "https://lh3.googleusercontent.com/a-/AOh14GgRAXM6e1-9rIRgaPP756Iug7UkbP0azqriVDFLww=s64",
      "userId": "14152685769056492470"
     },
     "user_tz": -330
    },
    "id": "G0Hn5qC9-faI",
    "outputId": "8218989f-4e55-4ddd-b8b9-3afda4e02d02"
   },
   "outputs": [
    {
     "name": "stdout",
     "output_type": "stream",
     "text": [
      "test shape : (2556790, 6)\n",
      "test data shape : (2556790, 28)\n"
     ]
    }
   ],
   "source": [
    "test = pd.read_csv('data/test.csv')\n",
    "print('test shape :',test.shape)\n",
    "\n",
    "# merge data on test file\n",
    "test_member = test.merge(member , how = 'left' , on = 'msno')\n",
    "test_data = test_member.merge(songs_info, how='left', on='song_id')\n",
    "print('test data shape :',test_data.shape)"
   ]
  },
  {
   "cell_type": "code",
   "execution_count": null,
   "metadata": {
    "colab": {
     "base_uri": "https://localhost:8080/",
     "height": 338
    },
    "executionInfo": {
     "elapsed": 1582,
     "status": "ok",
     "timestamp": 1615709391913,
     "user": {
      "displayName": "ajay jogiya",
      "photoUrl": "https://lh3.googleusercontent.com/a-/AOh14GgRAXM6e1-9rIRgaPP756Iug7UkbP0azqriVDFLww=s64",
      "userId": "14152685769056492470"
     },
     "user_tz": -330
    },
    "id": "QBDkAgkH-uAh",
    "outputId": "82aec199-0283-4fa8-98c7-8e5beaaebdb4"
   },
   "outputs": [
    {
     "name": "stdout",
     "output_type": "stream",
     "text": [
      "(7377418, 27)\n"
     ]
    },
    {
     "data": {
      "text/html": [
       "<div>\n",
       "<style scoped>\n",
       "    .dataframe tbody tr th:only-of-type {\n",
       "        vertical-align: middle;\n",
       "    }\n",
       "\n",
       "    .dataframe tbody tr th {\n",
       "        vertical-align: top;\n",
       "    }\n",
       "\n",
       "    .dataframe thead th {\n",
       "        text-align: right;\n",
       "    }\n",
       "</style>\n",
       "<table border=\"1\" class=\"dataframe\">\n",
       "  <thead>\n",
       "    <tr style=\"text-align: right;\">\n",
       "      <th></th>\n",
       "      <th>msno</th>\n",
       "      <th>song_id</th>\n",
       "      <th>source_system_tab</th>\n",
       "      <th>source_screen_name</th>\n",
       "      <th>source_type</th>\n",
       "      <th>target</th>\n",
       "      <th>city</th>\n",
       "      <th>bd</th>\n",
       "      <th>gender</th>\n",
       "      <th>registered_via</th>\n",
       "      <th>...</th>\n",
       "      <th>expire_year</th>\n",
       "      <th>imputed_bd</th>\n",
       "      <th>song_length</th>\n",
       "      <th>genre_ids</th>\n",
       "      <th>artist_name</th>\n",
       "      <th>composer</th>\n",
       "      <th>lyricist</th>\n",
       "      <th>language</th>\n",
       "      <th>name</th>\n",
       "      <th>isrc</th>\n",
       "    </tr>\n",
       "  </thead>\n",
       "  <tbody>\n",
       "    <tr>\n",
       "      <th>0</th>\n",
       "      <td>FGtllVqz18RPiwJj/edr2gV78zirAiY/9SmYvia+kCg=</td>\n",
       "      <td>BBzumQNXUHKdEBOB7mAJuzok+IJA1c2Ryg/yzTF6tik=</td>\n",
       "      <td>explore</td>\n",
       "      <td>Explore</td>\n",
       "      <td>online-playlist</td>\n",
       "      <td>1</td>\n",
       "      <td>1</td>\n",
       "      <td>0</td>\n",
       "      <td>NaN</td>\n",
       "      <td>7</td>\n",
       "      <td>...</td>\n",
       "      <td>5</td>\n",
       "      <td>28.3</td>\n",
       "      <td>206471.0</td>\n",
       "      <td>359</td>\n",
       "      <td>Bastille</td>\n",
       "      <td>Dan Smith| Mark Crew</td>\n",
       "      <td>NaN</td>\n",
       "      <td>52.0</td>\n",
       "      <td>Good Grief</td>\n",
       "      <td>GBUM71602854</td>\n",
       "    </tr>\n",
       "    <tr>\n",
       "      <th>1</th>\n",
       "      <td>Xumu+NIjS6QYVxDS4/t3SawvJ7viT9hPKXmf0RtLNx8=</td>\n",
       "      <td>bhp/MpSNoqoxOIB+/l8WPqu6jldth4DIpCm3ayXnJqM=</td>\n",
       "      <td>my library</td>\n",
       "      <td>Local playlist more</td>\n",
       "      <td>local-playlist</td>\n",
       "      <td>1</td>\n",
       "      <td>13</td>\n",
       "      <td>24</td>\n",
       "      <td>female</td>\n",
       "      <td>9</td>\n",
       "      <td>...</td>\n",
       "      <td>11</td>\n",
       "      <td>24.0</td>\n",
       "      <td>284584.0</td>\n",
       "      <td>1259</td>\n",
       "      <td>Various Artists</td>\n",
       "      <td>NaN</td>\n",
       "      <td>NaN</td>\n",
       "      <td>52.0</td>\n",
       "      <td>Lords of Cardboard</td>\n",
       "      <td>US3C69910183</td>\n",
       "    </tr>\n",
       "    <tr>\n",
       "      <th>2</th>\n",
       "      <td>Xumu+NIjS6QYVxDS4/t3SawvJ7viT9hPKXmf0RtLNx8=</td>\n",
       "      <td>JNWfrrC7zNN7BdMpsISKa4Mw+xVJYNnxXh3/Epw7QgY=</td>\n",
       "      <td>my library</td>\n",
       "      <td>Local playlist more</td>\n",
       "      <td>local-playlist</td>\n",
       "      <td>1</td>\n",
       "      <td>13</td>\n",
       "      <td>24</td>\n",
       "      <td>female</td>\n",
       "      <td>9</td>\n",
       "      <td>...</td>\n",
       "      <td>11</td>\n",
       "      <td>24.0</td>\n",
       "      <td>225396.0</td>\n",
       "      <td>1259</td>\n",
       "      <td>Nas</td>\n",
       "      <td>N. Jones、W. Adams、J. Lordan、D. Ingle</td>\n",
       "      <td>NaN</td>\n",
       "      <td>52.0</td>\n",
       "      <td>Hip Hop Is Dead(Album Version (Edited))</td>\n",
       "      <td>USUM70618761</td>\n",
       "    </tr>\n",
       "  </tbody>\n",
       "</table>\n",
       "<p>3 rows × 27 columns</p>\n",
       "</div>"
      ],
      "text/plain": [
       "                                           msno  \\\n",
       "0  FGtllVqz18RPiwJj/edr2gV78zirAiY/9SmYvia+kCg=   \n",
       "1  Xumu+NIjS6QYVxDS4/t3SawvJ7viT9hPKXmf0RtLNx8=   \n",
       "2  Xumu+NIjS6QYVxDS4/t3SawvJ7viT9hPKXmf0RtLNx8=   \n",
       "\n",
       "                                        song_id source_system_tab  \\\n",
       "0  BBzumQNXUHKdEBOB7mAJuzok+IJA1c2Ryg/yzTF6tik=           explore   \n",
       "1  bhp/MpSNoqoxOIB+/l8WPqu6jldth4DIpCm3ayXnJqM=        my library   \n",
       "2  JNWfrrC7zNN7BdMpsISKa4Mw+xVJYNnxXh3/Epw7QgY=        my library   \n",
       "\n",
       "    source_screen_name      source_type  target  city  bd  gender  \\\n",
       "0              Explore  online-playlist       1     1   0     NaN   \n",
       "1  Local playlist more   local-playlist       1    13  24  female   \n",
       "2  Local playlist more   local-playlist       1    13  24  female   \n",
       "\n",
       "   registered_via  ...  expire_year  imputed_bd  song_length  genre_ids  \\\n",
       "0               7  ...            5        28.3     206471.0        359   \n",
       "1               9  ...           11        24.0     284584.0       1259   \n",
       "2               9  ...           11        24.0     225396.0       1259   \n",
       "\n",
       "       artist_name                              composer  lyricist  language  \\\n",
       "0         Bastille                  Dan Smith| Mark Crew       NaN      52.0   \n",
       "1  Various Artists                                   NaN       NaN      52.0   \n",
       "2              Nas  N. Jones、W. Adams、J. Lordan、D. Ingle       NaN      52.0   \n",
       "\n",
       "                                      name          isrc  \n",
       "0                               Good Grief  GBUM71602854  \n",
       "1                       Lords of Cardboard  US3C69910183  \n",
       "2  Hip Hop Is Dead(Album Version (Edited))  USUM70618761  \n",
       "\n",
       "[3 rows x 27 columns]"
      ]
     },
     "execution_count": 17,
     "metadata": {},
     "output_type": "execute_result"
    }
   ],
   "source": [
    "# remove columns which name start with 'Unnamed:'\n",
    "train_data = remove_funtion(train_data)\n",
    "print(train_data.shape)\n",
    "train_data.head(3)"
   ]
  },
  {
   "cell_type": "code",
   "execution_count": null,
   "metadata": {
    "colab": {
     "base_uri": "https://localhost:8080/",
     "height": 237
    },
    "executionInfo": {
     "elapsed": 1079,
     "status": "ok",
     "timestamp": 1615709391915,
     "user": {
      "displayName": "ajay jogiya",
      "photoUrl": "https://lh3.googleusercontent.com/a-/AOh14GgRAXM6e1-9rIRgaPP756Iug7UkbP0azqriVDFLww=s64",
      "userId": "14152685769056492470"
     },
     "user_tz": -330
    },
    "id": "Wl1qcfDI-8f6",
    "outputId": "e32cd189-cf55-4950-83a1-f49ed79ed277"
   },
   "outputs": [
    {
     "name": "stdout",
     "output_type": "stream",
     "text": [
      "(2556790, 27)\n"
     ]
    },
    {
     "data": {
      "text/html": [
       "<div>\n",
       "<style scoped>\n",
       "    .dataframe tbody tr th:only-of-type {\n",
       "        vertical-align: middle;\n",
       "    }\n",
       "\n",
       "    .dataframe tbody tr th {\n",
       "        vertical-align: top;\n",
       "    }\n",
       "\n",
       "    .dataframe thead th {\n",
       "        text-align: right;\n",
       "    }\n",
       "</style>\n",
       "<table border=\"1\" class=\"dataframe\">\n",
       "  <thead>\n",
       "    <tr style=\"text-align: right;\">\n",
       "      <th></th>\n",
       "      <th>id</th>\n",
       "      <th>msno</th>\n",
       "      <th>song_id</th>\n",
       "      <th>source_system_tab</th>\n",
       "      <th>source_screen_name</th>\n",
       "      <th>source_type</th>\n",
       "      <th>city</th>\n",
       "      <th>bd</th>\n",
       "      <th>gender</th>\n",
       "      <th>registered_via</th>\n",
       "      <th>...</th>\n",
       "      <th>expire_year</th>\n",
       "      <th>imputed_bd</th>\n",
       "      <th>song_length</th>\n",
       "      <th>genre_ids</th>\n",
       "      <th>artist_name</th>\n",
       "      <th>composer</th>\n",
       "      <th>lyricist</th>\n",
       "      <th>language</th>\n",
       "      <th>name</th>\n",
       "      <th>isrc</th>\n",
       "    </tr>\n",
       "  </thead>\n",
       "  <tbody>\n",
       "    <tr>\n",
       "      <th>0</th>\n",
       "      <td>0</td>\n",
       "      <td>V8ruy7SGk7tDm3zA51DPpn6qutt+vmKMBKa21dp54uM=</td>\n",
       "      <td>WmHKgKMlp1lQMecNdNvDMkvIycZYHnFwDT72I5sIssc=</td>\n",
       "      <td>my library</td>\n",
       "      <td>Local playlist more</td>\n",
       "      <td>local-library</td>\n",
       "      <td>1</td>\n",
       "      <td>0</td>\n",
       "      <td>NaN</td>\n",
       "      <td>7</td>\n",
       "      <td>...</td>\n",
       "      <td>18</td>\n",
       "      <td>23.3</td>\n",
       "      <td>224130.0</td>\n",
       "      <td>458</td>\n",
       "      <td>梁文音 (Rachel Liang)</td>\n",
       "      <td>Qi Zheng Zhang</td>\n",
       "      <td>NaN</td>\n",
       "      <td>3.0</td>\n",
       "      <td>愛其實很殘忍</td>\n",
       "      <td>TWUM71400047</td>\n",
       "    </tr>\n",
       "  </tbody>\n",
       "</table>\n",
       "<p>1 rows × 27 columns</p>\n",
       "</div>"
      ],
      "text/plain": [
       "   id                                          msno  \\\n",
       "0   0  V8ruy7SGk7tDm3zA51DPpn6qutt+vmKMBKa21dp54uM=   \n",
       "\n",
       "                                        song_id source_system_tab  \\\n",
       "0  WmHKgKMlp1lQMecNdNvDMkvIycZYHnFwDT72I5sIssc=        my library   \n",
       "\n",
       "    source_screen_name    source_type  city  bd gender  registered_via  ...  \\\n",
       "0  Local playlist more  local-library     1   0    NaN               7  ...   \n",
       "\n",
       "   expire_year  imputed_bd  song_length  genre_ids         artist_name  \\\n",
       "0           18        23.3     224130.0        458  梁文音 (Rachel Liang)   \n",
       "\n",
       "         composer  lyricist  language    name          isrc  \n",
       "0  Qi Zheng Zhang       NaN       3.0  愛其實很殘忍  TWUM71400047  \n",
       "\n",
       "[1 rows x 27 columns]"
      ]
     },
     "execution_count": 18,
     "metadata": {},
     "output_type": "execute_result"
    }
   ],
   "source": [
    "test_data = remove_funtion(test_data)\n",
    "print(test_data.shape)\n",
    "test_data.head(1)"
   ]
  },
  {
   "cell_type": "markdown",
   "metadata": {
    "id": "r63ZP9-knBMA"
   },
   "source": [
    "# train_test_split"
   ]
  },
  {
   "cell_type": "code",
   "execution_count": null,
   "metadata": {
    "colab": {
     "base_uri": "https://localhost:8080/"
    },
    "executionInfo": {
     "elapsed": 1335,
     "status": "ok",
     "timestamp": 1615709395257,
     "user": {
      "displayName": "ajay jogiya",
      "photoUrl": "https://lh3.googleusercontent.com/a-/AOh14GgRAXM6e1-9rIRgaPP756Iug7UkbP0azqriVDFLww=s64",
      "userId": "14152685769056492470"
     },
     "user_tz": -330
    },
    "id": "8Ci1NWUrJXxE",
    "outputId": "66285a66-d0dd-4ca9-ca43-f3fd584befbe"
   },
   "outputs": [
    {
     "name": "stdout",
     "output_type": "stream",
     "text": [
      "(7377418, 27)\n",
      "(2556790, 27)\n"
     ]
    }
   ],
   "source": [
    "print(train_data.shape)\n",
    "print(test_data.shape)"
   ]
  },
  {
   "cell_type": "code",
   "execution_count": null,
   "metadata": {
    "colab": {
     "base_uri": "https://localhost:8080/"
    },
    "executionInfo": {
     "elapsed": 1683,
     "status": "ok",
     "timestamp": 1615709397961,
     "user": {
      "displayName": "ajay jogiya",
      "photoUrl": "https://lh3.googleusercontent.com/a-/AOh14GgRAXM6e1-9rIRgaPP756Iug7UkbP0azqriVDFLww=s64",
      "userId": "14152685769056492470"
     },
     "user_tz": -330
    },
    "id": "K0YkVtpDLNh4",
    "outputId": "665957aa-fb77-43f5-8814-ca5d026f398f"
   },
   "outputs": [
    {
     "data": {
      "text/plain": [
       "5901934"
      ]
     },
     "execution_count": 20,
     "metadata": {},
     "output_type": "execute_result"
    }
   ],
   "source": [
    "split_val = round((80 * 7377418) / 100)\n",
    "split_val"
   ]
  },
  {
   "cell_type": "code",
   "execution_count": null,
   "metadata": {
    "colab": {
     "base_uri": "https://localhost:8080/"
    },
    "executionInfo": {
     "elapsed": 1198,
     "status": "ok",
     "timestamp": 1615709397963,
     "user": {
      "displayName": "ajay jogiya",
      "photoUrl": "https://lh3.googleusercontent.com/a-/AOh14GgRAXM6e1-9rIRgaPP756Iug7UkbP0azqriVDFLww=s64",
      "userId": "14152685769056492470"
     },
     "user_tz": -330
    },
    "id": "Ush-8CD0F9iP",
    "outputId": "d0f14150-e4f5-42c2-b159-73a1ccb1abfd"
   },
   "outputs": [
    {
     "name": "stdout",
     "output_type": "stream",
     "text": [
      "(5901934, 27) (1475484, 27) (2556790, 27)\n"
     ]
    }
   ],
   "source": [
    "# split data\n",
    "val_data   = train_data[split_val:]\n",
    "train_data = train_data[:split_val]\n",
    "\n",
    "print(train_data.shape , val_data.shape , test_data.shape)"
   ]
  },
  {
   "cell_type": "code",
   "execution_count": null,
   "metadata": {},
   "outputs": [],
   "source": [
    "# separate genre_ids and make seprate columns for each genre_ids\n",
    "def separate_genre(data):\n",
    "    genre = data['genre_ids'].values\n",
    "    genre_category  = []\n",
    "\n",
    "    # seprate all genre and store in genre_category\n",
    "    for i in genre:\n",
    "        lis = []\n",
    "        i = str(i)\n",
    "        if '|' in i:\n",
    "            sen = i.split('|')\n",
    "            genre_category.append(sen)\n",
    "        else:\n",
    "            lis.append(i)\n",
    "            genre_category.append(lis)\n",
    "    # if len(genre) < 8 than fill 0 to make all len(genre) == 8        \n",
    "    genre_id_list = []\n",
    "    for i in genre_category:\n",
    "        while len(i) < 8:\n",
    "            i.append(0)\n",
    "        genre_id_list.append(i)\n",
    "\n",
    "    genre_ids = np.array(genre_id_list)\n",
    "\n",
    "    # make seprate columns for all genre_ids \n",
    "    data['one_genre']   = genre_ids[:,0]\n",
    "    data['two_genre']   = genre_ids[:,1] \n",
    "    data['three_genre'] = genre_ids[:,2]\n",
    "    data['four_genre']  = genre_ids[:,3]\n",
    "    data['five_genre']  = genre_ids[:,4]\n",
    "    data['six_genre']   = genre_ids[:,5]\n",
    "    data['seven_genre'] = genre_ids[:,6]\n",
    "    data['eight_genre'] = genre_ids[:,7]\n",
    "\n",
    "    #data = data.drop('genre_ids' , axis = 1)\n",
    "\n",
    "    return data"
   ]
  },
  {
   "cell_type": "code",
   "execution_count": null,
   "metadata": {
    "id": "EfJrS118_Gdx"
   },
   "outputs": [],
   "source": [
    "# separate genre_ids and make seprate columns for each genre_ids\n",
    "train_data = separate_genre(train_data)\n",
    "val_data   = separate_genre(val_data)\n",
    "test_data  = separate_genre(test_data)"
   ]
  },
  {
   "cell_type": "code",
   "execution_count": null,
   "metadata": {
    "colab": {
     "base_uri": "https://localhost:8080/"
    },
    "executionInfo": {
     "elapsed": 31382,
     "status": "ok",
     "timestamp": 1615709470719,
     "user": {
      "displayName": "ajay jogiya",
      "photoUrl": "https://lh3.googleusercontent.com/a-/AOh14GgRAXM6e1-9rIRgaPP756Iug7UkbP0azqriVDFLww=s64",
      "userId": "14152685769056492470"
     },
     "user_tz": -330
    },
    "id": "5ajmZkCXxKcu",
    "outputId": "791be842-7c20-4f2f-eb6d-89228eb31685"
   },
   "outputs": [
    {
     "name": "stdout",
     "output_type": "stream",
     "text": [
      "Train Shape : (5901934, 35)\n",
      "Vali  Shape : (1475484, 35)\n",
      "Test  shape : (2556790, 35)\n"
     ]
    }
   ],
   "source": [
    "print('Train Shape :',train_data.shape)\n",
    "print('Vali  Shape :',val_data.shape)\n",
    "print('Test  shape :',test_data.shape)"
   ]
  },
  {
   "cell_type": "markdown",
   "metadata": {
    "id": "mqUoMOZeFnBu"
   },
   "source": [
    "## дальнейший Feature Engineering"
   ]
  },
  {
   "cell_type": "code",
   "execution_count": null,
   "metadata": {},
   "outputs": [
    {
     "data": {
      "text/html": [
       "<div>\n",
       "<style scoped>\n",
       "    .dataframe tbody tr th:only-of-type {\n",
       "        vertical-align: middle;\n",
       "    }\n",
       "\n",
       "    .dataframe tbody tr th {\n",
       "        vertical-align: top;\n",
       "    }\n",
       "\n",
       "    .dataframe thead th {\n",
       "        text-align: right;\n",
       "    }\n",
       "</style>\n",
       "<table border=\"1\" class=\"dataframe\">\n",
       "  <thead>\n",
       "    <tr style=\"text-align: right;\">\n",
       "      <th></th>\n",
       "      <th>NA_count</th>\n",
       "      <th>Percentage</th>\n",
       "    </tr>\n",
       "  </thead>\n",
       "  <tbody>\n",
       "    <tr>\n",
       "      <th>msno</th>\n",
       "      <td>0</td>\n",
       "      <td>0.000000</td>\n",
       "    </tr>\n",
       "    <tr>\n",
       "      <th>song_id</th>\n",
       "      <td>0</td>\n",
       "      <td>0.000000</td>\n",
       "    </tr>\n",
       "    <tr>\n",
       "      <th>source_system_tab</th>\n",
       "      <td>20018</td>\n",
       "      <td>0.339177</td>\n",
       "    </tr>\n",
       "    <tr>\n",
       "      <th>source_screen_name</th>\n",
       "      <td>322244</td>\n",
       "      <td>5.459973</td>\n",
       "    </tr>\n",
       "    <tr>\n",
       "      <th>source_type</th>\n",
       "      <td>16775</td>\n",
       "      <td>0.284229</td>\n",
       "    </tr>\n",
       "    <tr>\n",
       "      <th>target</th>\n",
       "      <td>0</td>\n",
       "      <td>0.000000</td>\n",
       "    </tr>\n",
       "    <tr>\n",
       "      <th>city</th>\n",
       "      <td>0</td>\n",
       "      <td>0.000000</td>\n",
       "    </tr>\n",
       "    <tr>\n",
       "      <th>bd</th>\n",
       "      <td>0</td>\n",
       "      <td>0.000000</td>\n",
       "    </tr>\n",
       "    <tr>\n",
       "      <th>gender</th>\n",
       "      <td>2346748</td>\n",
       "      <td>39.762356</td>\n",
       "    </tr>\n",
       "    <tr>\n",
       "      <th>registered_via</th>\n",
       "      <td>0</td>\n",
       "      <td>0.000000</td>\n",
       "    </tr>\n",
       "    <tr>\n",
       "      <th>registration_init_time</th>\n",
       "      <td>0</td>\n",
       "      <td>0.000000</td>\n",
       "    </tr>\n",
       "    <tr>\n",
       "      <th>expiration_date</th>\n",
       "      <td>0</td>\n",
       "      <td>0.000000</td>\n",
       "    </tr>\n",
       "    <tr>\n",
       "      <th>regi_day</th>\n",
       "      <td>0</td>\n",
       "      <td>0.000000</td>\n",
       "    </tr>\n",
       "    <tr>\n",
       "      <th>regi_month</th>\n",
       "      <td>0</td>\n",
       "      <td>0.000000</td>\n",
       "    </tr>\n",
       "    <tr>\n",
       "      <th>regi_year</th>\n",
       "      <td>0</td>\n",
       "      <td>0.000000</td>\n",
       "    </tr>\n",
       "    <tr>\n",
       "      <th>expire_day</th>\n",
       "      <td>0</td>\n",
       "      <td>0.000000</td>\n",
       "    </tr>\n",
       "    <tr>\n",
       "      <th>expire_month</th>\n",
       "      <td>0</td>\n",
       "      <td>0.000000</td>\n",
       "    </tr>\n",
       "    <tr>\n",
       "      <th>expire_year</th>\n",
       "      <td>0</td>\n",
       "      <td>0.000000</td>\n",
       "    </tr>\n",
       "    <tr>\n",
       "      <th>imputed_bd</th>\n",
       "      <td>0</td>\n",
       "      <td>0.000000</td>\n",
       "    </tr>\n",
       "    <tr>\n",
       "      <th>song_length</th>\n",
       "      <td>98</td>\n",
       "      <td>0.001660</td>\n",
       "    </tr>\n",
       "    <tr>\n",
       "      <th>genre_ids</th>\n",
       "      <td>91956</td>\n",
       "      <td>1.558066</td>\n",
       "    </tr>\n",
       "    <tr>\n",
       "      <th>artist_name</th>\n",
       "      <td>98</td>\n",
       "      <td>0.001660</td>\n",
       "    </tr>\n",
       "    <tr>\n",
       "      <th>composer</th>\n",
       "      <td>1335949</td>\n",
       "      <td>22.635783</td>\n",
       "    </tr>\n",
       "    <tr>\n",
       "      <th>lyricist</th>\n",
       "      <td>2528799</td>\n",
       "      <td>42.846955</td>\n",
       "    </tr>\n",
       "    <tr>\n",
       "      <th>language</th>\n",
       "      <td>126</td>\n",
       "      <td>0.002135</td>\n",
       "    </tr>\n",
       "    <tr>\n",
       "      <th>name</th>\n",
       "      <td>1023</td>\n",
       "      <td>0.017333</td>\n",
       "    </tr>\n",
       "    <tr>\n",
       "      <th>isrc</th>\n",
       "      <td>460218</td>\n",
       "      <td>7.797749</td>\n",
       "    </tr>\n",
       "    <tr>\n",
       "      <th>one_genre</th>\n",
       "      <td>0</td>\n",
       "      <td>0.000000</td>\n",
       "    </tr>\n",
       "    <tr>\n",
       "      <th>two_genre</th>\n",
       "      <td>0</td>\n",
       "      <td>0.000000</td>\n",
       "    </tr>\n",
       "    <tr>\n",
       "      <th>three_genre</th>\n",
       "      <td>0</td>\n",
       "      <td>0.000000</td>\n",
       "    </tr>\n",
       "    <tr>\n",
       "      <th>four_genre</th>\n",
       "      <td>0</td>\n",
       "      <td>0.000000</td>\n",
       "    </tr>\n",
       "    <tr>\n",
       "      <th>five_genre</th>\n",
       "      <td>0</td>\n",
       "      <td>0.000000</td>\n",
       "    </tr>\n",
       "    <tr>\n",
       "      <th>six_genre</th>\n",
       "      <td>0</td>\n",
       "      <td>0.000000</td>\n",
       "    </tr>\n",
       "    <tr>\n",
       "      <th>seven_genre</th>\n",
       "      <td>0</td>\n",
       "      <td>0.000000</td>\n",
       "    </tr>\n",
       "    <tr>\n",
       "      <th>eight_genre</th>\n",
       "      <td>0</td>\n",
       "      <td>0.000000</td>\n",
       "    </tr>\n",
       "  </tbody>\n",
       "</table>\n",
       "</div>"
      ],
      "text/plain": [
       "                        NA_count  Percentage\n",
       "msno                           0    0.000000\n",
       "song_id                        0    0.000000\n",
       "source_system_tab          20018    0.339177\n",
       "source_screen_name        322244    5.459973\n",
       "source_type                16775    0.284229\n",
       "target                         0    0.000000\n",
       "city                           0    0.000000\n",
       "bd                             0    0.000000\n",
       "gender                   2346748   39.762356\n",
       "registered_via                 0    0.000000\n",
       "registration_init_time         0    0.000000\n",
       "expiration_date                0    0.000000\n",
       "regi_day                       0    0.000000\n",
       "regi_month                     0    0.000000\n",
       "regi_year                      0    0.000000\n",
       "expire_day                     0    0.000000\n",
       "expire_month                   0    0.000000\n",
       "expire_year                    0    0.000000\n",
       "imputed_bd                     0    0.000000\n",
       "song_length                   98    0.001660\n",
       "genre_ids                  91956    1.558066\n",
       "artist_name                   98    0.001660\n",
       "composer                 1335949   22.635783\n",
       "lyricist                 2528799   42.846955\n",
       "language                     126    0.002135\n",
       "name                        1023    0.017333\n",
       "isrc                      460218    7.797749\n",
       "one_genre                      0    0.000000\n",
       "two_genre                      0    0.000000\n",
       "three_genre                    0    0.000000\n",
       "four_genre                     0    0.000000\n",
       "five_genre                     0    0.000000\n",
       "six_genre                      0    0.000000\n",
       "seven_genre                    0    0.000000\n",
       "eight_genre                    0    0.000000"
      ]
     },
     "execution_count": 25,
     "metadata": {},
     "output_type": "execute_result"
    }
   ],
   "source": [
    "count_na(train_data)"
   ]
  },
  {
   "cell_type": "code",
   "execution_count": null,
   "metadata": {
    "colab": {
     "base_uri": "https://localhost:8080/"
    },
    "executionInfo": {
     "elapsed": 40186,
     "status": "ok",
     "timestamp": 1615709518813,
     "user": {
      "displayName": "ajay jogiya",
      "photoUrl": "https://lh3.googleusercontent.com/a-/AOh14GgRAXM6e1-9rIRgaPP756Iug7UkbP0azqriVDFLww=s64",
      "userId": "14152685769056492470"
     },
     "user_tz": -330
    },
    "id": "8pSd34TMFnBv",
    "outputId": "bda03fb9-c5b2-4580-c4d0-9a1f15003072"
   },
   "outputs": [
    {
     "name": "stdout",
     "output_type": "stream",
     "text": [
      "columns_name            unique_values         Type\n",
      "--------------------------------------------------\n",
      "msno                       | 28026       | object\n",
      "song_id                    | 319912      | object\n",
      "source_system_tab          | 9           | object\n",
      "source_screen_name         | 21          | object\n",
      "source_type                | 12          | object\n",
      "target                     | 2           | int64\n",
      "city                       | 21          | int64\n",
      "bd                         | 90          | int64\n",
      "gender                     | 3           | object\n",
      "registered_via             | 5           | int64\n",
      "registration_init_time     | 3765        | int64\n",
      "expiration_date            | 1318        | int64\n",
      "regi_day                   | 14          | int64\n",
      "regi_month                 | 12          | int64\n",
      "regi_year                  | 31          | int64\n",
      "expire_day                 | 18          | int64\n",
      "expire_month               | 12          | int64\n",
      "expire_year                | 31          | int64\n",
      "imputed_bd                 | 262         | float64\n",
      "song_length                | 56394       | float64\n",
      "genre_ids                  | 546         | object\n",
      "artist_name                | 36531       | object\n",
      "composer                   | 69032       | object\n",
      "lyricist                   | 31160       | object\n",
      "language                   | 136         | float64\n",
      "name                       | 210398      | object\n",
      "isrc                       | 239826      | object\n",
      "one_genre                  | 158         | object\n",
      "two_genre                  | 82          | object\n",
      "three_genre                | 34          | object\n",
      "four_genre                 | 15          | object\n",
      "five_genre                 | 9           | object\n",
      "six_genre                  | 5           | object\n",
      "seven_genre                | 4           | object\n",
      "eight_genre                | 2           | object\n",
      "__________________________________________________\n"
     ]
    }
   ],
   "source": [
    "info(train_data)"
   ]
  },
  {
   "cell_type": "code",
   "execution_count": null,
   "metadata": {},
   "outputs": [],
   "source": [
    "#count_na(val_data)"
   ]
  },
  {
   "cell_type": "code",
   "execution_count": null,
   "metadata": {
    "colab": {
     "base_uri": "https://localhost:8080/"
    },
    "executionInfo": {
     "elapsed": 49115,
     "status": "ok",
     "timestamp": 1615709528911,
     "user": {
      "displayName": "ajay jogiya",
      "photoUrl": "https://lh3.googleusercontent.com/a-/AOh14GgRAXM6e1-9rIRgaPP756Iug7UkbP0azqriVDFLww=s64",
      "userId": "14152685769056492470"
     },
     "user_tz": -330
    },
    "id": "P5LZpCWwd9u1",
    "outputId": "f7c9328c-f069-4e10-aeba-45af70bd09bb"
   },
   "outputs": [],
   "source": [
    "#info(val_data)"
   ]
  },
  {
   "cell_type": "code",
   "execution_count": null,
   "metadata": {
    "colab": {
     "base_uri": "https://localhost:8080/"
    },
    "executionInfo": {
     "elapsed": 65324,
     "status": "ok",
     "timestamp": 1615709545836,
     "user": {
      "displayName": "ajay jogiya",
      "photoUrl": "https://lh3.googleusercontent.com/a-/AOh14GgRAXM6e1-9rIRgaPP756Iug7UkbP0azqriVDFLww=s64",
      "userId": "14152685769056492470"
     },
     "user_tz": -330
    },
    "id": "qLLZi4ZsOLP_",
    "outputId": "31fa42ea-f14f-44b0-ee2a-20900d66428c"
   },
   "outputs": [],
   "source": [
    "#find_missing_values(test_data)\n",
    "#info(test_data)"
   ]
  },
  {
   "cell_type": "code",
   "execution_count": null,
   "metadata": {
    "colab": {
     "base_uri": "https://localhost:8080/"
    },
    "executionInfo": {
     "elapsed": 3758,
     "status": "ok",
     "timestamp": 1615709552116,
     "user": {
      "displayName": "ajay jogiya",
      "photoUrl": "https://lh3.googleusercontent.com/a-/AOh14GgRAXM6e1-9rIRgaPP756Iug7UkbP0azqriVDFLww=s64",
      "userId": "14152685769056492470"
     },
     "user_tz": -330
    },
    "id": "hZdrT_PxZ1Na",
    "outputId": "68160205-5f9e-4e33-cbc3-9aeb17f087bf"
   },
   "outputs": [
    {
     "name": "stdout",
     "output_type": "stream",
     "text": [
      "Mode of source_system_tab : my library\n",
      "Mode of source_type       : local-library\n",
      "Mode of name              : 演員\n",
      "Mode of artist_name       : Various Artists\n",
      "Mode of language          : 3.0\n"
     ]
    }
   ],
   "source": [
    "# replace missing value with mode\n",
    "mode_system_tab  = str(train_data[ 'source_system_tab'].mode()[0])\n",
    "mode_source_type = str(train_data['source_type'].mode()[0])\n",
    "mode_name        = str(train_data['name'].mode()[0])\n",
    "mode_artist_name = str(train_data['artist_name'].mode()[0])\n",
    "mode_language    = str(train_data['language'].mode()[0])\n",
    "\n",
    "print( 'Mode of source_system_tab :',mode_system_tab)\n",
    "print( 'Mode of source_type       :',mode_source_type)\n",
    "print( 'Mode of name              :',mode_name)\n",
    "print( 'Mode of artist_name       :',mode_artist_name)\n",
    "print( 'Mode of language          :',mode_language)"
   ]
  },
  {
   "cell_type": "markdown",
   "metadata": {
    "id": "nmdPV89DYY6s"
   },
   "source": [
    "# Обработка пропущенных значений"
   ]
  },
  {
   "cell_type": "markdown",
   "metadata": {
    "id": "rz-sHNg8XmWZ"
   },
   "source": [
    "* If Missing value rate is < 1% than we will fill with mode of that feature.\n",
    "* For Categorical feature we will define nan values as 'not_define' categories.\n",
    "* For Numeric categorical feature we will fill with 0.\n",
    "* For Numeric (continuous variable) values we will fill with median."
   ]
  },
  {
   "cell_type": "code",
   "execution_count": null,
   "metadata": {
    "id": "4C5MaZHxY7TR"
   },
   "outputs": [],
   "source": [
    "# replace missing values with new category EX- for categorical data fill not_define and for numerical data fill zeros.\n",
    "train_data['composer'] = train_data['composer'].fillna('no_name')\n",
    "val_data['composer'] = val_data['composer'].fillna('no_name')\n",
    "test_data['composer'] = test_data['composer'].fillna('no_name')\n",
    "\n",
    "train_data['lyricist'] = train_data['lyricist'].fillna('no_name')\n",
    "val_data['lyricist'] = val_data['lyricist'].fillna('no_name')\n",
    "test_data['lyricist'] = test_data['lyricist'].fillna('no_name')\n",
    "\n",
    "train_data['source_screen_name'] = train_data['source_screen_name'].fillna('not_define')\n",
    "val_data['source_screen_name'] = val_data['source_screen_name'].fillna('not_define')\n",
    "test_data['source_screen_name'] = test_data['source_screen_name'].fillna('not_define')\n",
    "\n",
    "train_data['gender'] = train_data['gender'].fillna('not_define')\n",
    "val_data['gender'] = val_data['gender'].fillna('not_define')\n",
    "test_data['gender'] = test_data['gender'].fillna('not_define')\n",
    "\n",
    "# for numeric feature\n",
    "train_data['isrc'] = train_data['isrc'].fillna('0')\n",
    "val_data['isrc'] = val_data['isrc'].fillna('0')\n",
    "test_data['isrc'] = test_data['isrc'].fillna('0')\n",
    "\n",
    "# replace missing values with mode \n",
    "train_data['source_system_tab'] = train_data['source_system_tab'].fillna(mode_system_tab)\n",
    "val_data['source_system_tab'] = val_data['source_system_tab'].fillna(mode_system_tab)\n",
    "test_data['source_system_tab'] = test_data['source_system_tab'].fillna(mode_system_tab)\n",
    "\n",
    "train_data['source_type'] = train_data['source_type'].fillna(mode_source_type)\n",
    "val_data['source_type'] = val_data['source_type'].fillna(mode_source_type)\n",
    "test_data['source_type'] = test_data['source_type'].fillna(mode_source_type)\n",
    "\n",
    "train_data['name'] = train_data['name'].fillna(mode_name)\n",
    "val_data['name'] = val_data['name'].fillna(mode_name)\n",
    "test_data['name'] = test_data['name'].fillna(mode_name)\n",
    "\n",
    "train_data['song_length'] = train_data['song_length'].fillna(train_data['song_length'].median())\n",
    "val_data['song_length'] = val_data['song_length'].fillna(train_data['song_length'].median())\n",
    "test_data['song_length'] = test_data['song_length'].fillna(train_data['song_length'].median())\n",
    "\n",
    "train_data['artist_name'] = train_data['artist_name'].fillna(mode_artist_name)\n",
    "val_data['artist_name'] = val_data['artist_name'].fillna(mode_artist_name)\n",
    "test_data['artist_name'] = test_data['artist_name'].fillna(mode_artist_name)\n",
    "\n",
    "train_data['language'] = train_data['language'].fillna(mode_language)\n",
    "val_data['language'] = val_data['language'].fillna(mode_language)\n",
    "test_data['language'] = test_data['language'].fillna(mode_language)"
   ]
  },
  {
   "cell_type": "code",
   "execution_count": null,
   "metadata": {
    "colab": {
     "base_uri": "https://localhost:8080/"
    },
    "executionInfo": {
     "elapsed": 12143,
     "status": "ok",
     "timestamp": 1615709566834,
     "user": {
      "displayName": "ajay jogiya",
      "photoUrl": "https://lh3.googleusercontent.com/a-/AOh14GgRAXM6e1-9rIRgaPP756Iug7UkbP0azqriVDFLww=s64",
      "userId": "14152685769056492470"
     },
     "user_tz": -330
    },
    "id": "OWCq9SmD04eI",
    "outputId": "0a7659f6-54a5-41aa-fb06-28148aeede51"
   },
   "outputs": [
    {
     "data": {
      "text/plain": [
       "msno                      False\n",
       "song_id                   False\n",
       "source_system_tab         False\n",
       "source_screen_name        False\n",
       "source_type               False\n",
       "target                    False\n",
       "city                      False\n",
       "bd                        False\n",
       "gender                    False\n",
       "registered_via            False\n",
       "registration_init_time    False\n",
       "expiration_date           False\n",
       "regi_day                  False\n",
       "regi_month                False\n",
       "regi_year                 False\n",
       "expire_day                False\n",
       "expire_month              False\n",
       "expire_year               False\n",
       "imputed_bd                False\n",
       "song_length               False\n",
       "genre_ids                  True\n",
       "artist_name               False\n",
       "composer                  False\n",
       "lyricist                  False\n",
       "language                  False\n",
       "name                      False\n",
       "isrc                      False\n",
       "one_genre                 False\n",
       "two_genre                 False\n",
       "three_genre               False\n",
       "four_genre                False\n",
       "five_genre                False\n",
       "six_genre                 False\n",
       "seven_genre               False\n",
       "eight_genre               False\n",
       "dtype: bool"
      ]
     },
     "execution_count": 32,
     "metadata": {},
     "output_type": "execute_result"
    }
   ],
   "source": [
    "train_data.isnull().any()"
   ]
  },
  {
   "cell_type": "code",
   "execution_count": null,
   "metadata": {
    "colab": {
     "base_uri": "https://localhost:8080/"
    },
    "executionInfo": {
     "elapsed": 12435,
     "status": "ok",
     "timestamp": 1615709567657,
     "user": {
      "displayName": "ajay jogiya",
      "photoUrl": "https://lh3.googleusercontent.com/a-/AOh14GgRAXM6e1-9rIRgaPP756Iug7UkbP0azqriVDFLww=s64",
      "userId": "14152685769056492470"
     },
     "user_tz": -330
    },
    "id": "LvPUAm_j0-pK",
    "outputId": "bdeb9553-db30-4f97-a0b5-1298656226a0"
   },
   "outputs": [
    {
     "data": {
      "text/plain": [
       "msno                      False\n",
       "song_id                   False\n",
       "source_system_tab         False\n",
       "source_screen_name        False\n",
       "source_type               False\n",
       "target                    False\n",
       "city                      False\n",
       "bd                        False\n",
       "gender                    False\n",
       "registered_via            False\n",
       "registration_init_time    False\n",
       "expiration_date           False\n",
       "regi_day                  False\n",
       "regi_month                False\n",
       "regi_year                 False\n",
       "expire_day                False\n",
       "expire_month              False\n",
       "expire_year               False\n",
       "imputed_bd                False\n",
       "song_length               False\n",
       "genre_ids                  True\n",
       "artist_name               False\n",
       "composer                  False\n",
       "lyricist                  False\n",
       "language                  False\n",
       "name                      False\n",
       "isrc                      False\n",
       "one_genre                 False\n",
       "two_genre                 False\n",
       "three_genre               False\n",
       "four_genre                False\n",
       "five_genre                False\n",
       "six_genre                 False\n",
       "seven_genre               False\n",
       "eight_genre               False\n",
       "dtype: bool"
      ]
     },
     "execution_count": 33,
     "metadata": {},
     "output_type": "execute_result"
    }
   ],
   "source": [
    "val_data.isnull().any()"
   ]
  },
  {
   "cell_type": "code",
   "execution_count": null,
   "metadata": {
    "colab": {
     "base_uri": "https://localhost:8080/"
    },
    "executionInfo": {
     "elapsed": 14087,
     "status": "ok",
     "timestamp": 1615709569965,
     "user": {
      "displayName": "ajay jogiya",
      "photoUrl": "https://lh3.googleusercontent.com/a-/AOh14GgRAXM6e1-9rIRgaPP756Iug7UkbP0azqriVDFLww=s64",
      "userId": "14152685769056492470"
     },
     "user_tz": -330
    },
    "id": "N1pkqpcX1Dnp",
    "outputId": "431c6d36-a590-4150-9603-5dfcb29799e0"
   },
   "outputs": [
    {
     "data": {
      "text/plain": [
       "id                        False\n",
       "msno                      False\n",
       "song_id                   False\n",
       "source_system_tab         False\n",
       "source_screen_name        False\n",
       "source_type               False\n",
       "city                      False\n",
       "bd                        False\n",
       "gender                    False\n",
       "registered_via            False\n",
       "registration_init_time    False\n",
       "expiration_date           False\n",
       "regi_day                  False\n",
       "regi_month                False\n",
       "regi_year                 False\n",
       "expire_day                False\n",
       "expire_month              False\n",
       "expire_year               False\n",
       "imputed_bd                False\n",
       "song_length               False\n",
       "genre_ids                  True\n",
       "artist_name               False\n",
       "composer                  False\n",
       "lyricist                  False\n",
       "language                  False\n",
       "name                      False\n",
       "isrc                      False\n",
       "one_genre                 False\n",
       "two_genre                 False\n",
       "three_genre               False\n",
       "four_genre                False\n",
       "five_genre                False\n",
       "six_genre                 False\n",
       "seven_genre               False\n",
       "eight_genre               False\n",
       "dtype: bool"
      ]
     },
     "execution_count": 34,
     "metadata": {},
     "output_type": "execute_result"
    }
   ],
   "source": [
    "test_data.isnull().any()"
   ]
  },
  {
   "cell_type": "markdown",
   "metadata": {
    "id": "CN1LpoWZYyXr"
   },
   "source": [
    "# Feature Extraction"
   ]
  },
  {
   "cell_type": "code",
   "execution_count": null,
   "metadata": {
    "colab": {
     "base_uri": "https://localhost:8080/"
    },
    "executionInfo": {
     "elapsed": 1454,
     "status": "ok",
     "timestamp": 1615709778761,
     "user": {
      "displayName": "ajay jogiya",
      "photoUrl": "https://lh3.googleusercontent.com/a-/AOh14GgRAXM6e1-9rIRgaPP756Iug7UkbP0azqriVDFLww=s64",
      "userId": "14152685769056492470"
     },
     "user_tz": -330
    },
    "id": "bOnguK10zpPn",
    "outputId": "31a1aa67-92c6-4a03-89de-5fab46bf230f"
   },
   "outputs": [
    {
     "name": "stdout",
     "output_type": "stream",
     "text": [
      "Train Shape : (5901934, 35)\n",
      "Vali  Shape : (1475484, 35)\n",
      "Test  shape : (2556790, 35)\n"
     ]
    }
   ],
   "source": [
    "print('Train Shape :',train_data.shape)\n",
    "print('Vali  Shape :',val_data.shape)\n",
    "print('Test  shape :',test_data.shape)"
   ]
  },
  {
   "cell_type": "code",
   "execution_count": null,
   "metadata": {
    "colab": {
     "base_uri": "https://localhost:8080/"
    },
    "executionInfo": {
     "elapsed": 7965,
     "status": "ok",
     "timestamp": 1615709787884,
     "user": {
      "displayName": "ajay jogiya",
      "photoUrl": "https://lh3.googleusercontent.com/a-/AOh14GgRAXM6e1-9rIRgaPP756Iug7UkbP0azqriVDFLww=s64",
      "userId": "14152685769056492470"
     },
     "user_tz": -330
    },
    "id": "s6TCYh-LFnBx",
    "outputId": "4de6d315-d8fb-463d-a307-5bf25d5bbfd7"
   },
   "outputs": [
    {
     "name": "stdout",
     "output_type": "stream",
     "text": [
      "Train Shape : (5901934, 36)\n",
      "Vali  Shape : (1475484, 36)\n",
      "Test  shape : (2556790, 36)\n"
     ]
    }
   ],
   "source": [
    "mean = train_data['song_length'].mean()\n",
    "\n",
    "train_data = song_len(train_data, mean)\n",
    "val_data   = song_len(val_data, mean)\n",
    "test_data  = song_len(test_data, mean)\n",
    "\n",
    "print('Train Shape :',train_data.shape)\n",
    "print('Vali  Shape :',val_data.shape)\n",
    "print('Test  shape :',test_data.shape)"
   ]
  },
  {
   "cell_type": "code",
   "execution_count": null,
   "metadata": {
    "colab": {
     "base_uri": "https://localhost:8080/"
    },
    "executionInfo": {
     "elapsed": 5414,
     "status": "ok",
     "timestamp": 1615709796591,
     "user": {
      "displayName": "ajay jogiya",
      "photoUrl": "https://lh3.googleusercontent.com/a-/AOh14GgRAXM6e1-9rIRgaPP756Iug7UkbP0azqriVDFLww=s64",
      "userId": "14152685769056492470"
     },
     "user_tz": -330
    },
    "id": "JH1tIIbuFnBy",
    "outputId": "a6a39ffa-aedb-4469-c6e9-ad6563b5cdff"
   },
   "outputs": [
    {
     "name": "stdout",
     "output_type": "stream",
     "text": [
      "Train Shape : (5901934, 37)\n",
      "Vali  Shape : (1475484, 37)\n",
      "Test  shape : (2556790, 37)\n"
     ]
    }
   ],
   "source": [
    "# create new feature \n",
    "# if language = 3 or 52 than 1 else: 0\n",
    "# we know that most song language are 3 or 52.\n",
    "    \n",
    "train_data = like_language(train_data)\n",
    "val_data   = like_language(val_data)\n",
    "test_dat   = like_language(test_data)\n",
    "\n",
    "print('Train Shape :',train_data.shape)\n",
    "print('Vali  Shape :',val_data.shape)\n",
    "print('Test  shape :',test_data.shape)"
   ]
  },
  {
   "cell_type": "code",
   "execution_count": null,
   "metadata": {
    "colab": {
     "base_uri": "https://localhost:8080/"
    },
    "executionInfo": {
     "elapsed": 18101,
     "status": "ok",
     "timestamp": 1615709826362,
     "user": {
      "displayName": "ajay jogiya",
      "photoUrl": "https://lh3.googleusercontent.com/a-/AOh14GgRAXM6e1-9rIRgaPP756Iug7UkbP0azqriVDFLww=s64",
      "userId": "14152685769056492470"
     },
     "user_tz": -330
    },
    "id": "YSk_a1MUQU10",
    "outputId": "9be389c8-f06f-4374-b561-93d06d14a439"
   },
   "outputs": [
    {
     "name": "stdout",
     "output_type": "stream",
     "text": [
      "Train Shape : (5901934, 38)\n",
      "Vali  Shape : (1475484, 38)\n",
      "Test  shape : (2556790, 38)\n"
     ]
    }
   ],
   "source": [
    "# create new feature : count of composer artist\n",
    "train_composer_count = []\n",
    "for i in train_data['composer']:\n",
    "    s = count_funtion(i,'no_name')\n",
    "    train_composer_count.append(s)\n",
    "train_data['composer_count'] = train_composer_count\n",
    "\n",
    "val_composer_count = []\n",
    "for i in val_data['composer']:\n",
    "    s = count_funtion(i,'no_name')\n",
    "    val_composer_count.append(s)\n",
    "val_data['composer_count'] = val_composer_count\n",
    "\n",
    "test_composer_count = []\n",
    "for i in test_data['composer']:\n",
    "    s = count_funtion(i,'no_name')\n",
    "    test_composer_count.append(s)\n",
    "test_data['composer_count'] = test_composer_count\n",
    "\n",
    "print('Train Shape :',train_data.shape)\n",
    "print('Vali  Shape :',val_data.shape)\n",
    "print('Test  shape :',test_data.shape)"
   ]
  },
  {
   "cell_type": "code",
   "execution_count": null,
   "metadata": {
    "colab": {
     "base_uri": "https://localhost:8080/"
    },
    "executionInfo": {
     "elapsed": 14832,
     "status": "ok",
     "timestamp": 1615709881235,
     "user": {
      "displayName": "ajay jogiya",
      "photoUrl": "https://lh3.googleusercontent.com/a-/AOh14GgRAXM6e1-9rIRgaPP756Iug7UkbP0azqriVDFLww=s64",
      "userId": "14152685769056492470"
     },
     "user_tz": -330
    },
    "id": "Dbdr6MdrQUu0",
    "outputId": "91817449-5996-4d3d-f619-5a37b24370dc"
   },
   "outputs": [
    {
     "name": "stdout",
     "output_type": "stream",
     "text": [
      "Train Shape : (5901934, 39)\n",
      "Vali  Shape : (1475484, 39)\n",
      "Test  shape : (2556790, 39)\n"
     ]
    }
   ],
   "source": [
    "# create new feature : count of lyricist artist\n",
    "\n",
    "train_lyricist_count = []\n",
    "for i in train_data['lyricist']:\n",
    "    s = count_funtion(i,'no_name')\n",
    "    train_lyricist_count.append(s)\n",
    "train_data['lyricist_count'] = train_lyricist_count\n",
    "\n",
    "val_lyricist_count = []\n",
    "for i in val_data['lyricist']:\n",
    "    s = count_funtion(i,'no_name')\n",
    "    val_lyricist_count.append(s)\n",
    "val_data['lyricist_count'] = val_lyricist_count\n",
    "\n",
    "test_lyricist_count = []\n",
    "for i in test_data['lyricist']:\n",
    "    s = count_funtion(i,'no_name')\n",
    "    test_lyricist_count.append(s)\n",
    "test_data['lyricist_count'] = test_lyricist_count\n",
    "\n",
    "print('Train Shape :',train_data.shape)\n",
    "print('Vali  Shape :',val_data.shape)\n",
    "print('Test  shape :',test_data.shape)"
   ]
  },
  {
   "cell_type": "code",
   "execution_count": null,
   "metadata": {
    "id": "rZJt1k7fQUnx"
   },
   "outputs": [
    {
     "name": "stdout",
     "output_type": "stream",
     "text": [
      "5626314  rows have 1 genre_ids\n",
      "242213  rows have 2 genre_ids\n",
      "26516   rows have 3 genre_ids\n",
      "5020    rows have 4 genre_ids\n",
      "1616    rows have 5 genre_ids\n",
      "32      rows have 6 genre_ids\n",
      "10      rows have 7 genre_ids\n",
      "213     rows have 8 genre_ids\n"
     ]
    }
   ],
   "source": [
    "# funtion return how many genre_ids we have in each row \n",
    "genre = train_data['genre_ids'].values\n",
    "max_genre = []\n",
    "\n",
    "for i in genre:\n",
    "    i = str(i)\n",
    "    max_genre.append(len(i.split('|')))\n",
    "    \n",
    "for i in range(1,max(max_genre)+1):\n",
    "    c = str(max_genre.count(i))\n",
    "    print(c ,' '*(6-len(c))  , 'rows have' , i , 'genre_ids')"
   ]
  },
  {
   "cell_type": "code",
   "execution_count": null,
   "metadata": {
    "colab": {
     "base_uri": "https://localhost:8080/"
    },
    "executionInfo": {
     "elapsed": 24111,
     "status": "ok",
     "timestamp": 1615709940383,
     "user": {
      "displayName": "ajay jogiya",
      "photoUrl": "https://lh3.googleusercontent.com/a-/AOh14GgRAXM6e1-9rIRgaPP756Iug7UkbP0azqriVDFLww=s64",
      "userId": "14152685769056492470"
     },
     "user_tz": -330
    },
    "id": "COoIMIJ9Uovg",
    "outputId": "13757046-b9e5-43a9-956d-a42c69380953"
   },
   "outputs": [
    {
     "name": "stdout",
     "output_type": "stream",
     "text": [
      "Train Shape : (5901934, 40)\n",
      "Vali  Shape : (1475484, 40)\n",
      "Test  shape : (2556790, 40)\n"
     ]
    }
   ],
   "source": [
    "# get first name of composer\n",
    "\n",
    "train_data = get_composer_name(train_data)\n",
    "val_data   = get_composer_name(val_data)\n",
    "test_data  = get_composer_name(test_data)  \n",
    "\n",
    "print('Train Shape :',train_data.shape)\n",
    "print('Vali  Shape :',val_data.shape)\n",
    "print('Test  shape :',test_data.shape)"
   ]
  },
  {
   "cell_type": "code",
   "execution_count": null,
   "metadata": {
    "colab": {
     "base_uri": "https://localhost:8080/"
    },
    "executionInfo": {
     "elapsed": 31799,
     "status": "ok",
     "timestamp": 1615709974047,
     "user": {
      "displayName": "ajay jogiya",
      "photoUrl": "https://lh3.googleusercontent.com/a-/AOh14GgRAXM6e1-9rIRgaPP756Iug7UkbP0azqriVDFLww=s64",
      "userId": "14152685769056492470"
     },
     "user_tz": -330
    },
    "id": "89ZoiaaXnaNp",
    "outputId": "5bf01ef4-c055-421f-8936-a85b6d2c20ba"
   },
   "outputs": [
    {
     "name": "stdout",
     "output_type": "stream",
     "text": [
      "Train Shape : (5901934, 41)\n",
      "Vali  Shape : (1475484, 41)\n",
      "Test  shape : (2556790, 41)\n"
     ]
    }
   ],
   "source": [
    "# get first name of artist_name\n",
    "\n",
    "train_data = get_artist_name(train_data)\n",
    "val_data   = get_artist_name(val_data)\n",
    "test_data  = get_artist_name(test_data)  \n",
    "\n",
    "print('Train Shape :',train_data.shape)\n",
    "print('Vali  Shape :',val_data.shape)\n",
    "print('Test  shape :',test_data.shape)"
   ]
  },
  {
   "cell_type": "code",
   "execution_count": null,
   "metadata": {
    "colab": {
     "base_uri": "https://localhost:8080/"
    },
    "executionInfo": {
     "elapsed": 17421,
     "status": "ok",
     "timestamp": 1615710013335,
     "user": {
      "displayName": "ajay jogiya",
      "photoUrl": "https://lh3.googleusercontent.com/a-/AOh14GgRAXM6e1-9rIRgaPP756Iug7UkbP0azqriVDFLww=s64",
      "userId": "14152685769056492470"
     },
     "user_tz": -330
    },
    "id": "SSYb9ZKtQ0ia",
    "outputId": "4bfda3c1-56f8-4f8b-f7d7-1a03d900a338"
   },
   "outputs": [
    {
     "name": "stdout",
     "output_type": "stream",
     "text": [
      "Train Shape : (5901934, 45)\n",
      "Vali  Shape : (1475484, 45)\n",
      "Test  shape : (2556790, 45)\n"
     ]
    }
   ],
   "source": [
    "# funtion for extract values from isrc feature\n",
    "\n",
    "train_data = get_isrc(train_data)\n",
    "val_data   = get_isrc(val_data)\n",
    "test_data  = get_isrc(test_data)\n",
    "\n",
    "print('Train Shape :',train_data.shape)\n",
    "print('Vali  Shape :',val_data.shape)\n",
    "print('Test  shape :',test_data.shape)"
   ]
  },
  {
   "cell_type": "markdown",
   "metadata": {
    "id": "8kK0pDYLV8OR"
   },
   "source": [
    "[Reference for below feature](https://www.researchgate.net/publication/328838360_KKbox%27s_Music_Recommendation_Challenge_Solution_with_Feature_engineering_11th_ACM_International_Conference_on_Web_Search_and_Data_Mining_WSDM_2018_February_5-9_2018_Los_Angeles_California_USA_WSDM_Cup\n",
    ")\n",
    "\n",
    "* Reseach paper : KKbox’s Music Recommendation Challenge Solution with Feature engineering "
   ]
  },
  {
   "cell_type": "code",
   "execution_count": null,
   "metadata": {
    "colab": {
     "base_uri": "https://localhost:8080/"
    },
    "executionInfo": {
     "elapsed": 2118,
     "status": "ok",
     "timestamp": 1615710028231,
     "user": {
      "displayName": "ajay jogiya",
      "photoUrl": "https://lh3.googleusercontent.com/a-/AOh14GgRAXM6e1-9rIRgaPP756Iug7UkbP0azqriVDFLww=s64",
      "userId": "14152685769056492470"
     },
     "user_tz": -330
    },
    "id": "GH5umLhU4RBj",
    "outputId": "f190c018-977c-49f8-e469-5958c698c7ff"
   },
   "outputs": [
    {
     "name": "stdout",
     "output_type": "stream",
     "text": [
      "Train Shape : (5901934, 46)\n",
      "Vali  Shape : (1475484, 46)\n",
      "Test  shape : (2556790, 46)\n"
     ]
    }
   ],
   "source": [
    "# create new feature \n",
    "# we know that young people prefer new songs and older are more like to listen older songs.\n",
    "# new_feature that represent gap between user age and song release year\n",
    "\n",
    "train_data['age_gap_between_song'] = train_data['bd'].astype(float) - train_data['year'].astype(float)\n",
    " \n",
    "val_data['age_gap_between_song'] = val_data['bd'].astype(float) - val_data['year'].astype(float)\n",
    " \n",
    "test_data['age_gap_between_song'] = test_data['bd'].astype(float) - test_data['year'].astype(float)\n",
    "\n",
    "print('Train Shape :',train_data.shape)\n",
    "print('Vali  Shape :',val_data.shape)\n",
    "print('Test  shape :',test_data.shape)"
   ]
  },
  {
   "cell_type": "code",
   "execution_count": null,
   "metadata": {
    "colab": {
     "base_uri": "https://localhost:8080/",
     "height": 338
    },
    "executionInfo": {
     "elapsed": 1400,
     "status": "ok",
     "timestamp": 1615710035060,
     "user": {
      "displayName": "ajay jogiya",
      "photoUrl": "https://lh3.googleusercontent.com/a-/AOh14GgRAXM6e1-9rIRgaPP756Iug7UkbP0azqriVDFLww=s64",
      "userId": "14152685769056492470"
     },
     "user_tz": -330
    },
    "id": "LNvbOoeJNPEn",
    "outputId": "8a1724a1-a566-47d1-c270-4dcdd14defcf"
   },
   "outputs": [
    {
     "name": "stdout",
     "output_type": "stream",
     "text": [
      "(5901934, 46)\n"
     ]
    },
    {
     "data": {
      "text/html": [
       "<div>\n",
       "<style scoped>\n",
       "    .dataframe tbody tr th:only-of-type {\n",
       "        vertical-align: middle;\n",
       "    }\n",
       "\n",
       "    .dataframe tbody tr th {\n",
       "        vertical-align: top;\n",
       "    }\n",
       "\n",
       "    .dataframe thead th {\n",
       "        text-align: right;\n",
       "    }\n",
       "</style>\n",
       "<table border=\"1\" class=\"dataframe\">\n",
       "  <thead>\n",
       "    <tr style=\"text-align: right;\">\n",
       "      <th></th>\n",
       "      <th>msno</th>\n",
       "      <th>song_id</th>\n",
       "      <th>source_system_tab</th>\n",
       "      <th>source_screen_name</th>\n",
       "      <th>source_type</th>\n",
       "      <th>target</th>\n",
       "      <th>city</th>\n",
       "      <th>bd</th>\n",
       "      <th>gender</th>\n",
       "      <th>registered_via</th>\n",
       "      <th>...</th>\n",
       "      <th>like_language</th>\n",
       "      <th>composer_count</th>\n",
       "      <th>lyricist_count</th>\n",
       "      <th>composer_first_name</th>\n",
       "      <th>first_artist_name</th>\n",
       "      <th>country_code</th>\n",
       "      <th>regi_code</th>\n",
       "      <th>year</th>\n",
       "      <th>designation_code</th>\n",
       "      <th>age_gap_between_song</th>\n",
       "    </tr>\n",
       "  </thead>\n",
       "  <tbody>\n",
       "    <tr>\n",
       "      <th>0</th>\n",
       "      <td>FGtllVqz18RPiwJj/edr2gV78zirAiY/9SmYvia+kCg=</td>\n",
       "      <td>BBzumQNXUHKdEBOB7mAJuzok+IJA1c2Ryg/yzTF6tik=</td>\n",
       "      <td>explore</td>\n",
       "      <td>Explore</td>\n",
       "      <td>online-playlist</td>\n",
       "      <td>1</td>\n",
       "      <td>1</td>\n",
       "      <td>0</td>\n",
       "      <td>not_define</td>\n",
       "      <td>7</td>\n",
       "      <td>...</td>\n",
       "      <td>1</td>\n",
       "      <td>2</td>\n",
       "      <td>0</td>\n",
       "      <td>Dan Smith</td>\n",
       "      <td>Bastille</td>\n",
       "      <td>GB</td>\n",
       "      <td>UM7</td>\n",
       "      <td>16</td>\n",
       "      <td>02854</td>\n",
       "      <td>-16.0</td>\n",
       "    </tr>\n",
       "    <tr>\n",
       "      <th>1</th>\n",
       "      <td>Xumu+NIjS6QYVxDS4/t3SawvJ7viT9hPKXmf0RtLNx8=</td>\n",
       "      <td>bhp/MpSNoqoxOIB+/l8WPqu6jldth4DIpCm3ayXnJqM=</td>\n",
       "      <td>my library</td>\n",
       "      <td>Local playlist more</td>\n",
       "      <td>local-playlist</td>\n",
       "      <td>1</td>\n",
       "      <td>13</td>\n",
       "      <td>24</td>\n",
       "      <td>female</td>\n",
       "      <td>9</td>\n",
       "      <td>...</td>\n",
       "      <td>1</td>\n",
       "      <td>0</td>\n",
       "      <td>0</td>\n",
       "      <td>no_name</td>\n",
       "      <td>Various Artists</td>\n",
       "      <td>US</td>\n",
       "      <td>3C6</td>\n",
       "      <td>99</td>\n",
       "      <td>10183</td>\n",
       "      <td>-75.0</td>\n",
       "    </tr>\n",
       "    <tr>\n",
       "      <th>2</th>\n",
       "      <td>Xumu+NIjS6QYVxDS4/t3SawvJ7viT9hPKXmf0RtLNx8=</td>\n",
       "      <td>JNWfrrC7zNN7BdMpsISKa4Mw+xVJYNnxXh3/Epw7QgY=</td>\n",
       "      <td>my library</td>\n",
       "      <td>Local playlist more</td>\n",
       "      <td>local-playlist</td>\n",
       "      <td>1</td>\n",
       "      <td>13</td>\n",
       "      <td>24</td>\n",
       "      <td>female</td>\n",
       "      <td>9</td>\n",
       "      <td>...</td>\n",
       "      <td>1</td>\n",
       "      <td>4</td>\n",
       "      <td>0</td>\n",
       "      <td>N. Jones</td>\n",
       "      <td>Nas</td>\n",
       "      <td>US</td>\n",
       "      <td>UM7</td>\n",
       "      <td>06</td>\n",
       "      <td>18761</td>\n",
       "      <td>18.0</td>\n",
       "    </tr>\n",
       "  </tbody>\n",
       "</table>\n",
       "<p>3 rows × 46 columns</p>\n",
       "</div>"
      ],
      "text/plain": [
       "                                           msno  \\\n",
       "0  FGtllVqz18RPiwJj/edr2gV78zirAiY/9SmYvia+kCg=   \n",
       "1  Xumu+NIjS6QYVxDS4/t3SawvJ7viT9hPKXmf0RtLNx8=   \n",
       "2  Xumu+NIjS6QYVxDS4/t3SawvJ7viT9hPKXmf0RtLNx8=   \n",
       "\n",
       "                                        song_id source_system_tab  \\\n",
       "0  BBzumQNXUHKdEBOB7mAJuzok+IJA1c2Ryg/yzTF6tik=           explore   \n",
       "1  bhp/MpSNoqoxOIB+/l8WPqu6jldth4DIpCm3ayXnJqM=        my library   \n",
       "2  JNWfrrC7zNN7BdMpsISKa4Mw+xVJYNnxXh3/Epw7QgY=        my library   \n",
       "\n",
       "    source_screen_name      source_type  target  city  bd      gender  \\\n",
       "0              Explore  online-playlist       1     1   0  not_define   \n",
       "1  Local playlist more   local-playlist       1    13  24      female   \n",
       "2  Local playlist more   local-playlist       1    13  24      female   \n",
       "\n",
       "   registered_via  ...  like_language  composer_count  lyricist_count  \\\n",
       "0               7  ...              1               2               0   \n",
       "1               9  ...              1               0               0   \n",
       "2               9  ...              1               4               0   \n",
       "\n",
       "   composer_first_name  first_artist_name  country_code   regi_code  year  \\\n",
       "0            Dan Smith           Bastille             GB        UM7    16   \n",
       "1              no_name    Various Artists             US        3C6    99   \n",
       "2             N. Jones                Nas             US        UM7    06   \n",
       "\n",
       "   designation_code  age_gap_between_song  \n",
       "0             02854                 -16.0  \n",
       "1             10183                 -75.0  \n",
       "2             18761                  18.0  \n",
       "\n",
       "[3 rows x 46 columns]"
      ]
     },
     "execution_count": 46,
     "metadata": {},
     "output_type": "execute_result"
    }
   ],
   "source": [
    "print(train_data.shape)\n",
    "train_data.head(3)"
   ]
  },
  {
   "cell_type": "code",
   "execution_count": null,
   "metadata": {
    "id": "6uOy2SdmjBAX"
   },
   "outputs": [],
   "source": [
    "# https://github.com/lystdo/Codes-for-WSDM-CUP-Music-Rec-1st-place-solution\n",
    "\n",
    "train_data = calculate_groupby_features(train_data)\n",
    "val_data = calculate_groupby_features(val_data)\n",
    "test_data = calculate_groupby_features(test_data)"
   ]
  },
  {
   "cell_type": "code",
   "execution_count": null,
   "metadata": {
    "colab": {
     "base_uri": "https://localhost:8080/"
    },
    "executionInfo": {
     "elapsed": 57620,
     "status": "ok",
     "timestamp": 1615710222102,
     "user": {
      "displayName": "ajay jogiya",
      "photoUrl": "https://lh3.googleusercontent.com/a-/AOh14GgRAXM6e1-9rIRgaPP756Iug7UkbP0azqriVDFLww=s64",
      "userId": "14152685769056492470"
     },
     "user_tz": -330
    },
    "id": "CbaAlwzdjA2V",
    "outputId": "302f9bd4-d5bc-466e-ee0a-0c7813c8b83c"
   },
   "outputs": [
    {
     "name": "stdout",
     "output_type": "stream",
     "text": [
      "..\n",
      "...\n"
     ]
    }
   ],
   "source": [
    "train_data = calculate_groupby_features(train_data)\n",
    "#print('.')\n",
    "val_data = calculate_groupby_features(val_data)\n",
    "print('..')\n",
    "test_data = calculate_groupby_features(test_data)\n",
    "print('...')"
   ]
  },
  {
   "cell_type": "code",
   "execution_count": null,
   "metadata": {
    "colab": {
     "base_uri": "https://localhost:8080/"
    },
    "executionInfo": {
     "elapsed": 1726,
     "status": "ok",
     "timestamp": 1615710229575,
     "user": {
      "displayName": "ajay jogiya",
      "photoUrl": "https://lh3.googleusercontent.com/a-/AOh14GgRAXM6e1-9rIRgaPP756Iug7UkbP0azqriVDFLww=s64",
      "userId": "14152685769056492470"
     },
     "user_tz": -330
    },
    "id": "nH3TLKyOjAnG",
    "outputId": "311351d1-41da-4863-abe0-2c23df029cac"
   },
   "outputs": [
    {
     "name": "stdout",
     "output_type": "stream",
     "text": [
      "Train Shape : (5901934, 51)\n",
      "Vali  Shape : (1475484, 51)\n",
      "Test  shape : (2556790, 51)\n"
     ]
    }
   ],
   "source": [
    "print('Train Shape :',train_data.shape)\n",
    "print('Vali  Shape :',val_data.shape)\n",
    "print('Test  shape :',test_data.shape)"
   ]
  },
  {
   "cell_type": "code",
   "execution_count": null,
   "metadata": {
    "colab": {
     "base_uri": "https://localhost:8080/"
    },
    "executionInfo": {
     "elapsed": 9263,
     "status": "ok",
     "timestamp": 1615710240406,
     "user": {
      "displayName": "ajay jogiya",
      "photoUrl": "https://lh3.googleusercontent.com/a-/AOh14GgRAXM6e1-9rIRgaPP756Iug7UkbP0azqriVDFLww=s64",
      "userId": "14152685769056492470"
     },
     "user_tz": -330
    },
    "id": "iTKMLFxKr7ET",
    "outputId": "ba8cede4-c2ed-430f-adad-617fb00caa5c"
   },
   "outputs": [
    {
     "data": {
      "text/plain": [
       "msno                      False\n",
       "song_id                   False\n",
       "source_system_tab         False\n",
       "source_screen_name        False\n",
       "source_type               False\n",
       "target                    False\n",
       "city                      False\n",
       "bd                        False\n",
       "gender                    False\n",
       "registered_via            False\n",
       "registration_init_time    False\n",
       "expiration_date           False\n",
       "regi_day                  False\n",
       "regi_month                False\n",
       "regi_year                 False\n",
       "expire_day                False\n",
       "expire_month              False\n",
       "expire_year               False\n",
       "imputed_bd                False\n",
       "song_length               False\n",
       "genre_ids                  True\n",
       "artist_name               False\n",
       "composer                  False\n",
       "lyricist                  False\n",
       "language                  False\n",
       "name                      False\n",
       "isrc                      False\n",
       "one_genre                 False\n",
       "two_genre                 False\n",
       "three_genre               False\n",
       "four_genre                False\n",
       "five_genre                False\n",
       "six_genre                 False\n",
       "seven_genre               False\n",
       "eight_genre               False\n",
       "binary_song_length        False\n",
       "like_language             False\n",
       "composer_count            False\n",
       "lyricist_count            False\n",
       "composer_first_name       False\n",
       "first_artist_name         False\n",
       "country_code              False\n",
       "regi_code                 False\n",
       "year                      False\n",
       "designation_code          False\n",
       "age_gap_between_song      False\n",
       "member_song_count         False\n",
       "artist_song_count         False\n",
       "lang_song_count           False\n",
       "song_member_count         False\n",
       "age_song_count            False\n",
       "dtype: bool"
      ]
     },
     "execution_count": 50,
     "metadata": {},
     "output_type": "execute_result"
    }
   ],
   "source": [
    "train_data.isnull().any()"
   ]
  },
  {
   "cell_type": "code",
   "execution_count": null,
   "metadata": {
    "colab": {
     "base_uri": "https://localhost:8080/"
    },
    "executionInfo": {
     "elapsed": 2807,
     "status": "ok",
     "timestamp": 1615710244172,
     "user": {
      "displayName": "ajay jogiya",
      "photoUrl": "https://lh3.googleusercontent.com/a-/AOh14GgRAXM6e1-9rIRgaPP756Iug7UkbP0azqriVDFLww=s64",
      "userId": "14152685769056492470"
     },
     "user_tz": -330
    },
    "id": "fUlxz3xu0Rfx",
    "outputId": "b083d6ae-d4d3-4bf9-bf80-2be3478135ea"
   },
   "outputs": [
    {
     "data": {
      "text/plain": [
       "msno                      False\n",
       "song_id                   False\n",
       "source_system_tab         False\n",
       "source_screen_name        False\n",
       "source_type               False\n",
       "target                    False\n",
       "city                      False\n",
       "bd                        False\n",
       "gender                    False\n",
       "registered_via            False\n",
       "registration_init_time    False\n",
       "expiration_date           False\n",
       "regi_day                  False\n",
       "regi_month                False\n",
       "regi_year                 False\n",
       "expire_day                False\n",
       "expire_month              False\n",
       "expire_year               False\n",
       "imputed_bd                False\n",
       "song_length               False\n",
       "genre_ids                  True\n",
       "artist_name               False\n",
       "composer                  False\n",
       "lyricist                  False\n",
       "language                  False\n",
       "name                      False\n",
       "isrc                      False\n",
       "one_genre                 False\n",
       "two_genre                 False\n",
       "three_genre               False\n",
       "four_genre                False\n",
       "five_genre                False\n",
       "six_genre                 False\n",
       "seven_genre               False\n",
       "eight_genre               False\n",
       "binary_song_length        False\n",
       "like_language             False\n",
       "composer_count            False\n",
       "lyricist_count            False\n",
       "composer_first_name       False\n",
       "first_artist_name         False\n",
       "country_code              False\n",
       "regi_code                 False\n",
       "year                      False\n",
       "designation_code          False\n",
       "age_gap_between_song      False\n",
       "member_song_count         False\n",
       "artist_song_count         False\n",
       "lang_song_count           False\n",
       "song_member_count         False\n",
       "age_song_count            False\n",
       "dtype: bool"
      ]
     },
     "execution_count": 51,
     "metadata": {},
     "output_type": "execute_result"
    }
   ],
   "source": [
    "val_data.isnull().any()"
   ]
  },
  {
   "cell_type": "code",
   "execution_count": null,
   "metadata": {
    "colab": {
     "base_uri": "https://localhost:8080/"
    },
    "executionInfo": {
     "elapsed": 4843,
     "status": "ok",
     "timestamp": 1615710249935,
     "user": {
      "displayName": "ajay jogiya",
      "photoUrl": "https://lh3.googleusercontent.com/a-/AOh14GgRAXM6e1-9rIRgaPP756Iug7UkbP0azqriVDFLww=s64",
      "userId": "14152685769056492470"
     },
     "user_tz": -330
    },
    "id": "hvm7Cujq0Rcj",
    "outputId": "93f493e5-481c-4604-9655-87a03a2ea2f4"
   },
   "outputs": [
    {
     "data": {
      "text/plain": [
       "id                        False\n",
       "msno                      False\n",
       "song_id                   False\n",
       "source_system_tab         False\n",
       "source_screen_name        False\n",
       "source_type               False\n",
       "city                      False\n",
       "bd                        False\n",
       "gender                    False\n",
       "registered_via            False\n",
       "registration_init_time    False\n",
       "expiration_date           False\n",
       "regi_day                  False\n",
       "regi_month                False\n",
       "regi_year                 False\n",
       "expire_day                False\n",
       "expire_month              False\n",
       "expire_year               False\n",
       "imputed_bd                False\n",
       "song_length               False\n",
       "genre_ids                  True\n",
       "artist_name               False\n",
       "composer                  False\n",
       "lyricist                  False\n",
       "language                  False\n",
       "name                      False\n",
       "isrc                      False\n",
       "one_genre                 False\n",
       "two_genre                 False\n",
       "three_genre               False\n",
       "four_genre                False\n",
       "five_genre                False\n",
       "six_genre                 False\n",
       "seven_genre               False\n",
       "eight_genre               False\n",
       "binary_song_length        False\n",
       "like_language             False\n",
       "composer_count            False\n",
       "lyricist_count            False\n",
       "composer_first_name       False\n",
       "first_artist_name         False\n",
       "country_code              False\n",
       "regi_code                 False\n",
       "year                      False\n",
       "designation_code          False\n",
       "age_gap_between_song      False\n",
       "member_song_count         False\n",
       "artist_song_count         False\n",
       "lang_song_count           False\n",
       "song_member_count         False\n",
       "age_song_count            False\n",
       "dtype: bool"
      ]
     },
     "execution_count": 52,
     "metadata": {},
     "output_type": "execute_result"
    }
   ],
   "source": [
    "test_data.isnull().any()"
   ]
  },
  {
   "cell_type": "code",
   "execution_count": null,
   "metadata": {},
   "outputs": [],
   "source": [
    "train_data = train_data.drop('genre_ids', axis=1)\n",
    "val_data = val_data.drop('genre_ids', axis=1)\n",
    "test_data = test_data.drop('genre_ids', axis=1)\n",
    "test_data = test_data.drop('id', axis=1)"
   ]
  },
  {
   "cell_type": "code",
   "execution_count": null,
   "metadata": {},
   "outputs": [
    {
     "name": "stdout",
     "output_type": "stream",
     "text": [
      "Train Shape : (5901934, 51)\n",
      "Vali  Shape : (1475484, 51)\n",
      "Test  shape : (2556790, 50)\n"
     ]
    }
   ],
   "source": [
    "print('Train Shape :',train_data.shape)\n",
    "print('Vali  Shape :',val_data.shape)\n",
    "print('Test  shape :',test_data.shape)"
   ]
  },
  {
   "cell_type": "code",
   "execution_count": null,
   "metadata": {},
   "outputs": [
    {
     "name": "stdout",
     "output_type": "stream",
     "text": [
      "target\n",
      "genre_ids\n"
     ]
    }
   ],
   "source": [
    "for c in list(train_data.columns):\n",
    "    if c not in list(test_data.columns):\n",
    "        print(c)"
   ]
  },
  {
   "cell_type": "code",
   "execution_count": null,
   "metadata": {
    "colab": {
     "base_uri": "https://localhost:8080/"
    },
    "executionInfo": {
     "elapsed": 141163,
     "status": "ok",
     "timestamp": 1615710538237,
     "user": {
      "displayName": "ajay jogiya",
      "photoUrl": "https://lh3.googleusercontent.com/a-/AOh14GgRAXM6e1-9rIRgaPP756Iug7UkbP0azqriVDFLww=s64",
      "userId": "14152685769056492470"
     },
     "user_tz": -330
    },
    "id": "kyf9GHDx0RZz",
    "outputId": "7dd1bbff-a757-4a92-ca76-3122f8edf87c"
   },
   "outputs": [
    {
     "name": "stdout",
     "output_type": "stream",
     "text": [
      "test_data saved.\n"
     ]
    }
   ],
   "source": [
    "#train_data.to_csv('train_data_final.csv')\n",
    "#print('train_data saved.')\n",
    "#val_data.to_csv('val_data_final.csv')\n",
    "#print('val_data saved.')\n",
    "test_data.to_csv('test_data_final.csv')\n",
    "print('test_data saved.')"
   ]
  },
  {
   "cell_type": "code",
   "execution_count": null,
   "metadata": {
    "colab": {
     "base_uri": "https://localhost:8080/",
     "height": 338
    },
    "executionInfo": {
     "elapsed": 1430,
     "status": "ok",
     "timestamp": 1615710548668,
     "user": {
      "displayName": "ajay jogiya",
      "photoUrl": "https://lh3.googleusercontent.com/a-/AOh14GgRAXM6e1-9rIRgaPP756Iug7UkbP0azqriVDFLww=s64",
      "userId": "14152685769056492470"
     },
     "user_tz": -330
    },
    "id": "fv7jGMlX2Dhb",
    "outputId": "afb36529-ad06-4337-9028-340834814f66"
   },
   "outputs": [
    {
     "name": "stdout",
     "output_type": "stream",
     "text": [
      "(5901934, 50)\n"
     ]
    },
    {
     "data": {
      "text/html": [
       "<div>\n",
       "<style scoped>\n",
       "    .dataframe tbody tr th:only-of-type {\n",
       "        vertical-align: middle;\n",
       "    }\n",
       "\n",
       "    .dataframe tbody tr th {\n",
       "        vertical-align: top;\n",
       "    }\n",
       "\n",
       "    .dataframe thead th {\n",
       "        text-align: right;\n",
       "    }\n",
       "</style>\n",
       "<table border=\"1\" class=\"dataframe\">\n",
       "  <thead>\n",
       "    <tr style=\"text-align: right;\">\n",
       "      <th></th>\n",
       "      <th>msno</th>\n",
       "      <th>song_id</th>\n",
       "      <th>source_system_tab</th>\n",
       "      <th>source_screen_name</th>\n",
       "      <th>source_type</th>\n",
       "      <th>target</th>\n",
       "      <th>city</th>\n",
       "      <th>bd</th>\n",
       "      <th>gender</th>\n",
       "      <th>registered_via</th>\n",
       "      <th>...</th>\n",
       "      <th>country_code</th>\n",
       "      <th>regi_code</th>\n",
       "      <th>year</th>\n",
       "      <th>designation_code</th>\n",
       "      <th>age_gap_between_song</th>\n",
       "      <th>member_song_count</th>\n",
       "      <th>artist_song_count</th>\n",
       "      <th>lang_song_count</th>\n",
       "      <th>song_member_count</th>\n",
       "      <th>age_song_count</th>\n",
       "    </tr>\n",
       "  </thead>\n",
       "  <tbody>\n",
       "    <tr>\n",
       "      <th>0</th>\n",
       "      <td>FGtllVqz18RPiwJj/edr2gV78zirAiY/9SmYvia+kCg=</td>\n",
       "      <td>BBzumQNXUHKdEBOB7mAJuzok+IJA1c2Ryg/yzTF6tik=</td>\n",
       "      <td>explore</td>\n",
       "      <td>Explore</td>\n",
       "      <td>online-playlist</td>\n",
       "      <td>1</td>\n",
       "      <td>1</td>\n",
       "      <td>0</td>\n",
       "      <td>not_define</td>\n",
       "      <td>7</td>\n",
       "      <td>...</td>\n",
       "      <td>GB</td>\n",
       "      <td>UM7</td>\n",
       "      <td>16</td>\n",
       "      <td>02854</td>\n",
       "      <td>-16.0</td>\n",
       "      <td>4313</td>\n",
       "      <td>904</td>\n",
       "      <td>1498090</td>\n",
       "      <td>196</td>\n",
       "      <td>2331999</td>\n",
       "    </tr>\n",
       "    <tr>\n",
       "      <th>1</th>\n",
       "      <td>Xumu+NIjS6QYVxDS4/t3SawvJ7viT9hPKXmf0RtLNx8=</td>\n",
       "      <td>bhp/MpSNoqoxOIB+/l8WPqu6jldth4DIpCm3ayXnJqM=</td>\n",
       "      <td>my library</td>\n",
       "      <td>Local playlist more</td>\n",
       "      <td>local-playlist</td>\n",
       "      <td>1</td>\n",
       "      <td>13</td>\n",
       "      <td>24</td>\n",
       "      <td>female</td>\n",
       "      <td>9</td>\n",
       "      <td>...</td>\n",
       "      <td>US</td>\n",
       "      <td>3C6</td>\n",
       "      <td>99</td>\n",
       "      <td>10183</td>\n",
       "      <td>-75.0</td>\n",
       "      <td>581</td>\n",
       "      <td>237601</td>\n",
       "      <td>1498090</td>\n",
       "      <td>1</td>\n",
       "      <td>209830</td>\n",
       "    </tr>\n",
       "    <tr>\n",
       "      <th>2</th>\n",
       "      <td>Xumu+NIjS6QYVxDS4/t3SawvJ7viT9hPKXmf0RtLNx8=</td>\n",
       "      <td>JNWfrrC7zNN7BdMpsISKa4Mw+xVJYNnxXh3/Epw7QgY=</td>\n",
       "      <td>my library</td>\n",
       "      <td>Local playlist more</td>\n",
       "      <td>local-playlist</td>\n",
       "      <td>1</td>\n",
       "      <td>13</td>\n",
       "      <td>24</td>\n",
       "      <td>female</td>\n",
       "      <td>9</td>\n",
       "      <td>...</td>\n",
       "      <td>US</td>\n",
       "      <td>UM7</td>\n",
       "      <td>06</td>\n",
       "      <td>18761</td>\n",
       "      <td>18.0</td>\n",
       "      <td>581</td>\n",
       "      <td>223</td>\n",
       "      <td>1498090</td>\n",
       "      <td>3</td>\n",
       "      <td>209830</td>\n",
       "    </tr>\n",
       "  </tbody>\n",
       "</table>\n",
       "<p>3 rows × 50 columns</p>\n",
       "</div>"
      ],
      "text/plain": [
       "                                           msno  \\\n",
       "0  FGtllVqz18RPiwJj/edr2gV78zirAiY/9SmYvia+kCg=   \n",
       "1  Xumu+NIjS6QYVxDS4/t3SawvJ7viT9hPKXmf0RtLNx8=   \n",
       "2  Xumu+NIjS6QYVxDS4/t3SawvJ7viT9hPKXmf0RtLNx8=   \n",
       "\n",
       "                                        song_id source_system_tab  \\\n",
       "0  BBzumQNXUHKdEBOB7mAJuzok+IJA1c2Ryg/yzTF6tik=           explore   \n",
       "1  bhp/MpSNoqoxOIB+/l8WPqu6jldth4DIpCm3ayXnJqM=        my library   \n",
       "2  JNWfrrC7zNN7BdMpsISKa4Mw+xVJYNnxXh3/Epw7QgY=        my library   \n",
       "\n",
       "    source_screen_name      source_type  target  city  bd      gender  \\\n",
       "0              Explore  online-playlist       1     1   0  not_define   \n",
       "1  Local playlist more   local-playlist       1    13  24      female   \n",
       "2  Local playlist more   local-playlist       1    13  24      female   \n",
       "\n",
       "   registered_via  ...  country_code   regi_code  year  designation_code  \\\n",
       "0               7  ...             GB        UM7    16             02854   \n",
       "1               9  ...             US        3C6    99             10183   \n",
       "2               9  ...             US        UM7    06             18761   \n",
       "\n",
       "   age_gap_between_song  member_song_count  artist_song_count  \\\n",
       "0                 -16.0               4313                904   \n",
       "1                 -75.0                581             237601   \n",
       "2                  18.0                581                223   \n",
       "\n",
       "   lang_song_count  song_member_count  age_song_count  \n",
       "0          1498090                196         2331999  \n",
       "1          1498090                  1          209830  \n",
       "2          1498090                  3          209830  \n",
       "\n",
       "[3 rows x 50 columns]"
      ]
     },
     "execution_count": 63,
     "metadata": {},
     "output_type": "execute_result"
    }
   ],
   "source": [
    "print(train_data.shape)\n",
    "train_data.head(3)"
   ]
  },
  {
   "cell_type": "code",
   "execution_count": null,
   "metadata": {
    "colab": {
     "base_uri": "https://localhost:8080/",
     "height": 388
    },
    "executionInfo": {
     "elapsed": 1479,
     "status": "ok",
     "timestamp": 1615710552802,
     "user": {
      "displayName": "ajay jogiya",
      "photoUrl": "https://lh3.googleusercontent.com/a-/AOh14GgRAXM6e1-9rIRgaPP756Iug7UkbP0azqriVDFLww=s64",
      "userId": "14152685769056492470"
     },
     "user_tz": -330
    },
    "id": "kw7_QuRw2Dbs",
    "outputId": "488d9674-7737-42db-da07-cb75002fcb1a"
   },
   "outputs": [
    {
     "name": "stdout",
     "output_type": "stream",
     "text": [
      "(1475484, 50)\n"
     ]
    },
    {
     "data": {
      "text/html": [
       "<div>\n",
       "<style scoped>\n",
       "    .dataframe tbody tr th:only-of-type {\n",
       "        vertical-align: middle;\n",
       "    }\n",
       "\n",
       "    .dataframe tbody tr th {\n",
       "        vertical-align: top;\n",
       "    }\n",
       "\n",
       "    .dataframe thead th {\n",
       "        text-align: right;\n",
       "    }\n",
       "</style>\n",
       "<table border=\"1\" class=\"dataframe\">\n",
       "  <thead>\n",
       "    <tr style=\"text-align: right;\">\n",
       "      <th></th>\n",
       "      <th>msno</th>\n",
       "      <th>song_id</th>\n",
       "      <th>source_system_tab</th>\n",
       "      <th>source_screen_name</th>\n",
       "      <th>source_type</th>\n",
       "      <th>target</th>\n",
       "      <th>city</th>\n",
       "      <th>bd</th>\n",
       "      <th>gender</th>\n",
       "      <th>registered_via</th>\n",
       "      <th>...</th>\n",
       "      <th>country_code</th>\n",
       "      <th>regi_code</th>\n",
       "      <th>year</th>\n",
       "      <th>designation_code</th>\n",
       "      <th>age_gap_between_song</th>\n",
       "      <th>member_song_count</th>\n",
       "      <th>artist_song_count</th>\n",
       "      <th>lang_song_count</th>\n",
       "      <th>song_member_count</th>\n",
       "      <th>age_song_count</th>\n",
       "    </tr>\n",
       "  </thead>\n",
       "  <tbody>\n",
       "    <tr>\n",
       "      <th>5901934</th>\n",
       "      <td>+fzJ5Uou/rxl1pXlebOEBHFKC4LBwDfgnc2R7287CVs=</td>\n",
       "      <td>JTVy3aCLoTFkqPK4pkGBy0YTlH0zpkubCoKMh07WYfM=</td>\n",
       "      <td>my library</td>\n",
       "      <td>Local playlist more</td>\n",
       "      <td>local-library</td>\n",
       "      <td>1</td>\n",
       "      <td>1</td>\n",
       "      <td>18</td>\n",
       "      <td>female</td>\n",
       "      <td>3</td>\n",
       "      <td>...</td>\n",
       "      <td>TW</td>\n",
       "      <td>J97</td>\n",
       "      <td>07</td>\n",
       "      <td>00301</td>\n",
       "      <td>11.0</td>\n",
       "      <td>149</td>\n",
       "      <td>67</td>\n",
       "      <td>792271</td>\n",
       "      <td>26</td>\n",
       "      <td>20746</td>\n",
       "    </tr>\n",
       "    <tr>\n",
       "      <th>5901935</th>\n",
       "      <td>+fzJ5Uou/rxl1pXlebOEBHFKC4LBwDfgnc2R7287CVs=</td>\n",
       "      <td>2TR1fCpa5/ac/xe+hdOe52nBZ6afSU49gsGQbhTQVzk=</td>\n",
       "      <td>my library</td>\n",
       "      <td>Local playlist more</td>\n",
       "      <td>local-library</td>\n",
       "      <td>0</td>\n",
       "      <td>1</td>\n",
       "      <td>18</td>\n",
       "      <td>female</td>\n",
       "      <td>3</td>\n",
       "      <td>...</td>\n",
       "      <td>TW</td>\n",
       "      <td>D95</td>\n",
       "      <td>12</td>\n",
       "      <td>44101</td>\n",
       "      <td>6.0</td>\n",
       "      <td>149</td>\n",
       "      <td>792</td>\n",
       "      <td>792271</td>\n",
       "      <td>37</td>\n",
       "      <td>20746</td>\n",
       "    </tr>\n",
       "    <tr>\n",
       "      <th>5901936</th>\n",
       "      <td>+fzJ5Uou/rxl1pXlebOEBHFKC4LBwDfgnc2R7287CVs=</td>\n",
       "      <td>wev1Fi6KYkCSFAstQfhxJPZv7wkn8wGepys+KDmeBy4=</td>\n",
       "      <td>my library</td>\n",
       "      <td>Local playlist more</td>\n",
       "      <td>local-library</td>\n",
       "      <td>1</td>\n",
       "      <td>1</td>\n",
       "      <td>18</td>\n",
       "      <td>female</td>\n",
       "      <td>3</td>\n",
       "      <td>...</td>\n",
       "      <td>US</td>\n",
       "      <td>UM7</td>\n",
       "      <td>16</td>\n",
       "      <td>03401</td>\n",
       "      <td>2.0</td>\n",
       "      <td>149</td>\n",
       "      <td>66251</td>\n",
       "      <td>366699</td>\n",
       "      <td>281</td>\n",
       "      <td>20746</td>\n",
       "    </tr>\n",
       "  </tbody>\n",
       "</table>\n",
       "<p>3 rows × 50 columns</p>\n",
       "</div>"
      ],
      "text/plain": [
       "                                                 msno  \\\n",
       "5901934  +fzJ5Uou/rxl1pXlebOEBHFKC4LBwDfgnc2R7287CVs=   \n",
       "5901935  +fzJ5Uou/rxl1pXlebOEBHFKC4LBwDfgnc2R7287CVs=   \n",
       "5901936  +fzJ5Uou/rxl1pXlebOEBHFKC4LBwDfgnc2R7287CVs=   \n",
       "\n",
       "                                              song_id source_system_tab  \\\n",
       "5901934  JTVy3aCLoTFkqPK4pkGBy0YTlH0zpkubCoKMh07WYfM=        my library   \n",
       "5901935  2TR1fCpa5/ac/xe+hdOe52nBZ6afSU49gsGQbhTQVzk=        my library   \n",
       "5901936  wev1Fi6KYkCSFAstQfhxJPZv7wkn8wGepys+KDmeBy4=        my library   \n",
       "\n",
       "          source_screen_name    source_type  target  city  bd  gender  \\\n",
       "5901934  Local playlist more  local-library       1     1  18  female   \n",
       "5901935  Local playlist more  local-library       0     1  18  female   \n",
       "5901936  Local playlist more  local-library       1     1  18  female   \n",
       "\n",
       "         registered_via  ...  country_code   regi_code  year  \\\n",
       "5901934               3  ...             TW        J97    07   \n",
       "5901935               3  ...             TW        D95    12   \n",
       "5901936               3  ...             US        UM7    16   \n",
       "\n",
       "         designation_code  age_gap_between_song  member_song_count  \\\n",
       "5901934             00301                  11.0                149   \n",
       "5901935             44101                   6.0                149   \n",
       "5901936             03401                   2.0                149   \n",
       "\n",
       "         artist_song_count  lang_song_count  song_member_count  age_song_count  \n",
       "5901934                 67           792271                 26           20746  \n",
       "5901935                792           792271                 37           20746  \n",
       "5901936              66251           366699                281           20746  \n",
       "\n",
       "[3 rows x 50 columns]"
      ]
     },
     "execution_count": 64,
     "metadata": {},
     "output_type": "execute_result"
    }
   ],
   "source": [
    "print(val_data.shape)\n",
    "val_data.head(3)"
   ]
  },
  {
   "cell_type": "code",
   "execution_count": null,
   "metadata": {
    "colab": {
     "base_uri": "https://localhost:8080/",
     "height": 237
    },
    "executionInfo": {
     "elapsed": 1437,
     "status": "ok",
     "timestamp": 1615710559017,
     "user": {
      "displayName": "ajay jogiya",
      "photoUrl": "https://lh3.googleusercontent.com/a-/AOh14GgRAXM6e1-9rIRgaPP756Iug7UkbP0azqriVDFLww=s64",
      "userId": "14152685769056492470"
     },
     "user_tz": -330
    },
    "id": "iCRu970u2DND",
    "outputId": "2f49c8de-2d8d-4049-fc8e-3b772f47eb75"
   },
   "outputs": [
    {
     "name": "stdout",
     "output_type": "stream",
     "text": [
      "(2556790, 49)\n"
     ]
    },
    {
     "data": {
      "text/html": [
       "<div>\n",
       "<style scoped>\n",
       "    .dataframe tbody tr th:only-of-type {\n",
       "        vertical-align: middle;\n",
       "    }\n",
       "\n",
       "    .dataframe tbody tr th {\n",
       "        vertical-align: top;\n",
       "    }\n",
       "\n",
       "    .dataframe thead th {\n",
       "        text-align: right;\n",
       "    }\n",
       "</style>\n",
       "<table border=\"1\" class=\"dataframe\">\n",
       "  <thead>\n",
       "    <tr style=\"text-align: right;\">\n",
       "      <th></th>\n",
       "      <th>msno</th>\n",
       "      <th>song_id</th>\n",
       "      <th>source_system_tab</th>\n",
       "      <th>source_screen_name</th>\n",
       "      <th>source_type</th>\n",
       "      <th>city</th>\n",
       "      <th>bd</th>\n",
       "      <th>gender</th>\n",
       "      <th>registered_via</th>\n",
       "      <th>registration_init_time</th>\n",
       "      <th>...</th>\n",
       "      <th>country_code</th>\n",
       "      <th>regi_code</th>\n",
       "      <th>year</th>\n",
       "      <th>designation_code</th>\n",
       "      <th>age_gap_between_song</th>\n",
       "      <th>member_song_count</th>\n",
       "      <th>artist_song_count</th>\n",
       "      <th>lang_song_count</th>\n",
       "      <th>song_member_count</th>\n",
       "      <th>age_song_count</th>\n",
       "    </tr>\n",
       "  </thead>\n",
       "  <tbody>\n",
       "    <tr>\n",
       "      <th>0</th>\n",
       "      <td>V8ruy7SGk7tDm3zA51DPpn6qutt+vmKMBKa21dp54uM=</td>\n",
       "      <td>WmHKgKMlp1lQMecNdNvDMkvIycZYHnFwDT72I5sIssc=</td>\n",
       "      <td>my library</td>\n",
       "      <td>Local playlist more</td>\n",
       "      <td>local-library</td>\n",
       "      <td>1</td>\n",
       "      <td>0</td>\n",
       "      <td>not_define</td>\n",
       "      <td>7</td>\n",
       "      <td>20160219</td>\n",
       "      <td>...</td>\n",
       "      <td>TW</td>\n",
       "      <td>UM7</td>\n",
       "      <td>14</td>\n",
       "      <td>00047</td>\n",
       "      <td>-14.0</td>\n",
       "      <td>17</td>\n",
       "      <td>4009</td>\n",
       "      <td>1311328</td>\n",
       "      <td>196</td>\n",
       "      <td>1043221</td>\n",
       "    </tr>\n",
       "    <tr>\n",
       "      <th>1</th>\n",
       "      <td>V8ruy7SGk7tDm3zA51DPpn6qutt+vmKMBKa21dp54uM=</td>\n",
       "      <td>y/rsZ9DC7FwK5F2PK2D5mj+aOBUJAjuu3dZ14NgE0vM=</td>\n",
       "      <td>my library</td>\n",
       "      <td>Local playlist more</td>\n",
       "      <td>local-library</td>\n",
       "      <td>1</td>\n",
       "      <td>0</td>\n",
       "      <td>not_define</td>\n",
       "      <td>7</td>\n",
       "      <td>20160219</td>\n",
       "      <td>...</td>\n",
       "      <td>TW</td>\n",
       "      <td>B67</td>\n",
       "      <td>10</td>\n",
       "      <td>05201</td>\n",
       "      <td>-10.0</td>\n",
       "      <td>17</td>\n",
       "      <td>31571</td>\n",
       "      <td>1311328</td>\n",
       "      <td>1479</td>\n",
       "      <td>1043221</td>\n",
       "    </tr>\n",
       "    <tr>\n",
       "      <th>2</th>\n",
       "      <td>/uQAlrAkaczV+nWCd2sPF2ekvXPRipV7q0l+gbLuxjw=</td>\n",
       "      <td>8eZLFOdGVdXBSqoAv5nsLigeH2BvKXzTQYtUM53I0k4=</td>\n",
       "      <td>discover</td>\n",
       "      <td>not_define</td>\n",
       "      <td>song-based-playlist</td>\n",
       "      <td>1</td>\n",
       "      <td>0</td>\n",
       "      <td>not_define</td>\n",
       "      <td>4</td>\n",
       "      <td>20161117</td>\n",
       "      <td>...</td>\n",
       "      <td>JP</td>\n",
       "      <td>WP0</td>\n",
       "      <td>10</td>\n",
       "      <td>70260</td>\n",
       "      <td>-10.0</td>\n",
       "      <td>1</td>\n",
       "      <td>149</td>\n",
       "      <td>84227</td>\n",
       "      <td>2</td>\n",
       "      <td>1043221</td>\n",
       "    </tr>\n",
       "  </tbody>\n",
       "</table>\n",
       "<p>3 rows × 49 columns</p>\n",
       "</div>"
      ],
      "text/plain": [
       "                                           msno  \\\n",
       "0  V8ruy7SGk7tDm3zA51DPpn6qutt+vmKMBKa21dp54uM=   \n",
       "1  V8ruy7SGk7tDm3zA51DPpn6qutt+vmKMBKa21dp54uM=   \n",
       "2  /uQAlrAkaczV+nWCd2sPF2ekvXPRipV7q0l+gbLuxjw=   \n",
       "\n",
       "                                        song_id source_system_tab  \\\n",
       "0  WmHKgKMlp1lQMecNdNvDMkvIycZYHnFwDT72I5sIssc=        my library   \n",
       "1  y/rsZ9DC7FwK5F2PK2D5mj+aOBUJAjuu3dZ14NgE0vM=        my library   \n",
       "2  8eZLFOdGVdXBSqoAv5nsLigeH2BvKXzTQYtUM53I0k4=          discover   \n",
       "\n",
       "    source_screen_name          source_type  city  bd      gender  \\\n",
       "0  Local playlist more        local-library     1   0  not_define   \n",
       "1  Local playlist more        local-library     1   0  not_define   \n",
       "2           not_define  song-based-playlist     1   0  not_define   \n",
       "\n",
       "   registered_via  registration_init_time  ...  country_code   regi_code  \\\n",
       "0               7                20160219  ...             TW        UM7   \n",
       "1               7                20160219  ...             TW        B67   \n",
       "2               4                20161117  ...             JP        WP0   \n",
       "\n",
       "   year  designation_code  age_gap_between_song  member_song_count  \\\n",
       "0    14             00047                 -14.0                 17   \n",
       "1    10             05201                 -10.0                 17   \n",
       "2    10             70260                 -10.0                  1   \n",
       "\n",
       "   artist_song_count  lang_song_count  song_member_count age_song_count  \n",
       "0               4009          1311328                196        1043221  \n",
       "1              31571          1311328               1479        1043221  \n",
       "2                149            84227                  2        1043221  \n",
       "\n",
       "[3 rows x 49 columns]"
      ]
     },
     "execution_count": 65,
     "metadata": {},
     "output_type": "execute_result"
    }
   ],
   "source": [
    "print(test_data.shape)\n",
    "test_data.head(3)"
   ]
  },
  {
   "cell_type": "markdown",
   "metadata": {
    "id": "M_xulRDY7Phx"
   },
   "source": [
    "# Label encoding"
   ]
  },
  {
   "cell_type": "code",
   "execution_count": 3,
   "metadata": {
    "colab": {
     "base_uri": "https://localhost:8080/"
    },
    "executionInfo": {
     "elapsed": 62628,
     "status": "ok",
     "timestamp": 1615721308777,
     "user": {
      "displayName": "Ajay Jogiya",
      "photoUrl": "",
      "userId": "12844089788344129075"
     },
     "user_tz": -330
    },
    "id": "M9obB12C3RNh",
    "outputId": "d7a479bf-c9ad-4c2a-b75e-0696316567f7"
   },
   "outputs": [
    {
     "name": "stdout",
     "output_type": "stream",
     "text": [
      "Train Shape : (5901934, 51)\n"
     ]
    }
   ],
   "source": [
    "train_data = pd.read_csv('train_data_final.csv')\n",
    "print('Train Shape :', train_data.shape)"
   ]
  },
  {
   "cell_type": "code",
   "execution_count": null,
   "metadata": {
    "colab": {
     "base_uri": "https://localhost:8080/"
    },
    "executionInfo": {
     "elapsed": 15953,
     "status": "ok",
     "timestamp": 1615721368008,
     "user": {
      "displayName": "Ajay Jogiya",
      "photoUrl": "",
      "userId": "12844089788344129075"
     },
     "user_tz": -330
    },
    "id": "uhnYZpXffMHB",
    "outputId": "b7b03895-032f-43ea-c34e-f9b96e559b92"
   },
   "outputs": [
    {
     "name": "stdout",
     "output_type": "stream",
     "text": [
      "Vali  Shape : (1475484, 51)\n"
     ]
    }
   ],
   "source": [
    "val_data   = pd.read_csv('val_data_final.csv')\n",
    "print('Vali  Shape :',val_data.shape)"
   ]
  },
  {
   "cell_type": "code",
   "execution_count": 19,
   "metadata": {
    "colab": {
     "base_uri": "https://localhost:8080/"
    },
    "executionInfo": {
     "elapsed": 24582,
     "status": "ok",
     "timestamp": 1615721395786,
     "user": {
      "displayName": "Ajay Jogiya",
      "photoUrl": "",
      "userId": "12844089788344129075"
     },
     "user_tz": -330
    },
    "id": "DIGN4s5KfL7t",
    "outputId": "21dc4c15-c21b-4aa9-fc99-4ef2d5fbcc05"
   },
   "outputs": [
    {
     "name": "stdout",
     "output_type": "stream",
     "text": [
      "Test  shape : (2556790, 51)\n"
     ]
    }
   ],
   "source": [
    "test_data  = pd.read_csv('test_data_final.csv')\n",
    "print('Test  shape :',test_data.shape)"
   ]
  },
  {
   "cell_type": "code",
   "execution_count": 20,
   "metadata": {},
   "outputs": [],
   "source": [
    "#train_data = remove_funtion(train_data)\n",
    "#val_data = remove_funtion(val_data)\n",
    "test_data = remove_funtion(test_data)\n",
    "test_data = test_data.drop('id', axis=1)"
   ]
  },
  {
   "cell_type": "code",
   "execution_count": 8,
   "metadata": {},
   "outputs": [
    {
     "name": "stdout",
     "output_type": "stream",
     "text": [
      "Test  shape : (2556790, 50)\n"
     ]
    }
   ],
   "source": [
    "#print('Train Shape :', train_data.shape)\n",
    "#print('Vali  Shape :', val_data.shape)\n",
    "print('Test  shape :', test_data.shape)"
   ]
  },
  {
   "cell_type": "code",
   "execution_count": 5,
   "metadata": {},
   "outputs": [
    {
     "data": {
      "text/html": [
       "<div>\n",
       "<style scoped>\n",
       "    .dataframe tbody tr th:only-of-type {\n",
       "        vertical-align: middle;\n",
       "    }\n",
       "\n",
       "    .dataframe tbody tr th {\n",
       "        vertical-align: top;\n",
       "    }\n",
       "\n",
       "    .dataframe thead th {\n",
       "        text-align: right;\n",
       "    }\n",
       "</style>\n",
       "<table border=\"1\" class=\"dataframe\">\n",
       "  <thead>\n",
       "    <tr style=\"text-align: right;\">\n",
       "      <th></th>\n",
       "      <th>msno</th>\n",
       "      <th>song_id</th>\n",
       "      <th>source_system_tab</th>\n",
       "      <th>source_screen_name</th>\n",
       "      <th>source_type</th>\n",
       "      <th>target</th>\n",
       "      <th>city</th>\n",
       "      <th>bd</th>\n",
       "      <th>gender</th>\n",
       "      <th>registered_via</th>\n",
       "      <th>...</th>\n",
       "      <th>country_code</th>\n",
       "      <th>regi_code</th>\n",
       "      <th>year</th>\n",
       "      <th>designation_code</th>\n",
       "      <th>age_gap_between_song</th>\n",
       "      <th>member_song_count</th>\n",
       "      <th>artist_song_count</th>\n",
       "      <th>lang_song_count</th>\n",
       "      <th>song_member_count</th>\n",
       "      <th>age_song_count</th>\n",
       "    </tr>\n",
       "  </thead>\n",
       "  <tbody>\n",
       "    <tr>\n",
       "      <th>0</th>\n",
       "      <td>FGtllVqz18RPiwJj/edr2gV78zirAiY/9SmYvia+kCg=</td>\n",
       "      <td>BBzumQNXUHKdEBOB7mAJuzok+IJA1c2Ryg/yzTF6tik=</td>\n",
       "      <td>explore</td>\n",
       "      <td>Explore</td>\n",
       "      <td>online-playlist</td>\n",
       "      <td>1</td>\n",
       "      <td>1</td>\n",
       "      <td>0</td>\n",
       "      <td>not_define</td>\n",
       "      <td>7</td>\n",
       "      <td>...</td>\n",
       "      <td>GB</td>\n",
       "      <td>UM7</td>\n",
       "      <td>16</td>\n",
       "      <td>02854</td>\n",
       "      <td>-16.0</td>\n",
       "      <td>4313</td>\n",
       "      <td>904</td>\n",
       "      <td>1498090</td>\n",
       "      <td>196</td>\n",
       "      <td>2331999</td>\n",
       "    </tr>\n",
       "    <tr>\n",
       "      <th>1</th>\n",
       "      <td>Xumu+NIjS6QYVxDS4/t3SawvJ7viT9hPKXmf0RtLNx8=</td>\n",
       "      <td>bhp/MpSNoqoxOIB+/l8WPqu6jldth4DIpCm3ayXnJqM=</td>\n",
       "      <td>my library</td>\n",
       "      <td>Local playlist more</td>\n",
       "      <td>local-playlist</td>\n",
       "      <td>1</td>\n",
       "      <td>13</td>\n",
       "      <td>24</td>\n",
       "      <td>female</td>\n",
       "      <td>9</td>\n",
       "      <td>...</td>\n",
       "      <td>US</td>\n",
       "      <td>3C6</td>\n",
       "      <td>99</td>\n",
       "      <td>10183</td>\n",
       "      <td>-75.0</td>\n",
       "      <td>581</td>\n",
       "      <td>237601</td>\n",
       "      <td>1498090</td>\n",
       "      <td>1</td>\n",
       "      <td>209830</td>\n",
       "    </tr>\n",
       "    <tr>\n",
       "      <th>2</th>\n",
       "      <td>Xumu+NIjS6QYVxDS4/t3SawvJ7viT9hPKXmf0RtLNx8=</td>\n",
       "      <td>JNWfrrC7zNN7BdMpsISKa4Mw+xVJYNnxXh3/Epw7QgY=</td>\n",
       "      <td>my library</td>\n",
       "      <td>Local playlist more</td>\n",
       "      <td>local-playlist</td>\n",
       "      <td>1</td>\n",
       "      <td>13</td>\n",
       "      <td>24</td>\n",
       "      <td>female</td>\n",
       "      <td>9</td>\n",
       "      <td>...</td>\n",
       "      <td>US</td>\n",
       "      <td>UM7</td>\n",
       "      <td>6</td>\n",
       "      <td>18761</td>\n",
       "      <td>18.0</td>\n",
       "      <td>581</td>\n",
       "      <td>223</td>\n",
       "      <td>1498090</td>\n",
       "      <td>3</td>\n",
       "      <td>209830</td>\n",
       "    </tr>\n",
       "    <tr>\n",
       "      <th>3</th>\n",
       "      <td>Xumu+NIjS6QYVxDS4/t3SawvJ7viT9hPKXmf0RtLNx8=</td>\n",
       "      <td>2A87tzfnJTSWqD7gIZHisolhe4DMdzkbd6LzO1KHjNs=</td>\n",
       "      <td>my library</td>\n",
       "      <td>Local playlist more</td>\n",
       "      <td>local-playlist</td>\n",
       "      <td>1</td>\n",
       "      <td>13</td>\n",
       "      <td>24</td>\n",
       "      <td>female</td>\n",
       "      <td>9</td>\n",
       "      <td>...</td>\n",
       "      <td>GB</td>\n",
       "      <td>UQH</td>\n",
       "      <td>10</td>\n",
       "      <td>00063</td>\n",
       "      <td>14.0</td>\n",
       "      <td>581</td>\n",
       "      <td>1</td>\n",
       "      <td>243239</td>\n",
       "      <td>1</td>\n",
       "      <td>209830</td>\n",
       "    </tr>\n",
       "    <tr>\n",
       "      <th>4</th>\n",
       "      <td>FGtllVqz18RPiwJj/edr2gV78zirAiY/9SmYvia+kCg=</td>\n",
       "      <td>3qm6XTZ6MOCU11x8FIVbAGH5l5uMkT3/ZalWG1oo2Gc=</td>\n",
       "      <td>explore</td>\n",
       "      <td>Explore</td>\n",
       "      <td>online-playlist</td>\n",
       "      <td>1</td>\n",
       "      <td>1</td>\n",
       "      <td>0</td>\n",
       "      <td>not_define</td>\n",
       "      <td>7</td>\n",
       "      <td>...</td>\n",
       "      <td>QM</td>\n",
       "      <td>3E2</td>\n",
       "      <td>16</td>\n",
       "      <td>06003</td>\n",
       "      <td>-16.0</td>\n",
       "      <td>4313</td>\n",
       "      <td>342</td>\n",
       "      <td>1498090</td>\n",
       "      <td>332</td>\n",
       "      <td>2331999</td>\n",
       "    </tr>\n",
       "  </tbody>\n",
       "</table>\n",
       "<p>5 rows × 50 columns</p>\n",
       "</div>"
      ],
      "text/plain": [
       "                                           msno  \\\n",
       "0  FGtllVqz18RPiwJj/edr2gV78zirAiY/9SmYvia+kCg=   \n",
       "1  Xumu+NIjS6QYVxDS4/t3SawvJ7viT9hPKXmf0RtLNx8=   \n",
       "2  Xumu+NIjS6QYVxDS4/t3SawvJ7viT9hPKXmf0RtLNx8=   \n",
       "3  Xumu+NIjS6QYVxDS4/t3SawvJ7viT9hPKXmf0RtLNx8=   \n",
       "4  FGtllVqz18RPiwJj/edr2gV78zirAiY/9SmYvia+kCg=   \n",
       "\n",
       "                                        song_id source_system_tab  \\\n",
       "0  BBzumQNXUHKdEBOB7mAJuzok+IJA1c2Ryg/yzTF6tik=           explore   \n",
       "1  bhp/MpSNoqoxOIB+/l8WPqu6jldth4DIpCm3ayXnJqM=        my library   \n",
       "2  JNWfrrC7zNN7BdMpsISKa4Mw+xVJYNnxXh3/Epw7QgY=        my library   \n",
       "3  2A87tzfnJTSWqD7gIZHisolhe4DMdzkbd6LzO1KHjNs=        my library   \n",
       "4  3qm6XTZ6MOCU11x8FIVbAGH5l5uMkT3/ZalWG1oo2Gc=           explore   \n",
       "\n",
       "    source_screen_name      source_type  target  city  bd      gender  \\\n",
       "0              Explore  online-playlist       1     1   0  not_define   \n",
       "1  Local playlist more   local-playlist       1    13  24      female   \n",
       "2  Local playlist more   local-playlist       1    13  24      female   \n",
       "3  Local playlist more   local-playlist       1    13  24      female   \n",
       "4              Explore  online-playlist       1     1   0  not_define   \n",
       "\n",
       "   registered_via  ...  country_code   regi_code  year  designation_code  \\\n",
       "0               7  ...             GB        UM7    16             02854   \n",
       "1               9  ...             US        3C6    99             10183   \n",
       "2               9  ...             US        UM7     6             18761   \n",
       "3               9  ...             GB        UQH    10             00063   \n",
       "4               7  ...             QM        3E2    16             06003   \n",
       "\n",
       "   age_gap_between_song  member_song_count  artist_song_count  \\\n",
       "0                 -16.0               4313                904   \n",
       "1                 -75.0                581             237601   \n",
       "2                  18.0                581                223   \n",
       "3                  14.0                581                  1   \n",
       "4                 -16.0               4313                342   \n",
       "\n",
       "   lang_song_count  song_member_count  age_song_count  \n",
       "0          1498090                196         2331999  \n",
       "1          1498090                  1          209830  \n",
       "2          1498090                  3          209830  \n",
       "3           243239                  1          209830  \n",
       "4          1498090                332         2331999  \n",
       "\n",
       "[5 rows x 50 columns]"
      ]
     },
     "execution_count": 5,
     "metadata": {},
     "output_type": "execute_result"
    }
   ],
   "source": [
    "train_data.head()"
   ]
  },
  {
   "cell_type": "code",
   "execution_count": 11,
   "metadata": {},
   "outputs": [
    {
     "data": {
      "text/html": [
       "<div>\n",
       "<style scoped>\n",
       "    .dataframe tbody tr th:only-of-type {\n",
       "        vertical-align: middle;\n",
       "    }\n",
       "\n",
       "    .dataframe tbody tr th {\n",
       "        vertical-align: top;\n",
       "    }\n",
       "\n",
       "    .dataframe thead th {\n",
       "        text-align: right;\n",
       "    }\n",
       "</style>\n",
       "<table border=\"1\" class=\"dataframe\">\n",
       "  <thead>\n",
       "    <tr style=\"text-align: right;\">\n",
       "      <th></th>\n",
       "      <th>msno</th>\n",
       "      <th>song_id</th>\n",
       "      <th>source_system_tab</th>\n",
       "      <th>source_screen_name</th>\n",
       "      <th>source_type</th>\n",
       "      <th>city</th>\n",
       "      <th>bd</th>\n",
       "      <th>gender</th>\n",
       "      <th>registered_via</th>\n",
       "      <th>registration_init_time</th>\n",
       "      <th>...</th>\n",
       "      <th>country_code</th>\n",
       "      <th>regi_code</th>\n",
       "      <th>year</th>\n",
       "      <th>designation_code</th>\n",
       "      <th>age_gap_between_song</th>\n",
       "      <th>member_song_count</th>\n",
       "      <th>artist_song_count</th>\n",
       "      <th>lang_song_count</th>\n",
       "      <th>song_member_count</th>\n",
       "      <th>age_song_count</th>\n",
       "    </tr>\n",
       "  </thead>\n",
       "  <tbody>\n",
       "    <tr>\n",
       "      <th>0</th>\n",
       "      <td>V8ruy7SGk7tDm3zA51DPpn6qutt+vmKMBKa21dp54uM=</td>\n",
       "      <td>WmHKgKMlp1lQMecNdNvDMkvIycZYHnFwDT72I5sIssc=</td>\n",
       "      <td>my library</td>\n",
       "      <td>Local playlist more</td>\n",
       "      <td>local-library</td>\n",
       "      <td>1</td>\n",
       "      <td>0</td>\n",
       "      <td>not_define</td>\n",
       "      <td>7</td>\n",
       "      <td>20160219</td>\n",
       "      <td>...</td>\n",
       "      <td>TW</td>\n",
       "      <td>UM7</td>\n",
       "      <td>14</td>\n",
       "      <td>00047</td>\n",
       "      <td>-14.0</td>\n",
       "      <td>17</td>\n",
       "      <td>4009</td>\n",
       "      <td>1311328</td>\n",
       "      <td>196</td>\n",
       "      <td>1043221</td>\n",
       "    </tr>\n",
       "    <tr>\n",
       "      <th>1</th>\n",
       "      <td>V8ruy7SGk7tDm3zA51DPpn6qutt+vmKMBKa21dp54uM=</td>\n",
       "      <td>y/rsZ9DC7FwK5F2PK2D5mj+aOBUJAjuu3dZ14NgE0vM=</td>\n",
       "      <td>my library</td>\n",
       "      <td>Local playlist more</td>\n",
       "      <td>local-library</td>\n",
       "      <td>1</td>\n",
       "      <td>0</td>\n",
       "      <td>not_define</td>\n",
       "      <td>7</td>\n",
       "      <td>20160219</td>\n",
       "      <td>...</td>\n",
       "      <td>TW</td>\n",
       "      <td>B67</td>\n",
       "      <td>10</td>\n",
       "      <td>05201</td>\n",
       "      <td>-10.0</td>\n",
       "      <td>17</td>\n",
       "      <td>31571</td>\n",
       "      <td>1311328</td>\n",
       "      <td>1479</td>\n",
       "      <td>1043221</td>\n",
       "    </tr>\n",
       "    <tr>\n",
       "      <th>2</th>\n",
       "      <td>/uQAlrAkaczV+nWCd2sPF2ekvXPRipV7q0l+gbLuxjw=</td>\n",
       "      <td>8eZLFOdGVdXBSqoAv5nsLigeH2BvKXzTQYtUM53I0k4=</td>\n",
       "      <td>discover</td>\n",
       "      <td>not_define</td>\n",
       "      <td>song-based-playlist</td>\n",
       "      <td>1</td>\n",
       "      <td>0</td>\n",
       "      <td>not_define</td>\n",
       "      <td>4</td>\n",
       "      <td>20161117</td>\n",
       "      <td>...</td>\n",
       "      <td>JP</td>\n",
       "      <td>WP0</td>\n",
       "      <td>10</td>\n",
       "      <td>70260</td>\n",
       "      <td>-10.0</td>\n",
       "      <td>1</td>\n",
       "      <td>149</td>\n",
       "      <td>84227</td>\n",
       "      <td>2</td>\n",
       "      <td>1043221</td>\n",
       "    </tr>\n",
       "    <tr>\n",
       "      <th>3</th>\n",
       "      <td>1a6oo/iXKatxQx4eS9zTVD+KlSVaAFbTIqVvwLC1Y0k=</td>\n",
       "      <td>ztCf8thYsS4YN3GcIL/bvoxLm/T5mYBVKOO4C9NiVfQ=</td>\n",
       "      <td>radio</td>\n",
       "      <td>Radio</td>\n",
       "      <td>radio</td>\n",
       "      <td>3</td>\n",
       "      <td>30</td>\n",
       "      <td>male</td>\n",
       "      <td>9</td>\n",
       "      <td>20070725</td>\n",
       "      <td>...</td>\n",
       "      <td>GB</td>\n",
       "      <td>AAN</td>\n",
       "      <td>2</td>\n",
       "      <td>01228</td>\n",
       "      <td>28.0</td>\n",
       "      <td>270</td>\n",
       "      <td>225</td>\n",
       "      <td>709024</td>\n",
       "      <td>14</td>\n",
       "      <td>68238</td>\n",
       "    </tr>\n",
       "    <tr>\n",
       "      <th>4</th>\n",
       "      <td>1a6oo/iXKatxQx4eS9zTVD+KlSVaAFbTIqVvwLC1Y0k=</td>\n",
       "      <td>MKVMpslKcQhMaFEgcEQhEfi5+RZhMYlU3eRDpySrH8Y=</td>\n",
       "      <td>radio</td>\n",
       "      <td>Radio</td>\n",
       "      <td>radio</td>\n",
       "      <td>3</td>\n",
       "      <td>30</td>\n",
       "      <td>male</td>\n",
       "      <td>9</td>\n",
       "      <td>20070725</td>\n",
       "      <td>...</td>\n",
       "      <td>IT</td>\n",
       "      <td>O10</td>\n",
       "      <td>11</td>\n",
       "      <td>21898</td>\n",
       "      <td>19.0</td>\n",
       "      <td>270</td>\n",
       "      <td>80</td>\n",
       "      <td>116856</td>\n",
       "      <td>3</td>\n",
       "      <td>68238</td>\n",
       "    </tr>\n",
       "  </tbody>\n",
       "</table>\n",
       "<p>5 rows × 49 columns</p>\n",
       "</div>"
      ],
      "text/plain": [
       "                                           msno  \\\n",
       "0  V8ruy7SGk7tDm3zA51DPpn6qutt+vmKMBKa21dp54uM=   \n",
       "1  V8ruy7SGk7tDm3zA51DPpn6qutt+vmKMBKa21dp54uM=   \n",
       "2  /uQAlrAkaczV+nWCd2sPF2ekvXPRipV7q0l+gbLuxjw=   \n",
       "3  1a6oo/iXKatxQx4eS9zTVD+KlSVaAFbTIqVvwLC1Y0k=   \n",
       "4  1a6oo/iXKatxQx4eS9zTVD+KlSVaAFbTIqVvwLC1Y0k=   \n",
       "\n",
       "                                        song_id source_system_tab  \\\n",
       "0  WmHKgKMlp1lQMecNdNvDMkvIycZYHnFwDT72I5sIssc=        my library   \n",
       "1  y/rsZ9DC7FwK5F2PK2D5mj+aOBUJAjuu3dZ14NgE0vM=        my library   \n",
       "2  8eZLFOdGVdXBSqoAv5nsLigeH2BvKXzTQYtUM53I0k4=          discover   \n",
       "3  ztCf8thYsS4YN3GcIL/bvoxLm/T5mYBVKOO4C9NiVfQ=             radio   \n",
       "4  MKVMpslKcQhMaFEgcEQhEfi5+RZhMYlU3eRDpySrH8Y=             radio   \n",
       "\n",
       "    source_screen_name          source_type  city  bd      gender  \\\n",
       "0  Local playlist more        local-library     1   0  not_define   \n",
       "1  Local playlist more        local-library     1   0  not_define   \n",
       "2           not_define  song-based-playlist     1   0  not_define   \n",
       "3                Radio                radio     3  30        male   \n",
       "4                Radio                radio     3  30        male   \n",
       "\n",
       "   registered_via  registration_init_time  ...  country_code   regi_code  \\\n",
       "0               7                20160219  ...             TW        UM7   \n",
       "1               7                20160219  ...             TW        B67   \n",
       "2               4                20161117  ...             JP        WP0   \n",
       "3               9                20070725  ...             GB        AAN   \n",
       "4               9                20070725  ...             IT        O10   \n",
       "\n",
       "   year  designation_code  age_gap_between_song  member_song_count  \\\n",
       "0    14             00047                 -14.0                 17   \n",
       "1    10             05201                 -10.0                 17   \n",
       "2    10             70260                 -10.0                  1   \n",
       "3     2             01228                  28.0                270   \n",
       "4    11             21898                  19.0                270   \n",
       "\n",
       "   artist_song_count  lang_song_count  song_member_count age_song_count  \n",
       "0               4009          1311328                196        1043221  \n",
       "1              31571          1311328               1479        1043221  \n",
       "2                149            84227                  2        1043221  \n",
       "3                225           709024                 14          68238  \n",
       "4                 80           116856                  3          68238  \n",
       "\n",
       "[5 rows x 49 columns]"
      ]
     },
     "execution_count": 11,
     "metadata": {},
     "output_type": "execute_result"
    }
   ],
   "source": [
    "test_data.head()"
   ]
  },
  {
   "cell_type": "code",
   "execution_count": 21,
   "metadata": {
    "id": "02NKp2pj7ZK-"
   },
   "outputs": [],
   "source": [
    "# we are drop this features because , \n",
    "# we extract information from features : ['artist_name' , 'name', 'isrc']\n",
    "# high missing rate : ['composer', 'lyricist']\n",
    "drop_list  = ['artist_name' , 'composer' , 'lyricist' , 'isrc']\n",
    "\n",
    "#train_data = train_data.drop(drop_list,axis = 1)\n",
    "#val_data   = val_data.drop(drop_list,axis = 1)\n",
    "test_data  = test_data.drop(drop_list,axis = 1)"
   ]
  },
  {
   "cell_type": "code",
   "execution_count": 24,
   "metadata": {
    "colab": {
     "base_uri": "https://localhost:8080/",
     "height": 321
    },
    "executionInfo": {
     "elapsed": 1634,
     "status": "ok",
     "timestamp": 1615710680440,
     "user": {
      "displayName": "ajay jogiya",
      "photoUrl": "https://lh3.googleusercontent.com/a-/AOh14GgRAXM6e1-9rIRgaPP756Iug7UkbP0azqriVDFLww=s64",
      "userId": "14152685769056492470"
     },
     "user_tz": -330
    },
    "id": "neJzBPBI3E9Y",
    "outputId": "443e7d80-13e1-4280-fb2c-527bcfe58c2c"
   },
   "outputs": [
    {
     "data": {
      "text/html": [
       "<div>\n",
       "<style scoped>\n",
       "    .dataframe tbody tr th:only-of-type {\n",
       "        vertical-align: middle;\n",
       "    }\n",
       "\n",
       "    .dataframe tbody tr th {\n",
       "        vertical-align: top;\n",
       "    }\n",
       "\n",
       "    .dataframe thead th {\n",
       "        text-align: right;\n",
       "    }\n",
       "</style>\n",
       "<table border=\"1\" class=\"dataframe\">\n",
       "  <thead>\n",
       "    <tr style=\"text-align: right;\">\n",
       "      <th></th>\n",
       "      <th>msno</th>\n",
       "      <th>song_id</th>\n",
       "      <th>source_system_tab</th>\n",
       "      <th>source_screen_name</th>\n",
       "      <th>source_type</th>\n",
       "      <th>city</th>\n",
       "      <th>bd</th>\n",
       "      <th>gender</th>\n",
       "      <th>registered_via</th>\n",
       "      <th>registration_init_time</th>\n",
       "      <th>...</th>\n",
       "      <th>country_code</th>\n",
       "      <th>regi_code</th>\n",
       "      <th>year</th>\n",
       "      <th>designation_code</th>\n",
       "      <th>age_gap_between_song</th>\n",
       "      <th>member_song_count</th>\n",
       "      <th>artist_song_count</th>\n",
       "      <th>lang_song_count</th>\n",
       "      <th>song_member_count</th>\n",
       "      <th>age_song_count</th>\n",
       "    </tr>\n",
       "  </thead>\n",
       "  <tbody>\n",
       "    <tr>\n",
       "      <th>0</th>\n",
       "      <td>V8ruy7SGk7tDm3zA51DPpn6qutt+vmKMBKa21dp54uM=</td>\n",
       "      <td>WmHKgKMlp1lQMecNdNvDMkvIycZYHnFwDT72I5sIssc=</td>\n",
       "      <td>my library</td>\n",
       "      <td>Local playlist more</td>\n",
       "      <td>local-library</td>\n",
       "      <td>1</td>\n",
       "      <td>0</td>\n",
       "      <td>not_define</td>\n",
       "      <td>7</td>\n",
       "      <td>20160219</td>\n",
       "      <td>...</td>\n",
       "      <td>TW</td>\n",
       "      <td>UM7</td>\n",
       "      <td>14</td>\n",
       "      <td>00047</td>\n",
       "      <td>-14.0</td>\n",
       "      <td>17</td>\n",
       "      <td>4009</td>\n",
       "      <td>1311328</td>\n",
       "      <td>196</td>\n",
       "      <td>1043221</td>\n",
       "    </tr>\n",
       "  </tbody>\n",
       "</table>\n",
       "<p>1 rows × 45 columns</p>\n",
       "</div>"
      ],
      "text/plain": [
       "                                           msno  \\\n",
       "0  V8ruy7SGk7tDm3zA51DPpn6qutt+vmKMBKa21dp54uM=   \n",
       "\n",
       "                                        song_id source_system_tab  \\\n",
       "0  WmHKgKMlp1lQMecNdNvDMkvIycZYHnFwDT72I5sIssc=        my library   \n",
       "\n",
       "    source_screen_name    source_type  city  bd      gender  registered_via  \\\n",
       "0  Local playlist more  local-library     1   0  not_define               7   \n",
       "\n",
       "   registration_init_time  ...  country_code   regi_code  year  \\\n",
       "0                20160219  ...             TW        UM7    14   \n",
       "\n",
       "   designation_code  age_gap_between_song  member_song_count  \\\n",
       "0             00047                 -14.0                 17   \n",
       "\n",
       "   artist_song_count  lang_song_count  song_member_count  age_song_count  \n",
       "0               4009          1311328                196         1043221  \n",
       "\n",
       "[1 rows x 45 columns]"
      ]
     },
     "execution_count": 24,
     "metadata": {},
     "output_type": "execute_result"
    }
   ],
   "source": [
    "#train_data.head(1)\n",
    "test_data.head(1)"
   ]
  },
  {
   "cell_type": "code",
   "execution_count": null,
   "metadata": {},
   "outputs": [],
   "source": [
    "#!pip install ipywidgets\n",
    "#!jupyter nbextension enable --py widgetsnbextension"
   ]
  },
  {
   "cell_type": "code",
   "execution_count": 25,
   "metadata": {},
   "outputs": [],
   "source": [
    "# label encoding \n",
    "cat_features =['msno', 'song_id', 'source_system_tab', 'source_screen_name',\n",
    "               'source_type', 'bd','gender','registered_via', 'language',\n",
    "               'regi_month', 'regi_year','expire_day', 'expire_year',\n",
    "               'two_genre','name', 'country_code ', #composer','artist_name', \n",
    "               'three_genre', 'four_genre', 'five_genre', 'six_genre', 'seven_genre',\n",
    "               'eight_genre','language','composer_first_name', #'lyricist', \n",
    "               'first_artist_name','regi_code', 'year','designation_code']"
   ]
  },
  {
   "cell_type": "code",
   "execution_count": 32,
   "metadata": {},
   "outputs": [
    {
     "data": {
      "text/plain": [
       "25"
      ]
     },
     "execution_count": 32,
     "metadata": {},
     "output_type": "execute_result"
    }
   ],
   "source": [
    "inds = [i for i in range(0, 2500000, 100000)] # разобьем обработку на части, по причине нехватки ОЗУ\n",
    "len(inds)"
   ]
  },
  {
   "cell_type": "code",
   "execution_count": 33,
   "metadata": {
    "executionInfo": {
     "elapsed": 985,
     "status": "ok",
     "timestamp": 1615752174167,
     "user": {
      "displayName": "Ajay Jogiya",
      "photoUrl": "",
      "userId": "12844089788344129075"
     },
     "user_tz": -330
    },
    "id": "DWX2Abrh6de3"
   },
   "outputs": [],
   "source": [
    "df_to_concat = test_data.head(0)\n",
    "\n",
    "for ind in inds:\n",
    "    #curr_vol = train_data[ind:ind+100000]\n",
    "    curr_vol = test_data[ind:ind+100000]\n",
    "\n",
    "    for name in cat_features:\n",
    "        le = LabelEncoder()\n",
    "        cat = list(curr_vol[name]) #+ list(test_data[name]) + list(val_data[name])\n",
    "        le.fit(cat)\n",
    "        curr_vol[name] = le.transform(curr_vol[name])\n",
    "        #val_data[name]   = le.transform(val_data[name])\n",
    "        #test_data[name]  = le.transform(test_data[name])\n",
    "\n",
    "    df_to_concat = pd.concat([df_to_concat,curr_vol])\n",
    "    "
   ]
  },
  {
   "cell_type": "code",
   "execution_count": 34,
   "metadata": {},
   "outputs": [
    {
     "data": {
      "text/plain": [
       "((2556790, 45), (2500000, 45))"
      ]
     },
     "execution_count": 34,
     "metadata": {},
     "output_type": "execute_result"
    }
   ],
   "source": [
    "#train_data.shape, df_to_concat.shape\n",
    "test_data.shape, df_to_concat.shape"
   ]
  },
  {
   "cell_type": "code",
   "execution_count": 35,
   "metadata": {},
   "outputs": [],
   "source": [
    "df_to_concat.to_csv('test_preprocessed.csv')"
   ]
  },
  {
   "cell_type": "code",
   "execution_count": 20,
   "metadata": {},
   "outputs": [],
   "source": [
    "pd.set_option('display.max_columns', 500)"
   ]
  },
  {
   "cell_type": "code",
   "execution_count": null,
   "metadata": {
    "colab": {
     "base_uri": "https://localhost:8080/",
     "height": 210
    },
    "executionInfo": {
     "elapsed": 2207,
     "status": "ok",
     "timestamp": 1615656513582,
     "user": {
      "displayName": "ajay jogiya",
      "photoUrl": "https://lh3.googleusercontent.com/a-/AOh14GgRAXM6e1-9rIRgaPP756Iug7UkbP0azqriVDFLww=s64",
      "userId": "14152685769056492470"
     },
     "user_tz": -330
    },
    "id": "o2YnGALPNjq4",
    "outputId": "766437fd-6dc3-4fc0-b5f5-0cf0b21df7ea"
   },
   "outputs": [],
   "source": [
    "train_data.head()"
   ]
  },
  {
   "cell_type": "markdown",
   "metadata": {
    "id": "_pOKhyYbTYwk"
   },
   "source": [
    "# Применим Standard Scaler для численных данных"
   ]
  },
  {
   "cell_type": "code",
   "execution_count": 4,
   "metadata": {},
   "outputs": [
    {
     "name": "stdout",
     "output_type": "stream",
     "text": [
      "Train Shape : (5000000, 47)\n",
      "Test Shape : (2500000, 46)\n"
     ]
    }
   ],
   "source": [
    "train_data = pd.read_csv('train_preprocessed.csv')\n",
    "#test_data = pd.read_csv('test_preprocessed.csv')\n",
    "train_data = remove_funtion(train_data)\n",
    "\n",
    "print('Train Shape :', train_data.shape)\n",
    "#print('Test Shape :', test_data.shape)"
   ]
  },
  {
   "cell_type": "code",
   "execution_count": 12,
   "metadata": {
    "colab": {
     "base_uri": "https://localhost:8080/",
     "height": 66,
     "referenced_widgets": [
      "4b70a228396048da9ccba6c82f175437",
      "a791d82e79ac4c96bb07ba7b3bb1605e",
      "c26624a75ff4470dac7f68930b384fbc",
      "7a73828797c740e98e45983b915d7e82",
      "fb3b08fa95e14fe79e05d8309688f513",
      "562283ce674d402b911fe7eb2441dbe4",
      "d6b16d9619aa4719b311673bf9e7b3e9",
      "ceb77cc7fabd4f2fb58d6b1fb5ff3e69"
     ]
    },
    "executionInfo": {
     "elapsed": 3695,
     "status": "ok",
     "timestamp": 1615656570229,
     "user": {
      "displayName": "ajay jogiya",
      "photoUrl": "https://lh3.googleusercontent.com/a-/AOh14GgRAXM6e1-9rIRgaPP756Iug7UkbP0azqriVDFLww=s64",
      "userId": "14152685769056492470"
     },
     "user_tz": -330
    },
    "id": "ra4SeRSAEnEW",
    "outputId": "c2ad0d7c-b614-4573-c180-87aa69d21d24"
   },
   "outputs": [],
   "source": [
    "numerical_features = ['age_song_count','artist_song_count', 'bd', 'lang_song_count', 'member_song_count','song_length','song_member_count','age_song_count']\n",
    "\n",
    "for name in numerical_features: #tqdm(numerical_features):\n",
    "    train_data[name] = train_data[name].astype(float)\n",
    "    scaler = StandardScaler()\n",
    "    train_data[name] = scaler.fit_transform(train_data[name].values.reshape(-1,1))"
   ]
  },
  {
   "cell_type": "code",
   "execution_count": 15,
   "metadata": {},
   "outputs": [
    {
     "data": {
      "text/html": [
       "<div>\n",
       "<style scoped>\n",
       "    .dataframe tbody tr th:only-of-type {\n",
       "        vertical-align: middle;\n",
       "    }\n",
       "\n",
       "    .dataframe tbody tr th {\n",
       "        vertical-align: top;\n",
       "    }\n",
       "\n",
       "    .dataframe thead th {\n",
       "        text-align: right;\n",
       "    }\n",
       "</style>\n",
       "<table border=\"1\" class=\"dataframe\">\n",
       "  <thead>\n",
       "    <tr style=\"text-align: right;\">\n",
       "      <th></th>\n",
       "      <th>msno</th>\n",
       "      <th>song_id</th>\n",
       "      <th>source_system_tab</th>\n",
       "      <th>source_screen_name</th>\n",
       "      <th>source_type</th>\n",
       "      <th>target</th>\n",
       "      <th>city</th>\n",
       "      <th>bd</th>\n",
       "      <th>gender</th>\n",
       "      <th>registered_via</th>\n",
       "      <th>...</th>\n",
       "      <th>country_code</th>\n",
       "      <th>regi_code</th>\n",
       "      <th>year</th>\n",
       "      <th>designation_code</th>\n",
       "      <th>age_gap_between_song</th>\n",
       "      <th>member_song_count</th>\n",
       "      <th>artist_song_count</th>\n",
       "      <th>lang_song_count</th>\n",
       "      <th>song_member_count</th>\n",
       "      <th>age_song_count</th>\n",
       "    </tr>\n",
       "  </thead>\n",
       "  <tbody>\n",
       "    <tr>\n",
       "      <th>0</th>\n",
       "      <td>3471</td>\n",
       "      <td>18027</td>\n",
       "      <td>3</td>\n",
       "      <td>7</td>\n",
       "      <td>4</td>\n",
       "      <td>1</td>\n",
       "      <td>13</td>\n",
       "      <td>0.173495</td>\n",
       "      <td>0</td>\n",
       "      <td>3</td>\n",
       "      <td>...</td>\n",
       "      <td>61</td>\n",
       "      <td>74</td>\n",
       "      <td>84</td>\n",
       "      <td>3774</td>\n",
       "      <td>-75.0</td>\n",
       "      <td>0.061554</td>\n",
       "      <td>3.669281</td>\n",
       "      <td>-0.629961</td>\n",
       "      <td>-0.628301</td>\n",
       "      <td>-0.742960</td>\n",
       "    </tr>\n",
       "    <tr>\n",
       "      <th>1</th>\n",
       "      <td>3471</td>\n",
       "      <td>9744</td>\n",
       "      <td>3</td>\n",
       "      <td>7</td>\n",
       "      <td>4</td>\n",
       "      <td>1</td>\n",
       "      <td>13</td>\n",
       "      <td>0.173495</td>\n",
       "      <td>0</td>\n",
       "      <td>3</td>\n",
       "      <td>...</td>\n",
       "      <td>61</td>\n",
       "      <td>1325</td>\n",
       "      <td>6</td>\n",
       "      <td>5831</td>\n",
       "      <td>18.0</td>\n",
       "      <td>0.061554</td>\n",
       "      <td>-0.583888</td>\n",
       "      <td>-0.629961</td>\n",
       "      <td>-0.627445</td>\n",
       "      <td>-0.742960</td>\n",
       "    </tr>\n",
       "    <tr>\n",
       "      <th>2</th>\n",
       "      <td>3471</td>\n",
       "      <td>1868</td>\n",
       "      <td>3</td>\n",
       "      <td>7</td>\n",
       "      <td>4</td>\n",
       "      <td>1</td>\n",
       "      <td>13</td>\n",
       "      <td>0.173495</td>\n",
       "      <td>0</td>\n",
       "      <td>3</td>\n",
       "      <td>...</td>\n",
       "      <td>23</td>\n",
       "      <td>1328</td>\n",
       "      <td>10</td>\n",
       "      <td>63</td>\n",
       "      <td>14.0</td>\n",
       "      <td>0.061554</td>\n",
       "      <td>-0.587865</td>\n",
       "      <td>-1.686004</td>\n",
       "      <td>-0.628301</td>\n",
       "      <td>-0.742960</td>\n",
       "    </tr>\n",
       "    <tr>\n",
       "      <th>3</th>\n",
       "      <td>1647</td>\n",
       "      <td>2688</td>\n",
       "      <td>1</td>\n",
       "      <td>6</td>\n",
       "      <td>5</td>\n",
       "      <td>1</td>\n",
       "      <td>1</td>\n",
       "      <td>-0.952349</td>\n",
       "      <td>2</td>\n",
       "      <td>2</td>\n",
       "      <td>...</td>\n",
       "      <td>45</td>\n",
       "      <td>76</td>\n",
       "      <td>16</td>\n",
       "      <td>2997</td>\n",
       "      <td>-16.0</td>\n",
       "      <td>7.947216</td>\n",
       "      <td>-0.581756</td>\n",
       "      <td>-0.629961</td>\n",
       "      <td>-0.486528</td>\n",
       "      <td>1.238488</td>\n",
       "    </tr>\n",
       "    <tr>\n",
       "      <th>4</th>\n",
       "      <td>1647</td>\n",
       "      <td>2423</td>\n",
       "      <td>1</td>\n",
       "      <td>6</td>\n",
       "      <td>5</td>\n",
       "      <td>1</td>\n",
       "      <td>1</td>\n",
       "      <td>-0.952349</td>\n",
       "      <td>2</td>\n",
       "      <td>2</td>\n",
       "      <td>...</td>\n",
       "      <td>61</td>\n",
       "      <td>1325</td>\n",
       "      <td>16</td>\n",
       "      <td>1012</td>\n",
       "      <td>-16.0</td>\n",
       "      <td>7.947216</td>\n",
       "      <td>-0.561599</td>\n",
       "      <td>-0.629961</td>\n",
       "      <td>-0.222684</td>\n",
       "      <td>1.238488</td>\n",
       "    </tr>\n",
       "  </tbody>\n",
       "</table>\n",
       "<p>5 rows × 46 columns</p>\n",
       "</div>"
      ],
      "text/plain": [
       "   msno  song_id  source_system_tab  source_screen_name  source_type  target  \\\n",
       "0  3471    18027                  3                   7            4       1   \n",
       "1  3471     9744                  3                   7            4       1   \n",
       "2  3471     1868                  3                   7            4       1   \n",
       "3  1647     2688                  1                   6            5       1   \n",
       "4  1647     2423                  1                   6            5       1   \n",
       "\n",
       "   city        bd  gender  registered_via  ...  country_code   regi_code  \\\n",
       "0    13  0.173495       0               3  ...             61         74   \n",
       "1    13  0.173495       0               3  ...             61       1325   \n",
       "2    13  0.173495       0               3  ...             23       1328   \n",
       "3     1 -0.952349       2               2  ...             45         76   \n",
       "4     1 -0.952349       2               2  ...             61       1325   \n",
       "\n",
       "   year  designation_code  age_gap_between_song  member_song_count  \\\n",
       "0    84              3774                 -75.0           0.061554   \n",
       "1     6              5831                  18.0           0.061554   \n",
       "2    10                63                  14.0           0.061554   \n",
       "3    16              2997                 -16.0           7.947216   \n",
       "4    16              1012                 -16.0           7.947216   \n",
       "\n",
       "   artist_song_count  lang_song_count  song_member_count  age_song_count  \n",
       "0           3.669281        -0.629961          -0.628301       -0.742960  \n",
       "1          -0.583888        -0.629961          -0.627445       -0.742960  \n",
       "2          -0.587865        -1.686004          -0.628301       -0.742960  \n",
       "3          -0.581756        -0.629961          -0.486528        1.238488  \n",
       "4          -0.561599        -0.629961          -0.222684        1.238488  \n",
       "\n",
       "[5 rows x 46 columns]"
      ]
     },
     "execution_count": 15,
     "metadata": {},
     "output_type": "execute_result"
    }
   ],
   "source": [
    "train_data.head()"
   ]
  },
  {
   "cell_type": "code",
   "execution_count": 16,
   "metadata": {
    "colab": {
     "base_uri": "https://localhost:8080/"
    },
    "executionInfo": {
     "elapsed": 63547,
     "status": "ok",
     "timestamp": 1615656949374,
     "user": {
      "displayName": "ajay jogiya",
      "photoUrl": "https://lh3.googleusercontent.com/a-/AOh14GgRAXM6e1-9rIRgaPP756Iug7UkbP0azqriVDFLww=s64",
      "userId": "14152685769056492470"
     },
     "user_tz": -330
    },
    "id": "czylbElpEnA_",
    "outputId": "05f57dd2-70fa-4a5f-d5f7-22a0e875b525"
   },
   "outputs": [
    {
     "data": {
      "text/plain": [
       "\"\\nprint('train_data saved.')\\nval_data.to_csv('val_data_final2.csv')\\nprint('val_data saved.')\\ntest_data.to_csv('test_data_final2.csv')\\nprint('test_data saved.')\\n\""
      ]
     },
     "execution_count": 16,
     "metadata": {},
     "output_type": "execute_result"
    }
   ],
   "source": [
    "train_data.to_csv('train_preprocessed_and_scaled.csv')\n",
    "'''\n",
    "print('train_data saved.')\n",
    "val_data.to_csv('val_data_final2.csv')\n",
    "print('val_data saved.')\n",
    "test_data.to_csv('test_data_final2.csv')\n",
    "print('test_data saved.')\n",
    "'''"
   ]
  },
  {
   "cell_type": "markdown",
   "metadata": {
    "id": "WG7Gm-Yr9Qar"
   },
   "source": [
    "# Random Forest Classifier для рассчёта важности признаков"
   ]
  },
  {
   "cell_type": "code",
   "execution_count": null,
   "metadata": {
    "id": "28w3WDFAnS02"
   },
   "outputs": [],
   "source": [
    "y_train = train_data['target']\n",
    "train_data = train_data.drop('target',axis=1)"
   ]
  },
  {
   "cell_type": "code",
   "execution_count": null,
   "metadata": {
    "id": "MrUNplXno4io"
   },
   "outputs": [],
   "source": [
    "# because of less computation power we take the subset points for feature importance.\n",
    "data = train_data[:100000]\n",
    "y = y_train[:100000]"
   ]
  },
  {
   "cell_type": "code",
   "execution_count": null,
   "metadata": {
    "colab": {
     "base_uri": "https://localhost:8080/"
    },
    "executionInfo": {
     "elapsed": 34421,
     "status": "ok",
     "timestamp": 1615657130581,
     "user": {
      "displayName": "ajay jogiya",
      "photoUrl": "https://lh3.googleusercontent.com/a-/AOh14GgRAXM6e1-9rIRgaPP756Iug7UkbP0azqriVDFLww=s64",
      "userId": "14152685769056492470"
     },
     "user_tz": -330
    },
    "id": "PPf7Uz0ymuTx",
    "outputId": "b987b22e-da76-428e-d88e-143294d41561"
   },
   "outputs": [
    {
     "data": {
      "text/plain": [
       "RandomForestClassifier(bootstrap=True, ccp_alpha=0.0, class_weight=None,\n",
       "                       criterion='gini', max_depth=None, max_features='auto',\n",
       "                       max_leaf_nodes=None, max_samples=None,\n",
       "                       min_impurity_decrease=0.0, min_impurity_split=None,\n",
       "                       min_samples_leaf=1, min_samples_split=2,\n",
       "                       min_weight_fraction_leaf=0.0, n_estimators=100,\n",
       "                       n_jobs=None, oob_score=False, random_state=None,\n",
       "                       verbose=0, warm_start=False)"
      ]
     },
     "execution_count": 93,
     "metadata": {
      "tags": []
     },
     "output_type": "execute_result"
    }
   ],
   "source": [
    "clf = RandomForestClassifier()\n",
    "clf.fit(data ,  y)"
   ]
  },
  {
   "cell_type": "code",
   "execution_count": null,
   "metadata": {
    "colab": {
     "base_uri": "https://localhost:8080/",
     "height": 133
    },
    "executionInfo": {
     "elapsed": 31148,
     "status": "ok",
     "timestamp": 1615657130587,
     "user": {
      "displayName": "ajay jogiya",
      "photoUrl": "https://lh3.googleusercontent.com/a-/AOh14GgRAXM6e1-9rIRgaPP756Iug7UkbP0azqriVDFLww=s64",
      "userId": "14152685769056492470"
     },
     "user_tz": -330
    },
    "id": "m4VWUm2Kpsah",
    "outputId": "3124c80b-1d26-46de-f9ce-96a4ffae98dd"
   },
   "outputs": [
    {
     "data": {
      "text/html": [
       "<div>\n",
       "<style scoped>\n",
       "    .dataframe tbody tr th:only-of-type {\n",
       "        vertical-align: middle;\n",
       "    }\n",
       "\n",
       "    .dataframe tbody tr th {\n",
       "        vertical-align: top;\n",
       "    }\n",
       "\n",
       "    .dataframe thead th {\n",
       "        text-align: right;\n",
       "    }\n",
       "</style>\n",
       "<table border=\"1\" class=\"dataframe\">\n",
       "  <thead>\n",
       "    <tr style=\"text-align: right;\">\n",
       "      <th></th>\n",
       "      <th>features</th>\n",
       "      <th>importance</th>\n",
       "    </tr>\n",
       "  </thead>\n",
       "  <tbody>\n",
       "    <tr>\n",
       "      <th>41</th>\n",
       "      <td>source_screen_name</td>\n",
       "      <td>0.075594</td>\n",
       "    </tr>\n",
       "    <tr>\n",
       "      <th>3</th>\n",
       "      <td>five_genre</td>\n",
       "      <td>0.057688</td>\n",
       "    </tr>\n",
       "    <tr>\n",
       "      <th>38</th>\n",
       "      <td>msno</td>\n",
       "      <td>0.054970</td>\n",
       "    </tr>\n",
       "  </tbody>\n",
       "</table>\n",
       "</div>"
      ],
      "text/plain": [
       "              features  importance\n",
       "41  source_screen_name    0.075594\n",
       "3           five_genre    0.057688\n",
       "38                msno    0.054970"
      ]
     },
     "execution_count": 94,
     "metadata": {
      "tags": []
     },
     "output_type": "execute_result"
    }
   ],
   "source": [
    "feature_impo = clf.feature_importances_.argsort()\n",
    "features = data.columns[feature_impo]\n",
    "\n",
    "rf_feature_impo = pd.DataFrame({ 'features' : features,'importance' : clf.feature_importances_ })\n",
    "rf_feature_impo = rf_feature_impo.sort_values('importance' , ascending=False)\n",
    "rf_feature_impo.head(3)"
   ]
  },
  {
   "cell_type": "code",
   "execution_count": null,
   "metadata": {
    "colab": {
     "base_uri": "https://localhost:8080/",
     "height": 567
    },
    "executionInfo": {
     "elapsed": 30022,
     "status": "ok",
     "timestamp": 1615657131569,
     "user": {
      "displayName": "ajay jogiya",
      "photoUrl": "https://lh3.googleusercontent.com/a-/AOh14GgRAXM6e1-9rIRgaPP756Iug7UkbP0azqriVDFLww=s64",
      "userId": "14152685769056492470"
     },
     "user_tz": -330
    },
    "id": "KhfHS-gap9TT",
    "outputId": "de151270-182f-4e42-c7a8-12704d3a49e5"
   },
   "outputs": [
    {
     "data": {
      "image/png": "[encoded data removed]",
      "text/plain": [
       "<Figure size 1440x504 with 1 Axes>"
      ]
     },
     "metadata": {
      "needs_background": "light",
      "tags": []
     },
     "output_type": "display_data"
    }
   ],
   "source": [
    "plt.figure(figsize= (20,7))\n",
    "plt.bar( rf_feature_impo['features'] , rf_feature_impo['importance'])\n",
    "plt.ylabel('Importance')\n",
    "plt.title('Feature Importance')\n",
    "plt.xticks(rotation=90)\n",
    "plt.xlabel('Name of Features')\n",
    "plt.show()"
   ]
  },
  {
   "cell_type": "markdown",
   "metadata": {
    "id": "pHRnCyZQ9Qaw"
   },
   "source": [
    "## Наблюдения\n",
    "* Видим, что созданные нами признаки имеют неплохой уровень важности\n",
    "* country_code , composer_count , one_genre ,expire_month ,city , regi_day , age_gap_between_song - практичестики не вносят вклада в предсказания, поэтому их следует удалить перед обучением классификаторов."
   ]
  },
  {
   "cell_type": "markdown",
   "metadata": {
    "id": "snm4asXZgpIx"
   },
   "source": [
    "# Сжатие пространства признаков с помощью PCA (не было использовано)"
   ]
  },
  {
   "cell_type": "code",
   "execution_count": null,
   "metadata": {
    "id": "fHJkuWWL0jz5"
   },
   "outputs": [],
   "source": [
    "pca =  PCA(n_components=20)\n",
    "pca_train = pca.fit_transform(data)\n",
    "\n",
    "for i in range(20):\n",
    "    data['pca_feature'+ str(i)] = pca_train[:, i]\n",
    "    #test_new['pca_feature'+ str(i)]  = pca_test[:, i]"
   ]
  },
  {
   "cell_type": "code",
   "execution_count": null,
   "metadata": {
    "colab": {
     "base_uri": "https://localhost:8080/"
    },
    "executionInfo": {
     "elapsed": 71338,
     "status": "ok",
     "timestamp": 1615659891640,
     "user": {
      "displayName": "ajay jogiya",
      "photoUrl": "https://lh3.googleusercontent.com/a-/AOh14GgRAXM6e1-9rIRgaPP756Iug7UkbP0azqriVDFLww=s64",
      "userId": "14152685769056492470"
     },
     "user_tz": -330
    },
    "id": "MEXvwKGB7_Ya",
    "outputId": "c079fb05-11e5-43d3-80eb-3214587edbfe"
   },
   "outputs": [
    {
     "data": {
      "text/plain": [
       "RandomForestClassifier(bootstrap=True, ccp_alpha=0.0, class_weight=None,\n",
       "                       criterion='gini', max_depth=None, max_features='auto',\n",
       "                       max_leaf_nodes=None, max_samples=None,\n",
       "                       min_impurity_decrease=0.0, min_impurity_split=None,\n",
       "                       min_samples_leaf=1, min_samples_split=2,\n",
       "                       min_weight_fraction_leaf=0.0, n_estimators=100,\n",
       "                       n_jobs=None, oob_score=False, random_state=None,\n",
       "                       verbose=0, warm_start=False)"
      ]
     },
     "execution_count": 97,
     "metadata": {
      "tags": []
     },
     "output_type": "execute_result"
    }
   ],
   "source": [
    "clf = RandomForestClassifier()\n",
    "clf.fit(data , y)"
   ]
  },
  {
   "cell_type": "code",
   "execution_count": null,
   "metadata": {
    "colab": {
     "base_uri": "https://localhost:8080/",
     "height": 133
    },
    "executionInfo": {
     "elapsed": 1313,
     "status": "ok",
     "timestamp": 1615659893007,
     "user": {
      "displayName": "ajay jogiya",
      "photoUrl": "https://lh3.googleusercontent.com/a-/AOh14GgRAXM6e1-9rIRgaPP756Iug7UkbP0azqriVDFLww=s64",
      "userId": "14152685769056492470"
     },
     "user_tz": -330
    },
    "id": "7CKTncBG7_Ve",
    "outputId": "c2e276fa-6027-444e-bacb-f9f5e7b79d2a"
   },
   "outputs": [
    {
     "data": {
      "text/html": [
       "<div>\n",
       "<style scoped>\n",
       "    .dataframe tbody tr th:only-of-type {\n",
       "        vertical-align: middle;\n",
       "    }\n",
       "\n",
       "    .dataframe tbody tr th {\n",
       "        vertical-align: top;\n",
       "    }\n",
       "\n",
       "    .dataframe thead th {\n",
       "        text-align: right;\n",
       "    }\n",
       "</style>\n",
       "<table border=\"1\" class=\"dataframe\">\n",
       "  <thead>\n",
       "    <tr style=\"text-align: right;\">\n",
       "      <th></th>\n",
       "      <th>features</th>\n",
       "      <th>importance</th>\n",
       "    </tr>\n",
       "  </thead>\n",
       "  <tbody>\n",
       "    <tr>\n",
       "      <th>60</th>\n",
       "      <td>source_screen_name</td>\n",
       "      <td>0.054622</td>\n",
       "    </tr>\n",
       "    <tr>\n",
       "      <th>41</th>\n",
       "      <td>pca_feature7</td>\n",
       "      <td>0.049781</td>\n",
       "    </tr>\n",
       "    <tr>\n",
       "      <th>3</th>\n",
       "      <td>five_genre</td>\n",
       "      <td>0.038102</td>\n",
       "    </tr>\n",
       "  </tbody>\n",
       "</table>\n",
       "</div>"
      ],
      "text/plain": [
       "              features  importance\n",
       "60  source_screen_name    0.054622\n",
       "41        pca_feature7    0.049781\n",
       "3           five_genre    0.038102"
      ]
     },
     "execution_count": 98,
     "metadata": {
      "tags": []
     },
     "output_type": "execute_result"
    }
   ],
   "source": [
    "# get feature importance\n",
    "feature_impo = clf.feature_importances_.argsort()\n",
    "features = data.columns[feature_impo]\n",
    "\n",
    "rf_feature_impo = pd.DataFrame({ 'features' : features,'importance' : clf.feature_importances_ })\n",
    "rf_feature_impo = rf_feature_impo.sort_values('importance' , ascending=False)\n",
    "rf_feature_impo.head(3)"
   ]
  },
  {
   "cell_type": "code",
   "execution_count": null,
   "metadata": {
    "colab": {
     "base_uri": "https://localhost:8080/",
     "height": 567
    },
    "executionInfo": {
     "elapsed": 2814,
     "status": "ok",
     "timestamp": 1615659894531,
     "user": {
      "displayName": "ajay jogiya",
      "photoUrl": "https://lh3.googleusercontent.com/a-/AOh14GgRAXM6e1-9rIRgaPP756Iug7UkbP0azqriVDFLww=s64",
      "userId": "14152685769056492470"
     },
     "user_tz": -330
    },
    "id": "r-xzlx_a7_Td",
    "outputId": "151bac1d-3e42-4636-faae-7839dacf9c8d"
   },
   "outputs": [
    {
     "data": {
      "image/png": "[encoded data removed]",
      "text/plain": [
       "<Figure size 1440x504 with 1 Axes>"
      ]
     },
     "metadata": {
      "needs_background": "light",
      "tags": []
     },
     "output_type": "display_data"
    }
   ],
   "source": [
    "plt.figure(figsize= (20,7))\n",
    "plt.bar( rf_feature_impo['features'] , rf_feature_impo['importance'])\n",
    "plt.ylabel('Importance')\n",
    "plt.title('Feature Importance')\n",
    "plt.xticks(rotation=90)\n",
    "plt.xlabel('Name of Features')\n",
    "plt.show()"
   ]
  }
 ],
 "metadata": {
  "accelerator": "TPU",
  "colab": {
   "collapsed_sections": [],
   "machine_shape": "hm",
   "name": "FE_CS_2.ipynb",
   "provenance": [
    {
     "file_id": "1IzPbxNFQmmSYk9s14L4YjBfUgACn9mW2",
     "timestamp": 1615012904004
    },
    {
     "file_id": "1G7NKeneJNyRtcRxLVbbF9jYtRyuTOa-R",
     "timestamp": 1592749700622
    },
    {
     "file_id": "https://github.com/satyajitghana/TSAI-DeepVision-EVA4.0/blob/master/Utils/Colab_25GBRAM_GPU.ipynb",
     "timestamp": 1592043804148
    }
   ]
  },
  "kernelspec": {
   "display_name": "Python 3",
   "language": "python",
   "name": "python3"
  },
  "language_info": {
   "codemirror_mode": {
    "name": "ipython",
    "version": 3
   },
   "file_extension": ".py",
   "mimetype": "text/x-python",
   "name": "python",
   "nbconvert_exporter": "python",
   "pygments_lexer": "ipython3",
   "version": "3.11.0"
  },
  "widgets": {
   "application/vnd.jupyter.widget-state+json": {
    "4b70a228396048da9ccba6c82f175437": {
     "model_module": "@jupyter-widgets/controls",
     "model_name": "HBoxModel",
     "state": {
      "_dom_classes": [],
      "_model_module": "@jupyter-widgets/controls",
      "_model_module_version": "1.5.0",
      "_model_name": "HBoxModel",
      "_view_count": null,
      "_view_module": "@jupyter-widgets/controls",
      "_view_module_version": "1.5.0",
      "_view_name": "HBoxView",
      "box_style": "",
      "children": [
       "IPY_MODEL_c26624a75ff4470dac7f68930b384fbc",
       "IPY_MODEL_7a73828797c740e98e45983b915d7e82"
      ],
      "layout": "IPY_MODEL_a791d82e79ac4c96bb07ba7b3bb1605e"
     }
    },
    "562283ce674d402b911fe7eb2441dbe4": {
     "model_module": "@jupyter-widgets/base",
     "model_name": "LayoutModel",
     "state": {
      "_model_module": "@jupyter-widgets/base",
      "_model_module_version": "1.2.0",
      "_model_name": "LayoutModel",
      "_view_count": null,
      "_view_module": "@jupyter-widgets/base",
      "_view_module_version": "1.2.0",
      "_view_name": "LayoutView",
      "align_content": null,
      "align_items": null,
      "align_self": null,
      "border": null,
      "bottom": null,
      "display": null,
      "flex": null,
      "flex_flow": null,
      "grid_area": null,
      "grid_auto_columns": null,
      "grid_auto_flow": null,
      "grid_auto_rows": null,
      "grid_column": null,
      "grid_gap": null,
      "grid_row": null,
      "grid_template_areas": null,
      "grid_template_columns": null,
      "grid_template_rows": null,
      "height": null,
      "justify_content": null,
      "justify_items": null,
      "left": null,
      "margin": null,
      "max_height": null,
      "max_width": null,
      "min_height": null,
      "min_width": null,
      "object_fit": null,
      "object_position": null,
      "order": null,
      "overflow": null,
      "overflow_x": null,
      "overflow_y": null,
      "padding": null,
      "right": null,
      "top": null,
      "visibility": null,
      "width": null
     }
    },
    "7a73828797c740e98e45983b915d7e82": {
     "model_module": "@jupyter-widgets/controls",
     "model_name": "HTMLModel",
     "state": {
      "_dom_classes": [],
      "_model_module": "@jupyter-widgets/controls",
      "_model_module_version": "1.5.0",
      "_model_name": "HTMLModel",
      "_view_count": null,
      "_view_module": "@jupyter-widgets/controls",
      "_view_module_version": "1.5.0",
      "_view_name": "HTMLView",
      "description": "",
      "description_tooltip": null,
      "layout": "IPY_MODEL_ceb77cc7fabd4f2fb58d6b1fb5ff3e69",
      "placeholder": "​",
      "style": "IPY_MODEL_d6b16d9619aa4719b311673bf9e7b3e9",
      "value": " 10/10 [09:22&lt;00:00, 56.23s/it]"
     }
    },
    "a791d82e79ac4c96bb07ba7b3bb1605e": {
     "model_module": "@jupyter-widgets/base",
     "model_name": "LayoutModel",
     "state": {
      "_model_module": "@jupyter-widgets/base",
      "_model_module_version": "1.2.0",
      "_model_name": "LayoutModel",
      "_view_count": null,
      "_view_module": "@jupyter-widgets/base",
      "_view_module_version": "1.2.0",
      "_view_name": "LayoutView",
      "align_content": null,
      "align_items": null,
      "align_self": null,
      "border": null,
      "bottom": null,
      "display": null,
      "flex": null,
      "flex_flow": null,
      "grid_area": null,
      "grid_auto_columns": null,
      "grid_auto_flow": null,
      "grid_auto_rows": null,
      "grid_column": null,
      "grid_gap": null,
      "grid_row": null,
      "grid_template_areas": null,
      "grid_template_columns": null,
      "grid_template_rows": null,
      "height": null,
      "justify_content": null,
      "justify_items": null,
      "left": null,
      "margin": null,
      "max_height": null,
      "max_width": null,
      "min_height": null,
      "min_width": null,
      "object_fit": null,
      "object_position": null,
      "order": null,
      "overflow": null,
      "overflow_x": null,
      "overflow_y": null,
      "padding": null,
      "right": null,
      "top": null,
      "visibility": null,
      "width": null
     }
    },
    "c26624a75ff4470dac7f68930b384fbc": {
     "model_module": "@jupyter-widgets/controls",
     "model_name": "FloatProgressModel",
     "state": {
      "_dom_classes": [],
      "_model_module": "@jupyter-widgets/controls",
      "_model_module_version": "1.5.0",
      "_model_name": "FloatProgressModel",
      "_view_count": null,
      "_view_module": "@jupyter-widgets/controls",
      "_view_module_version": "1.5.0",
      "_view_name": "ProgressView",
      "bar_style": "success",
      "description": "100%",
      "description_tooltip": null,
      "layout": "IPY_MODEL_562283ce674d402b911fe7eb2441dbe4",
      "max": 10,
      "min": 0,
      "orientation": "horizontal",
      "style": "IPY_MODEL_fb3b08fa95e14fe79e05d8309688f513",
      "value": 10
     }
    },
    "ceb77cc7fabd4f2fb58d6b1fb5ff3e69": {
     "model_module": "@jupyter-widgets/base",
     "model_name": "LayoutModel",
     "state": {
      "_model_module": "@jupyter-widgets/base",
      "_model_module_version": "1.2.0",
      "_model_name": "LayoutModel",
      "_view_count": null,
      "_view_module": "@jupyter-widgets/base",
      "_view_module_version": "1.2.0",
      "_view_name": "LayoutView",
      "align_content": null,
      "align_items": null,
      "align_self": null,
      "border": null,
      "bottom": null,
      "display": null,
      "flex": null,
      "flex_flow": null,
      "grid_area": null,
      "grid_auto_columns": null,
      "grid_auto_flow": null,
      "grid_auto_rows": null,
      "grid_column": null,
      "grid_gap": null,
      "grid_row": null,
      "grid_template_areas": null,
      "grid_template_columns": null,
      "grid_template_rows": null,
      "height": null,
      "justify_content": null,
      "justify_items": null,
      "left": null,
      "margin": null,
      "max_height": null,
      "max_width": null,
      "min_height": null,
      "min_width": null,
      "object_fit": null,
      "object_position": null,
      "order": null,
      "overflow": null,
      "overflow_x": null,
      "overflow_y": null,
      "padding": null,
      "right": null,
      "top": null,
      "visibility": null,
      "width": null
     }
    },
    "d6b16d9619aa4719b311673bf9e7b3e9": {
     "model_module": "@jupyter-widgets/controls",
     "model_name": "DescriptionStyleModel",
     "state": {
      "_model_module": "@jupyter-widgets/controls",
      "_model_module_version": "1.5.0",
      "_model_name": "DescriptionStyleModel",
      "_view_count": null,
      "_view_module": "@jupyter-widgets/base",
      "_view_module_version": "1.2.0",
      "_view_name": "StyleView",
      "description_width": ""
     }
    },
    "fb3b08fa95e14fe79e05d8309688f513": {
     "model_module": "@jupyter-widgets/controls",
     "model_name": "ProgressStyleModel",
     "state": {
      "_model_module": "@jupyter-widgets/controls",
      "_model_module_version": "1.5.0",
      "_model_name": "ProgressStyleModel",
      "_view_count": null,
      "_view_module": "@jupyter-widgets/base",
      "_view_module_version": "1.2.0",
      "_view_name": "StyleView",
      "bar_color": null,
      "description_width": "initial"
     }
    }
   }
  }
 },
 "nbformat": 4,
 "nbformat_minor": 1
}
